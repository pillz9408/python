{
 "cells": [
  {
   "cell_type": "markdown",
   "id": "60ada86d",
   "metadata": {},
   "source": [
    "# 1. 라이브러리 불러오기"
   ]
  },
  {
   "cell_type": "code",
   "execution_count": 1,
   "id": "2296902a",
   "metadata": {},
   "outputs": [],
   "source": [
    "import tensorflow as tf\n",
    "from tensorflow.keras import datasets, layers, models\n",
    "from keras.utils.vis_utils import plot_model\n",
    "import matplotlib.pyplot as plt\n",
    "import numpy as np"
   ]
  },
  {
   "cell_type": "markdown",
   "id": "3e3e3a35",
   "metadata": {},
   "source": [
    "# 2. 데이터 블러오기"
   ]
  },
  {
   "cell_type": "code",
   "execution_count": 2,
   "id": "6edba40a",
   "metadata": {},
   "outputs": [],
   "source": [
    "# 훈련용(train), 평가용(test)\n",
    "(train_images,train_labels), (test_images,test_labels) = datasets.mnist.load_data()"
   ]
  },
  {
   "cell_type": "code",
   "execution_count": 3,
   "id": "528c1117",
   "metadata": {},
   "outputs": [
    {
     "data": {
      "text/plain": [
       "((60000, 28, 28), (60000,))"
      ]
     },
     "execution_count": 3,
     "metadata": {},
     "output_type": "execute_result"
    }
   ],
   "source": [
    "# 훈련용 데이터 확인\n",
    "train_images.shape, train_labels.shape"
   ]
  },
  {
   "cell_type": "code",
   "execution_count": 4,
   "id": "7eb320ab",
   "metadata": {},
   "outputs": [
    {
     "data": {
      "text/plain": [
       "((10000, 28, 28), (10000,))"
      ]
     },
     "execution_count": 4,
     "metadata": {},
     "output_type": "execute_result"
    }
   ],
   "source": [
    "# 평가용 데이터 확인\n",
    "test_images.shape, test_labels.shape"
   ]
  },
  {
   "cell_type": "markdown",
   "id": "578abbe5",
   "metadata": {},
   "source": [
    "# 3. 데이터와 정답이 정확하게 일치하는지 확인"
   ]
  },
  {
   "cell_type": "code",
   "execution_count": 5,
   "id": "f579e449",
   "metadata": {},
   "outputs": [
    {
     "data": {
      "text/plain": [
       "<matplotlib.image.AxesImage at 0x13590fefcd0>"
      ]
     },
     "execution_count": 5,
     "metadata": {},
     "output_type": "execute_result"
    },
    {
     "data": {
      "image/png": "[encoded data removed]",
      "text/plain": [
       "<Figure size 640x480 with 1 Axes>"
      ]
     },
     "metadata": {},
     "output_type": "display_data"
    }
   ],
   "source": [
    "plt.imshow(train_images[49999], cmap='Greys')"
   ]
  },
  {
   "cell_type": "code",
   "execution_count": 6,
   "id": "3e8bf9c5",
   "metadata": {},
   "outputs": [
    {
     "data": {
      "text/plain": [
       "8"
      ]
     },
     "execution_count": 6,
     "metadata": {},
     "output_type": "execute_result"
    }
   ],
   "source": [
    "train_labels[49999]"
   ]
  },
  {
   "cell_type": "code",
   "execution_count": 7,
   "id": "6ad07ac3",
   "metadata": {},
   "outputs": [
    {
     "data": {
      "text/plain": [
       "<matplotlib.image.AxesImage at 0x13591042070>"
      ]
     },
     "execution_count": 7,
     "metadata": {},
     "output_type": "execute_result"
    },
    {
     "data": {
      "image/png": "[encoded data removed]",
      "text/plain": [
       "<Figure size 640x480 with 1 Axes>"
      ]
     },
     "metadata": {},
     "output_type": "display_data"
    }
   ],
   "source": [
    "plt.imshow(test_images[9999], cmap='Greys')"
   ]
  },
  {
   "cell_type": "code",
   "execution_count": 8,
   "id": "4dd21f93",
   "metadata": {},
   "outputs": [
    {
     "data": {
      "text/plain": [
       "6"
      ]
     },
     "execution_count": 8,
     "metadata": {},
     "output_type": "execute_result"
    }
   ],
   "source": [
    "test_labels[9999]"
   ]
  },
  {
   "cell_type": "markdown",
   "id": "172a5ae6",
   "metadata": {},
   "source": [
    "# 4. 데이터 전처리 하기(reshape)"
   ]
  },
  {
   "cell_type": "code",
   "execution_count": 9,
   "id": "3dc4ce6a",
   "metadata": {},
   "outputs": [],
   "source": [
    "# reshape로 만들 데이터파일\n",
    "# train_images.shape -> (60000, 28, 28) 를 reshape를 통해서 (60000, 28, 28, 1)\n",
    "# test_images.shape -> (10000, 28, 28) 를 reshape를 통해서 (10000, 28, 28, 1)\n",
    "train_images = train_images.reshape((60000, 28, 28, 1))"
   ]
  },
  {
   "cell_type": "code",
   "execution_count": 10,
   "id": "8c644244",
   "metadata": {},
   "outputs": [
    {
     "data": {
      "text/plain": [
       "(60000, 28, 28, 1)"
      ]
     },
     "execution_count": 10,
     "metadata": {},
     "output_type": "execute_result"
    }
   ],
   "source": [
    "train_images.shape"
   ]
  },
  {
   "cell_type": "code",
   "execution_count": 11,
   "id": "585a19ed",
   "metadata": {},
   "outputs": [],
   "source": [
    "test_images = test_images.reshape((10000, 28, 28, 1))"
   ]
  },
  {
   "cell_type": "code",
   "execution_count": 12,
   "id": "b1d4b022",
   "metadata": {},
   "outputs": [
    {
     "data": {
      "text/plain": [
       "(10000, 28, 28, 1)"
      ]
     },
     "execution_count": 12,
     "metadata": {},
     "output_type": "execute_result"
    }
   ],
   "source": [
    "test_images.shape"
   ]
  },
  {
   "cell_type": "code",
   "execution_count": 13,
   "id": "374f3980",
   "metadata": {},
   "outputs": [],
   "source": [
    "# 0~ 255 값을 0~1 사이로 표준화 작업\n",
    "train_images, test_images = train_images / 255.0, test_images / 255.0"
   ]
  },
  {
   "cell_type": "markdown",
   "id": "9024d754",
   "metadata": {},
   "source": [
    "# 5. 신경망 모델 설계하기"
   ]
  },
  {
   "cell_type": "code",
   "execution_count": 14,
   "id": "f97b598e",
   "metadata": {},
   "outputs": [],
   "source": [
    "# keras의 모델을 설계하는 방법\n",
    "model = models.Sequential()\n",
    "model.add(layers.Conv2D(32, (3,3), activation='relu', input_shape=(28,28,1)))\n",
    "model.add(layers.MaxPooling2D((2,2)))\n",
    "model.add(layers.Conv2D(64, (3, 3), activation='relu'))\n",
    "model.add(layers.MaxPooling2D((2, 2)))\n",
    "model.add(layers.Conv2D(64, (3, 3), activation='relu'))\n",
    "model.add(layers.MaxPooling2D((2, 2)))"
   ]
  },
  {
   "cell_type": "code",
   "execution_count": 15,
   "id": "aa8d7ff2",
   "metadata": {},
   "outputs": [
    {
     "name": "stdout",
     "output_type": "stream",
     "text": [
      "Model: \"sequential\"\n",
      "_________________________________________________________________\n",
      " Layer (type)                Output Shape              Param #   \n",
      "=================================================================\n",
      " conv2d (Conv2D)             (None, 26, 26, 32)        320       \n",
      "                                                                 \n",
      " max_pooling2d (MaxPooling2D  (None, 13, 13, 32)       0         \n",
      " )                                                               \n",
      "                                                                 \n",
      " conv2d_1 (Conv2D)           (None, 11, 11, 64)        18496     \n",
      "                                                                 \n",
      " max_pooling2d_1 (MaxPooling  (None, 5, 5, 64)         0         \n",
      " 2D)                                                             \n",
      "                                                                 \n",
      " conv2d_2 (Conv2D)           (None, 3, 3, 64)          36928     \n",
      "                                                                 \n",
      " max_pooling2d_2 (MaxPooling  (None, 1, 1, 64)         0         \n",
      " 2D)                                                             \n",
      "                                                                 \n",
      "=================================================================\n",
      "Total params: 55,744\n",
      "Trainable params: 55,744\n",
      "Non-trainable params: 0\n",
      "_________________________________________________________________\n"
     ]
    }
   ],
   "source": [
    "model.summary()"
   ]
  },
  {
   "cell_type": "code",
   "execution_count": 16,
   "id": "c798f530",
   "metadata": {},
   "outputs": [],
   "source": [
    "model.add(layers.Flatten())\n",
    "model.add(layers.Dense(64, activation='relu'))\n",
    "model.add(layers.Dense(10, activation='softmax'))"
   ]
  },
  {
   "cell_type": "code",
   "execution_count": 17,
   "id": "54c0ea02",
   "metadata": {},
   "outputs": [
    {
     "name": "stdout",
     "output_type": "stream",
     "text": [
      "Model: \"sequential\"\n",
      "_________________________________________________________________\n",
      " Layer (type)                Output Shape              Param #   \n",
      "=================================================================\n",
      " conv2d (Conv2D)             (None, 26, 26, 32)        320       \n",
      "                                                                 \n",
      " max_pooling2d (MaxPooling2D  (None, 13, 13, 32)       0         \n",
      " )                                                               \n",
      "                                                                 \n",
      " conv2d_1 (Conv2D)           (None, 11, 11, 64)        18496     \n",
      "                                                                 \n",
      " max_pooling2d_1 (MaxPooling  (None, 5, 5, 64)         0         \n",
      " 2D)                                                             \n",
      "                                                                 \n",
      " conv2d_2 (Conv2D)           (None, 3, 3, 64)          36928     \n",
      "                                                                 \n",
      " max_pooling2d_2 (MaxPooling  (None, 1, 1, 64)         0         \n",
      " 2D)                                                             \n",
      "                                                                 \n",
      " flatten (Flatten)           (None, 64)                0         \n",
      "                                                                 \n",
      " dense (Dense)               (None, 64)                4160      \n",
      "                                                                 \n",
      " dense_1 (Dense)             (None, 10)                650       \n",
      "                                                                 \n",
      "=================================================================\n",
      "Total params: 60,554\n",
      "Trainable params: 60,554\n",
      "Non-trainable params: 0\n",
      "_________________________________________________________________\n"
     ]
    }
   ],
   "source": [
    "model.summary()"
   ]
  },
  {
   "cell_type": "code",
   "execution_count": 18,
   "id": "427b4ee8",
   "metadata": {},
   "outputs": [
    {
     "name": "stdout",
     "output_type": "stream",
     "text": [
      "You must install pydot (`pip install pydot`) and install graphviz (see instructions at https://graphviz.gitlab.io/download/) for plot_model to work.\n"
     ]
    }
   ],
   "source": [
    "# pyplot으로 모델 확인\n",
    "plot_model(model, show_shapes=True, dpi=80)"
   ]
  },
  {
   "cell_type": "markdown",
   "id": "4e956b6b",
   "metadata": {},
   "source": [
    "# 6. 모델 컴파일 하기"
   ]
  },
  {
   "cell_type": "code",
   "execution_count": 19,
   "id": "9dfaabac",
   "metadata": {},
   "outputs": [],
   "source": [
    "model.compile(optimizer='adam',\n",
    "             loss='sparse_categorical_crossentropy',\n",
    "             metrics=['accuracy']\n",
    "             )"
   ]
  },
  {
   "cell_type": "markdown",
   "id": "da2617e6",
   "metadata": {},
   "source": [
    "# 7. 모델 훈련 하기"
   ]
  },
  {
   "cell_type": "code",
   "execution_count": 20,
   "id": "cf7ce04e",
   "metadata": {},
   "outputs": [
    {
     "name": "stdout",
     "output_type": "stream",
     "text": [
      "Epoch 1/10\n",
      "3750/3750 [==============================] - 20s 5ms/step - loss: 0.1879 - accuracy: 0.9423 - val_loss: 0.1102 - val_accuracy: 0.9677\n",
      "Epoch 2/10\n",
      "3750/3750 [==============================] - 20s 5ms/step - loss: 0.0692 - accuracy: 0.9783 - val_loss: 0.0518 - val_accuracy: 0.9844\n",
      "Epoch 3/10\n",
      "3750/3750 [==============================] - 28s 8ms/step - loss: 0.0500 - accuracy: 0.9846 - val_loss: 0.0572 - val_accuracy: 0.9820\n",
      "Epoch 4/10\n",
      "3750/3750 [==============================] - 20s 5ms/step - loss: 0.0387 - accuracy: 0.9879 - val_loss: 0.0528 - val_accuracy: 0.9853\n",
      "Epoch 5/10\n",
      "3750/3750 [==============================] - 24s 6ms/step - loss: 0.0303 - accuracy: 0.9903 - val_loss: 0.0482 - val_accuracy: 0.9865\n",
      "Epoch 6/10\n",
      "3750/3750 [==============================] - 25s 7ms/step - loss: 0.0252 - accuracy: 0.9923 - val_loss: 0.0469 - val_accuracy: 0.9878\n",
      "Epoch 7/10\n",
      "3750/3750 [==============================] - 24s 6ms/step - loss: 0.0219 - accuracy: 0.9929 - val_loss: 0.0533 - val_accuracy: 0.9871\n",
      "Epoch 8/10\n",
      "3750/3750 [==============================] - 26s 7ms/step - loss: 0.0196 - accuracy: 0.9938 - val_loss: 0.0510 - val_accuracy: 0.9874\n",
      "Epoch 9/10\n",
      "3750/3750 [==============================] - 31s 8ms/step - loss: 0.0166 - accuracy: 0.9946 - val_loss: 0.0480 - val_accuracy: 0.9896\n",
      "Epoch 10/10\n",
      "3750/3750 [==============================] - 25s 7ms/step - loss: 0.0142 - accuracy: 0.9955 - val_loss: 0.0648 - val_accuracy: 0.9858\n"
     ]
    }
   ],
   "source": [
    "history = model.fit(train_images,train_labels,batch_size=16, epochs=10, verbose=1,validation_data=(test_images,test_labels))"
   ]
  },
  {
   "cell_type": "markdown",
   "id": "e3d2fb17",
   "metadata": {},
   "source": [
    "# 8. 훈련결과 분석하기"
   ]
  },
  {
   "cell_type": "code",
   "execution_count": 21,
   "id": "16c73237",
   "metadata": {},
   "outputs": [
    {
     "data": {
      "text/plain": [
       "dict_keys(['loss', 'accuracy', 'val_loss', 'val_accuracy'])"
      ]
     },
     "execution_count": 21,
     "metadata": {},
     "output_type": "execute_result"
    }
   ],
   "source": [
    "history.history.keys()"
   ]
  },
  {
   "cell_type": "code",
   "execution_count": 22,
   "id": "7f95e89d",
   "metadata": {},
   "outputs": [
    {
     "data": {
      "image/png": "[encoded data removed]",
      "text/plain": [
       "<Figure size 640x480 with 1 Axes>"
      ]
     },
     "metadata": {},
     "output_type": "display_data"
    },
    {
     "data": {
      "image/png": "[encoded data removed]",
      "text/plain": [
       "<Figure size 640x480 with 1 Axes>"
      ]
     },
     "metadata": {},
     "output_type": "display_data"
    }
   ],
   "source": [
    "plt.plot(history.history['accuracy'])\n",
    "plt.plot(history.history['val_accuracy'])\n",
    "plt.title('model accuracy')\n",
    "plt.ylabel('accuracy')\n",
    "plt.xlabel('epoch')\n",
    "plt.legend(['trian','test'], loc='upper left')\n",
    "plt.show()\n",
    "\n",
    "plt.plot(history.history['loss'])\n",
    "plt.plot(history.history['val_loss'])\n",
    "plt.title('model loss')\n",
    "plt.ylabel('loss')\n",
    "plt.xlabel('epoch')\n",
    "plt.legend(['trian','test'], loc='upper left')\n",
    "plt.show()"
   ]
  },
  {
   "cell_type": "markdown",
   "id": "e6a70db3",
   "metadata": {},
   "source": [
    "# 9. 모델 평가하기"
   ]
  },
  {
   "cell_type": "code",
   "execution_count": 23,
   "id": "609cde2a",
   "metadata": {},
   "outputs": [
    {
     "name": "stdout",
     "output_type": "stream",
     "text": [
      "313/313 - 1s - loss: 0.0648 - accuracy: 0.9858 - 915ms/epoch - 3ms/step\n"
     ]
    }
   ],
   "source": [
    "loss, acc = model.evaluate(test_images, test_labels, verbose=2)"
   ]
  },
  {
   "cell_type": "code",
   "execution_count": 24,
   "id": "83e1811b",
   "metadata": {},
   "outputs": [
    {
     "data": {
      "text/plain": [
       "0.98580002784729"
      ]
     },
     "execution_count": 24,
     "metadata": {},
     "output_type": "execute_result"
    }
   ],
   "source": [
    "acc"
   ]
  },
  {
   "cell_type": "markdown",
   "id": "76615c92",
   "metadata": {},
   "source": [
    "# 10. 예측하기"
   ]
  },
  {
   "cell_type": "code",
   "execution_count": 25,
   "id": "c65b6778",
   "metadata": {},
   "outputs": [
    {
     "name": "stdout",
     "output_type": "stream",
     "text": [
      "313/313 [==============================] - 1s 3ms/step\n"
     ]
    }
   ],
   "source": [
    "result = model.predict(test_images)"
   ]
  },
  {
   "cell_type": "code",
   "execution_count": 26,
   "id": "4e2760f7",
   "metadata": {},
   "outputs": [
    {
     "data": {
      "text/plain": [
       "array([3.0945759e-09, 1.4196715e-11, 1.8707078e-07, 2.5485905e-12,\n",
       "       4.1610373e-10, 6.9019244e-08, 9.9999964e-01, 1.8970218e-15,\n",
       "       1.0241840e-09, 5.3122421e-13], dtype=float32)"
      ]
     },
     "execution_count": 26,
     "metadata": {},
     "output_type": "execute_result"
    }
   ],
   "source": [
    "result[9999]"
   ]
  },
  {
   "cell_type": "code",
   "execution_count": 27,
   "id": "2ee04b35",
   "metadata": {},
   "outputs": [
    {
     "name": "stdout",
     "output_type": "stream",
     "text": [
      "예측 결과값 = 6\n"
     ]
    }
   ],
   "source": [
    "# 가장 높은 활률의 배열 위치를 찾는 명령\n",
    "result_value = np.argmax(result[9999])\n",
    "print(\"예측 결과값 = %d\" % (result_value))"
   ]
  },
  {
   "cell_type": "code",
   "execution_count": 28,
   "id": "eb278d9b",
   "metadata": {},
   "outputs": [
    {
     "data": {
      "text/plain": [
       "<matplotlib.image.AxesImage at 0x1359019e6a0>"
      ]
     },
     "execution_count": 28,
     "metadata": {},
     "output_type": "execute_result"
    },
    {
     "data": {
      "image/png": "[encoded data removed]",
      "text/plain": [
       "<Figure size 640x480 with 1 Axes>"
      ]
     },
     "metadata": {},
     "output_type": "display_data"
    }
   ],
   "source": [
    "plt.imshow(test_images[9999], cmap='Greys')"
   ]
  },
  {
   "cell_type": "code",
   "execution_count": 29,
   "id": "a5c7082c",
   "metadata": {},
   "outputs": [
    {
     "data": {
      "text/plain": [
       "6"
      ]
     },
     "execution_count": 29,
     "metadata": {},
     "output_type": "execute_result"
    }
   ],
   "source": [
    "test_labels[9999]"
   ]
  },
  {
   "cell_type": "markdown",
   "id": "50cc5fcc",
   "metadata": {},
   "source": [
    "# 11. 실제 데이터 파일로 검증하기"
   ]
  },
  {
   "cell_type": "code",
   "execution_count": 30,
   "id": "e691f798",
   "metadata": {},
   "outputs": [],
   "source": [
    "from PIL import Image, ImageOps"
   ]
  },
  {
   "cell_type": "code",
   "execution_count": 31,
   "id": "b23d4dc5",
   "metadata": {},
   "outputs": [],
   "source": [
    "image = Image.open('4.jpg')\n",
    "image = image.convert('L')"
   ]
  },
  {
   "cell_type": "code",
   "execution_count": 32,
   "id": "cb217c6c",
   "metadata": {},
   "outputs": [
    {
     "name": "stderr",
     "output_type": "stream",
     "text": [
      "C:\\Users\\user\\AppData\\Local\\Temp\\ipykernel_10112\\2152114397.py:3: DeprecationWarning: ANTIALIAS is deprecated and will be removed in Pillow 10 (2023-07-01). Use Resampling.LANCZOS instead.\n",
      "  image = ImageOps.fit(image, size, Image.ANTIALIAS)\n"
     ]
    },
    {
     "data": {
      "text/plain": [
       "(1, 28, 28, 1)"
      ]
     },
     "execution_count": 32,
     "metadata": {},
     "output_type": "execute_result"
    }
   ],
   "source": [
    "data = np.ndarray(shape=(1, 28, 28, 1), dtype=np.float32)\n",
    "size = (28, 28)\n",
    "image = ImageOps.fit(image, size, Image.ANTIALIAS)\n",
    "\n",
    "image_array = np.asarray(image)\n",
    "normalized_image_array = (image_array.astype(np.float32) / 127.0) - 1\n",
    "data = normalized_image_array\n",
    "\n",
    "img_data = data.reshape(1, 28, 28, 1)\n",
    "img_data.shape\n",
    "# data[0] = normalized_image_array\n"
   ]
  },
  {
   "cell_type": "code",
   "execution_count": 33,
   "id": "bbf13621",
   "metadata": {},
   "outputs": [
    {
     "data": {
      "text/plain": [
       "<matplotlib.image.AxesImage at 0x13590203b20>"
      ]
     },
     "execution_count": 33,
     "metadata": {},
     "output_type": "execute_result"
    },
    {
     "data": {
      "image/png": "[encoded data removed]",
      "text/plain": [
       "<Figure size 640x480 with 1 Axes>"
      ]
     },
     "metadata": {},
     "output_type": "display_data"
    }
   ],
   "source": [
    "plt.imshow(data, cmap='Greys')"
   ]
  },
  {
   "cell_type": "code",
   "execution_count": 34,
   "id": "10a5c1ad",
   "metadata": {},
   "outputs": [
    {
     "name": "stdout",
     "output_type": "stream",
     "text": [
      "1/1 [==============================] - 0s 13ms/step\n"
     ]
    }
   ],
   "source": [
    "real_result = model.predict(img_data)"
   ]
  },
  {
   "cell_type": "code",
   "execution_count": 35,
   "id": "a73a3d36",
   "metadata": {},
   "outputs": [
    {
     "data": {
      "text/plain": [
       "array([[1.5836490e-07, 1.5432588e-03, 4.3439539e-04, 7.6363256e-07,\n",
       "        9.7079873e-01, 5.7930874e-06, 1.2621292e-05, 2.6696691e-02,\n",
       "        5.0013291e-04, 7.4003328e-06]], dtype=float32)"
      ]
     },
     "execution_count": 35,
     "metadata": {},
     "output_type": "execute_result"
    }
   ],
   "source": [
    "real_result"
   ]
  },
  {
   "cell_type": "code",
   "execution_count": 36,
   "id": "19db8b4d",
   "metadata": {},
   "outputs": [
    {
     "name": "stdout",
     "output_type": "stream",
     "text": [
      "예측 결과값 = 4\n"
     ]
    }
   ],
   "source": [
    "# 가장 높은 활률의 배열 위치를 찾는 명령\n",
    "real_value = np.argmax(real_result)\n",
    "print(\"예측 결과값 = %d\" % (real_value))"
   ]
  },
  {
   "cell_type": "code",
   "execution_count": 37,
   "id": "f056f496",
   "metadata": {},
   "outputs": [],
   "source": [
    "# 모델 저장하기\n",
    "model.save('mnist_cnn.h5')"
   ]
  }
 ],
 "metadata": {
  "kernelspec": {
   "display_name": "Python 3.8.9 64-bit",
   "language": "python",
   "name": "python3"
  },
  "language_info": {
   "codemirror_mode": {
    "name": "ipython",
    "version": 3
   },
   "file_extension": ".py",
   "mimetype": "text/x-python",
   "name": "python",
   "nbconvert_exporter": "python",
   "pygments_lexer": "ipython3",
   "version": "3.8.9"
  },
  "vscode": {
   "interpreter": {
    "hash": "6a926afa313b26ae1264fdcf81c726a97e69f6ba2ba780f6aa901948710f8d6e"
   }
  }
 },
 "nbformat": 4,
 "nbformat_minor": 5
}
