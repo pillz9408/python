{
 "cells": [
  {
   "cell_type": "code",
   "execution_count": 211,
   "metadata": {},
   "outputs": [],
   "source": [
    "from selenium import webdriver\n",
    "from webdriver_manager.chrome import ChromeDriverManager\n",
    "import pandas as pd\n",
    "import numpy as np\n",
    "import time\n",
    "from tqdm.notebook import tqdm\n",
    "from selenium.webdriver.common.keys import Keys\n",
    "from bs4 import BeautifulSoup as bs\n",
    "import requests as req\n",
    "from selenium.webdriver.common.action_chains import ActionChains"
   ]
  },
  {
   "cell_type": "code",
   "execution_count": 212,
   "metadata": {},
   "outputs": [
    {
     "data": {
      "text/html": [
       "<div>\n",
       "<style scoped>\n",
       "    .dataframe tbody tr th:only-of-type {\n",
       "        vertical-align: middle;\n",
       "    }\n",
       "\n",
       "    .dataframe tbody tr th {\n",
       "        vertical-align: top;\n",
       "    }\n",
       "\n",
       "    .dataframe thead th {\n",
       "        text-align: right;\n",
       "    }\n",
       "</style>\n",
       "<table border=\"1\" class=\"dataframe\">\n",
       "  <thead>\n",
       "    <tr style=\"text-align: right;\">\n",
       "      <th></th>\n",
       "      <th>Unnamed: 0</th>\n",
       "      <th>상호명</th>\n",
       "    </tr>\n",
       "  </thead>\n",
       "  <tbody>\n",
       "    <tr>\n",
       "      <th>0</th>\n",
       "      <td>0</td>\n",
       "      <td>애플하우스 이수</td>\n",
       "    </tr>\n",
       "    <tr>\n",
       "      <th>1</th>\n",
       "      <td>1</td>\n",
       "      <td>원조부안집 이수점</td>\n",
       "    </tr>\n",
       "    <tr>\n",
       "      <th>2</th>\n",
       "      <td>2</td>\n",
       "      <td>세녹</td>\n",
       "    </tr>\n",
       "    <tr>\n",
       "      <th>3</th>\n",
       "      <td>3</td>\n",
       "      <td>스시로로</td>\n",
       "    </tr>\n",
       "    <tr>\n",
       "      <th>4</th>\n",
       "      <td>4</td>\n",
       "      <td>방배김밥</td>\n",
       "    </tr>\n",
       "    <tr>\n",
       "      <th>...</th>\n",
       "      <td>...</td>\n",
       "      <td>...</td>\n",
       "    </tr>\n",
       "    <tr>\n",
       "      <th>495</th>\n",
       "      <td>495</td>\n",
       "      <td>한앤둘치킨호프 이수역직영점</td>\n",
       "    </tr>\n",
       "    <tr>\n",
       "      <th>496</th>\n",
       "      <td>496</td>\n",
       "      <td>매드포갈릭 사당점</td>\n",
       "    </tr>\n",
       "    <tr>\n",
       "      <th>497</th>\n",
       "      <td>497</td>\n",
       "      <td>민속떡집</td>\n",
       "    </tr>\n",
       "    <tr>\n",
       "      <th>498</th>\n",
       "      <td>498</td>\n",
       "      <td>전원일기</td>\n",
       "    </tr>\n",
       "    <tr>\n",
       "      <th>499</th>\n",
       "      <td>499</td>\n",
       "      <td>고양이부엌 방배사이길점</td>\n",
       "    </tr>\n",
       "  </tbody>\n",
       "</table>\n",
       "<p>500 rows × 2 columns</p>\n",
       "</div>"
      ],
      "text/plain": [
       "     Unnamed: 0             상호명\n",
       "0             0        애플하우스 이수\n",
       "1             1       원조부안집 이수점\n",
       "2             2              세녹\n",
       "3             3            스시로로\n",
       "4             4            방배김밥\n",
       "..          ...             ...\n",
       "495         495  한앤둘치킨호프 이수역직영점\n",
       "496         496       매드포갈릭 사당점\n",
       "497         497            민속떡집\n",
       "498         498            전원일기\n",
       "499         499    고양이부엌 방배사이길점\n",
       "\n",
       "[500 rows x 2 columns]"
      ]
     },
     "execution_count": 212,
     "metadata": {},
     "output_type": "execute_result"
    }
   ],
   "source": [
    "data = pd.read_csv('./storeTitle.csv',encoding='utf-8')\n",
    "data\n",
    "data"
   ]
  },
  {
   "cell_type": "code",
   "execution_count": 213,
   "metadata": {},
   "outputs": [
    {
     "data": {
      "text/plain": [
       "'원조부안집 이수점'"
      ]
     },
     "execution_count": 213,
     "metadata": {},
     "output_type": "execute_result"
    }
   ],
   "source": [
    "\n",
    "\n",
    "a = data.values\n",
    "a[:,1][1]"
   ]
  },
  {
   "cell_type": "code",
   "execution_count": 214,
   "metadata": {},
   "outputs": [
    {
     "data": {
      "text/plain": [
       "500"
      ]
     },
     "execution_count": 214,
     "metadata": {},
     "output_type": "execute_result"
    }
   ],
   "source": [
    "title = data.values\n",
    "\n",
    "len(title)"
   ]
  },
  {
   "cell_type": "code",
   "execution_count": 226,
   "metadata": {},
   "outputs": [
    {
     "name": "stdout",
     "output_type": "stream",
     "text": [
      "역전할머니맥주 이수역점\n"
     ]
    }
   ],
   "source": [
    "print(title[:,1][])"
   ]
  },
  {
   "cell_type": "code",
   "execution_count": 216,
   "metadata": {},
   "outputs": [],
   "source": [
    "driver = webdriver.Chrome(ChromeDriverManager().install())"
   ]
  },
  {
   "cell_type": "code",
   "execution_count": 217,
   "metadata": {},
   "outputs": [],
   "source": [
    "driver.get('https://www.google.co.kr/')\n",
    "driver.maximize_window()\n",
    "time.sleep(1)"
   ]
  },
  {
   "cell_type": "code",
   "execution_count": 218,
   "metadata": {},
   "outputs": [],
   "source": [
    "home = driver.find_element_by_xpath('/html/body/div[1]/div[3]/form/div[1]/div[1]/div[1]/div/div[2]/input')\n",
    "home.send_keys('시작')\n",
    "home.send_keys(Keys.ENTER)\n",
    "time.sleep(2)"
   ]
  },
  {
   "cell_type": "code",
   "execution_count": 219,
   "metadata": {},
   "outputs": [],
   "source": [
    "result_list = []\n",
    "\n",
    "for i in range(5):\n",
    "    search = driver.find_element_by_xpath('//*[@id=\"tsf\"]/div[1]/div[1]/div[2]/div/div[2]/input')\n",
    "    name = title\n",
    "    search.send_keys(Keys.CONTROL + \"a\")\n",
    "    search.send_keys(Keys.DELETE)\n",
    "    search.click()\n",
    "    time.sleep(2)\n",
    "    search.send_keys('\"{}\"'.format(title[:,1][i]) + '\"영양성분표\"')\n",
    "    time.sleep(3)\n",
    "    search.send_keys(Keys.ENTER)\n",
    "    time.sleep(2)\n",
    "    result = driver.find_element_by_xpath('//*[@id=\"result-stats\"]')\n",
    "    for i in result.text:\n",
    "        rs = result.text\n",
    "        rs = rs.replace('검색결과','')\n",
    "        rs = rs.replace('약','')\n",
    "        rs = rs.replace(' ','')\n",
    "        rs = rs.replace('개','')\n",
    "        result_list.append(rs)\n",
    "    \n",
    "\n",
    "    \n",
    "    "
   ]
  },
  {
   "cell_type": "code",
   "execution_count": 220,
   "metadata": {},
   "outputs": [
    {
     "data": {
      "text/plain": [
       "['0(0.19초)',\n",
       " '0(0.19초)',\n",
       " '0(0.19초)',\n",
       " '0(0.19초)',\n",
       " '0(0.19초)',\n",
       " '0(0.19초)',\n",
       " '0(0.19초)',\n",
       " '0(0.19초)',\n",
       " '0(0.19초)',\n",
       " '0(0.19초)',\n",
       " '0(0.19초)',\n",
       " '0(0.19초)',\n",
       " '0(0.19초)',\n",
       " '0(0.19초)',\n",
       " '0(0.19초)',\n",
       " '0(0.19초)',\n",
       " '0(0.19초)',\n",
       " '0(0.19초)',\n",
       " '0(0.21초)',\n",
       " '0(0.21초)',\n",
       " '0(0.21초)',\n",
       " '0(0.21초)',\n",
       " '0(0.21초)',\n",
       " '0(0.21초)',\n",
       " '0(0.21초)',\n",
       " '0(0.21초)',\n",
       " '0(0.21초)',\n",
       " '0(0.21초)',\n",
       " '0(0.21초)',\n",
       " '0(0.21초)',\n",
       " '0(0.21초)',\n",
       " '0(0.21초)',\n",
       " '0(0.21초)',\n",
       " '0(0.21초)',\n",
       " '0(0.21초)',\n",
       " '0(0.21초)',\n",
       " '1(0.18초)',\n",
       " '1(0.18초)',\n",
       " '1(0.18초)',\n",
       " '1(0.18초)',\n",
       " '1(0.18초)',\n",
       " '1(0.18초)',\n",
       " '1(0.18초)',\n",
       " '1(0.18초)',\n",
       " '1(0.18초)',\n",
       " '1(0.18초)',\n",
       " '1(0.18초)',\n",
       " '1(0.18초)',\n",
       " '1(0.18초)',\n",
       " '1(0.18초)',\n",
       " '1(0.18초)',\n",
       " '1(0.18초)',\n",
       " '1(0.18초)',\n",
       " '1(0.18초)',\n",
       " '4(0.22초)',\n",
       " '4(0.22초)',\n",
       " '4(0.22초)',\n",
       " '4(0.22초)',\n",
       " '4(0.22초)',\n",
       " '4(0.22초)',\n",
       " '4(0.22초)',\n",
       " '4(0.22초)',\n",
       " '4(0.22초)',\n",
       " '4(0.22초)',\n",
       " '4(0.22초)',\n",
       " '4(0.22초)',\n",
       " '4(0.22초)',\n",
       " '4(0.22초)',\n",
       " '4(0.22초)',\n",
       " '4(0.22초)',\n",
       " '4(0.22초)',\n",
       " '4(0.22초)',\n",
       " '5(0.26초)',\n",
       " '5(0.26초)',\n",
       " '5(0.26초)',\n",
       " '5(0.26초)',\n",
       " '5(0.26초)',\n",
       " '5(0.26초)',\n",
       " '5(0.26초)',\n",
       " '5(0.26초)',\n",
       " '5(0.26초)',\n",
       " '5(0.26초)',\n",
       " '5(0.26초)',\n",
       " '5(0.26초)',\n",
       " '5(0.26초)',\n",
       " '5(0.26초)',\n",
       " '5(0.26초)',\n",
       " '5(0.26초)',\n",
       " '5(0.26초)',\n",
       " '5(0.26초)']"
      ]
     },
     "execution_count": 220,
     "metadata": {},
     "output_type": "execute_result"
    }
   ],
   "source": [
    "result_list"
   ]
  }
 ],
 "metadata": {
  "kernelspec": {
   "display_name": "Python 3.9.12 ('base')",
   "language": "python",
   "name": "python3"
  },
  "language_info": {
   "codemirror_mode": {
    "name": "ipython",
    "version": 3
   },
   "file_extension": ".py",
   "mimetype": "text/x-python",
   "name": "python",
   "nbconvert_exporter": "python",
   "pygments_lexer": "ipython3",
   "version": "3.9.12"
  },
  "orig_nbformat": 4,
  "vscode": {
   "interpreter": {
    "hash": "39a34cc34fa105d8ec3534aa54504572aead214367e412b05dc49f32cf35b4ec"
   }
  }
 },
 "nbformat": 4,
 "nbformat_minor": 2
}
