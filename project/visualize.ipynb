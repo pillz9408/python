{
 "cells": [
  {
   "cell_type": "code",
   "execution_count": 1,
   "metadata": {},
   "outputs": [],
   "source": [
    "import seaborn as sns\n",
    "import numpy as np\n",
    "import pandas as pd\n",
    "import matplotlib.pyplot as plt\n",
    "%matplotlib inline\n",
    "from matplotlib import font_manager,rc\n",
    "font_name = font_manager.FontProperties(fname = 'C:/Windows/Fonts/malgun.ttf').get_name()\n",
    "rc('font',family = font_name)\n",
    "import warnings\n",
    "warnings.filterwarnings('ignore')\n",
    "from matplotlib.pylab import rcParams\n",
    "rcParams['font.family'] = 'malgun Gothic'\n",
    "rcParams['figure.figsize'] = 17,8"
   ]
  },
  {
   "cell_type": "code",
   "execution_count": 6,
   "metadata": {},
   "outputs": [
    {
     "data": {
      "text/html": [
       "<div>\n",
       "<style scoped>\n",
       "    .dataframe tbody tr th:only-of-type {\n",
       "        vertical-align: middle;\n",
       "    }\n",
       "\n",
       "    .dataframe tbody tr th {\n",
       "        vertical-align: top;\n",
       "    }\n",
       "\n",
       "    .dataframe thead th {\n",
       "        text-align: right;\n",
       "    }\n",
       "</style>\n",
       "<table border=\"1\" class=\"dataframe\">\n",
       "  <thead>\n",
       "    <tr style=\"text-align: right;\">\n",
       "      <th></th>\n",
       "      <th>검색결과</th>\n",
       "    </tr>\n",
       "    <tr>\n",
       "      <th>음식점</th>\n",
       "      <th></th>\n",
       "    </tr>\n",
       "  </thead>\n",
       "  <tbody>\n",
       "    <tr>\n",
       "      <th>애플하우스 이수</th>\n",
       "      <td>0(0.22초)</td>\n",
       "    </tr>\n",
       "    <tr>\n",
       "      <th>원조부안집</th>\n",
       "      <td>5(0.25초)</td>\n",
       "    </tr>\n",
       "    <tr>\n",
       "      <th>세녹</th>\n",
       "      <td>1(0.20초)</td>\n",
       "    </tr>\n",
       "    <tr>\n",
       "      <th>스시로로</th>\n",
       "      <td>4(0.23초)</td>\n",
       "    </tr>\n",
       "    <tr>\n",
       "      <th>방배김밥</th>\n",
       "      <td>5(0.26초)</td>\n",
       "    </tr>\n",
       "    <tr>\n",
       "      <th>...</th>\n",
       "      <td>...</td>\n",
       "    </tr>\n",
       "    <tr>\n",
       "      <th>한앤둘치킨호프</th>\n",
       "      <td>0(0.23초)</td>\n",
       "    </tr>\n",
       "    <tr>\n",
       "      <th>매드포갈릭</th>\n",
       "      <td>112(0.36초)</td>\n",
       "    </tr>\n",
       "    <tr>\n",
       "      <th>민속떡집</th>\n",
       "      <td>6(0.26초)</td>\n",
       "    </tr>\n",
       "    <tr>\n",
       "      <th>전원일기</th>\n",
       "      <td>192(0.29초)</td>\n",
       "    </tr>\n",
       "    <tr>\n",
       "      <th>고양이부엌</th>\n",
       "      <td>3(0.25초)</td>\n",
       "    </tr>\n",
       "  </tbody>\n",
       "</table>\n",
       "<p>500 rows × 1 columns</p>\n",
       "</div>"
      ],
      "text/plain": [
       "                검색결과\n",
       "음식점                 \n",
       "애플하우스 이수    0(0.22초)\n",
       "원조부안집       5(0.25초)\n",
       "세녹          1(0.20초)\n",
       "스시로로        4(0.23초)\n",
       "방배김밥        5(0.26초)\n",
       "...              ...\n",
       "한앤둘치킨호프     0(0.23초)\n",
       "매드포갈릭     112(0.36초)\n",
       "민속떡집        6(0.26초)\n",
       "전원일기      192(0.29초)\n",
       "고양이부엌       3(0.25초)\n",
       "\n",
       "[500 rows x 1 columns]"
      ]
     },
     "execution_count": 6,
     "metadata": {},
     "output_type": "execute_result"
    }
   ],
   "source": [
    "data = pd.read_csv('./result_list2.csv',encoding='utf-8',index_col='음식점')\n",
    "df = data.drop(columns='Unnamed: 0')\n",
    "df"
   ]
  },
  {
   "cell_type": "code",
   "execution_count": null,
   "metadata": {},
   "outputs": [],
   "source": []
  }
 ],
 "metadata": {
  "kernelspec": {
   "display_name": "Python 3.9.12 ('base')",
   "language": "python",
   "name": "python3"
  },
  "language_info": {
   "codemirror_mode": {
    "name": "ipython",
    "version": 3
   },
   "file_extension": ".py",
   "mimetype": "text/x-python",
   "name": "python",
   "nbconvert_exporter": "python",
   "pygments_lexer": "ipython3",
   "version": "3.9.12"
  },
  "orig_nbformat": 4,
  "vscode": {
   "interpreter": {
    "hash": "39a34cc34fa105d8ec3534aa54504572aead214367e412b05dc49f32cf35b4ec"
   }
  }
 },
 "nbformat": 4,
 "nbformat_minor": 2
}
