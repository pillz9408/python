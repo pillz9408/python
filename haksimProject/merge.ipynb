{
 "cells": [
  {
   "cell_type": "code",
   "execution_count": 35,
   "metadata": {},
   "outputs": [],
   "source": [
    "import pandas as pd\n",
    "import numpy as np"
   ]
  },
  {
   "cell_type": "code",
   "execution_count": 36,
   "metadata": {},
   "outputs": [],
   "source": [
    "df18 = pd.read_csv('./18년태교.csv')\n",
    "df19 = pd.read_csv('./태교2019.csv')\n",
    "df20 = pd.read_csv('./20년도 태교.csv')\n",
    "df21 = pd.read_csv('./태교2021.csv')\n",
    "df22 = pd.read_csv('./22년 태교.csv')"
   ]
  },
  {
   "cell_type": "code",
   "execution_count": 37,
   "metadata": {},
   "outputs": [],
   "source": [
    "del df18['Unnamed: 0']\n",
    "del df19['Unnamed: 0']\n",
    "del df20['Unnamed: 0']\n",
    "del df21['Unnamed: 0']\n",
    "del df22['Unnamed: 0']"
   ]
  },
  {
   "cell_type": "code",
   "execution_count": 38,
   "metadata": {},
   "outputs": [],
   "source": [
    "df18 = pd.DataFrame(df18)\n",
    "df19 = pd.DataFrame(df19)\n",
    "df20 = pd.DataFrame(df20)\n",
    "df21 = pd.DataFrame(df21)\n",
    "df22 = pd.DataFrame(df22)"
   ]
  },
  {
   "cell_type": "code",
   "execution_count": 39,
   "metadata": {},
   "outputs": [],
   "source": [
    "data = pd.concat([df18,df19,df20,df21,df22])"
   ]
  },
  {
   "cell_type": "code",
   "execution_count": 40,
   "metadata": {},
   "outputs": [
    {
     "name": "stdout",
     "output_type": "stream",
     "text": [
      "<class 'pandas.core.frame.DataFrame'>\n",
      "Int64Index: 21663 entries, 0 to 4789\n",
      "Data columns (total 5 columns):\n",
      " #   Column   Non-Null Count  Dtype \n",
      "---  ------   --------------  ----- \n",
      " 0   time     21663 non-null  object\n",
      " 1   review   21663 non-null  object\n",
      " 2   like     21663 non-null  object\n",
      " 3   url      21663 non-null  object\n",
      " 4   comment  16609 non-null  object\n",
      "dtypes: object(5)\n",
      "memory usage: 1015.5+ KB\n"
     ]
    }
   ],
   "source": [
    "data.info()"
   ]
  },
  {
   "cell_type": "code",
   "execution_count": 41,
   "metadata": {},
   "outputs": [
    {
     "data": {
      "text/plain": [
       "5054"
      ]
     },
     "execution_count": 41,
     "metadata": {},
     "output_type": "execute_result"
    }
   ],
   "source": [
    "sum(data['comment'].isnull())"
   ]
  },
  {
   "cell_type": "code",
   "execution_count": 46,
   "metadata": {},
   "outputs": [
    {
     "data": {
      "text/plain": [
       "0       []\n",
       "1       []\n",
       "2       []\n",
       "3       []\n",
       "4       []\n",
       "        ..\n",
       "4785    []\n",
       "4786    []\n",
       "4787    []\n",
       "4788    []\n",
       "4789    []\n",
       "Name: comment, Length: 21663, dtype: object"
      ]
     },
     "execution_count": 46,
     "metadata": {},
     "output_type": "execute_result"
    }
   ],
   "source": [
    "data['comment'].fillna(' ')"
   ]
  },
  {
   "cell_type": "code",
   "execution_count": 48,
   "metadata": {},
   "outputs": [
    {
     "data": {
      "text/plain": [
       "21663"
      ]
     },
     "execution_count": 48,
     "metadata": {},
     "output_type": "execute_result"
    }
   ],
   "source": [
    "len(data['comment'])"
   ]
  },
  {
   "cell_type": "code",
   "execution_count": 49,
   "metadata": {},
   "outputs": [],
   "source": [
    "data.to_csv('태교.csv',encoding='utf-8-sig')"
   ]
  }
 ],
 "metadata": {
  "kernelspec": {
   "display_name": "Python 3.8.9 64-bit",
   "language": "python",
   "name": "python3"
  },
  "language_info": {
   "codemirror_mode": {
    "name": "ipython",
    "version": 3
   },
   "file_extension": ".py",
   "mimetype": "text/x-python",
   "name": "python",
   "nbconvert_exporter": "python",
   "pygments_lexer": "ipython3",
   "version": "3.8.9"
  },
  "orig_nbformat": 4,
  "vscode": {
   "interpreter": {
    "hash": "6a926afa313b26ae1264fdcf81c726a97e69f6ba2ba780f6aa901948710f8d6e"
   }
  }
 },
 "nbformat": 4,
 "nbformat_minor": 2
}
