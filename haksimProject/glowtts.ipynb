{
 "cells": [
  {
   "cell_type": "markdown",
   "metadata": {},
   "source": [
    "SCE-TTS: Glow-TTS 학습\n",
    "이 문서는 SCE-TTS 프로젝트의 Glow-TTS 학습용 문서입니다.\n",
    "\n",
    "이 데모에 대한 더 자세한 정보는 아래 링크에서 확인하실 수 있습니다.\n",
    "https://sce-tts.github.io/\n",
    "\n",
    "실제 학습을 진행하시려면, 위쪽 메뉴에서 런타임 -> 모두 실행을 클릭하신 후,\n",
    "문서 최하단의 Glow-TTS 학습 진행까지 정상적으로 실행되는걸 확인해주시면 됩니다.\n",
    "\n",
    "도중에 문제가 발생한다면, 문제의 원인을 해결한 후 런타임 -> 런타임 초기화를 클릭하고,\n",
    "다시 런타임 -> 모두 실행을 클릭해주세요."
   ]
  },
  {
   "cell_type": "code",
   "execution_count": 1,
   "metadata": {},
   "outputs": [
    {
     "name": "stderr",
     "output_type": "stream",
     "text": [
      "'pip'��(��) ���� �Ǵ� �ܺ� ����, ������ �� �ִ� ���α׷�, �Ǵ�\n",
      "��ġ ������ �ƴմϴ�.\n",
      "'pip'��(��) ���� �Ǵ� �ܺ� ����, ������ �� �ִ� ���α׷�, �Ǵ�\n",
      "��ġ ������ �ƴմϴ�.\n"
     ]
    }
   ],
   "source": [
    "!pip install folium==0.2.1\n",
    "!pip install imgaug==0.2.5"
   ]
  },
  {
   "cell_type": "code",
   "execution_count": 2,
   "metadata": {},
   "outputs": [
    {
     "ename": "ModuleNotFoundError",
     "evalue": "No module named 'google'",
     "output_type": "error",
     "traceback": [
      "\u001b[1;31m---------------------------------------------------------------------------\u001b[0m",
      "\u001b[1;31mModuleNotFoundError\u001b[0m                       Traceback (most recent call last)",
      "Cell \u001b[1;32mIn[2], line 1\u001b[0m\n\u001b[1;32m----> 1\u001b[0m \u001b[39mfrom\u001b[39;00m \u001b[39mgoogle\u001b[39;00m\u001b[39m.\u001b[39;00m\u001b[39mcolab\u001b[39;00m \u001b[39mimport\u001b[39;00m drive\n\u001b[0;32m      2\u001b[0m drive\u001b[39m.\u001b[39mmount(\u001b[39m'\u001b[39m\u001b[39m/content/drive\u001b[39m\u001b[39m'\u001b[39m)\n",
      "\u001b[1;31mModuleNotFoundError\u001b[0m: No module named 'google'"
     ]
    }
   ],
   "source": [
    "from google.colab import drive\n",
    "drive.mount('/content/drive')"
   ]
  },
  {
   "cell_type": "code",
   "execution_count": null,
   "metadata": {},
   "outputs": [],
   "source": [
    "from pathlib import Path\n",
    "import sys"
   ]
  },
  {
   "cell_type": "code",
   "execution_count": null,
   "metadata": {},
   "outputs": [],
   "source": [
    "%cd /content\n",
    "!git clone --depth 1 https://github.com/sce-tts/TTS.git -b sce-tts\n",
    "%cd /content/TTS\n",
    "!python setup.py develop"
   ]
  },
  {
   "cell_type": "code",
   "execution_count": null,
   "metadata": {},
   "outputs": [],
   "source": [
    "%cd /content/TTS\n",
    "!cp \"/content/drive/My Drive/Colab Notebooks/data/filelists.zip\" ./filelists.zip\n",
    "!rm -rf ./filelists\n",
    "!unzip -q filelists.zip -d ./filelists"
   ]
  },
  {
   "cell_type": "code",
   "execution_count": null,
   "metadata": {},
   "outputs": [],
   "source": [
    "%cd /content/TTS\n",
    "!mkdir -p \"/content/drive/My Drive/Colab Notebooks/data/glowtts-v2\"\n",
    "if not Path(\"/content/drive/My Drive/Colab Notebooks/data/glowtts-v2/config.json\").exists():\n",
    "    #!gdown --id 1DMKLdfZ_gzc_z0qDod6_G8fEXj0zCHvC -O glowtts-v2.zip\n",
    "    #!unzip -q glowtts-v2.zip -d ./\n",
    "    !cp -R ./glowtts-v2/* \"/content/drive/My Drive/Colab Notebooks/data/glowtts-v2/\""
   ]
  },
  {
   "cell_type": "code",
   "execution_count": null,
   "metadata": {},
   "outputs": [],
   "source": [
    "%cd /content/TTS\n",
    "if not Path(\"/content/drive/My Drive/Colab Notebooks/data/glowtts-v2/scale_stats_new.npy\").exists():\n",
    "    !python TTS/bin/compute_statistics.py \"/content/drive/My Drive/Colab Notebooks/data/glowtts-v2/config.json\" \"/content/drive/My Drive/Colab Notebooks/data/glowtts-v2/scale_stats_new.npy\" --data_path \"/content/TTS/filelists/wavs/\""
   ]
  },
  {
   "cell_type": "code",
   "execution_count": null,
   "metadata": {},
   "outputs": [],
   "source": [
    "with open(\"/content/TTS/test_sentences.txt\", mode=\"w\") as f:\n",
    "    f.write(\"\"\"아래 문장들은 모델 학습을 위해 사용하지 않은 문장들입니다.\n",
    "서울특별시 특허허가과 허가과장 허과장.\n",
    "경찰청 철창살은 외철창살이고 검찰청 철창살은 쌍철창살이다.\n",
    "지향을 지양으로 오기하는 일을 지양하는 언어 습관을 지향해야 한다.\n",
    "그러니까 외계인이 우리 생각을 읽고 우리 생각을 우리가 다시 생각토록 해서 그 생각이 마치 우리가 생각한 것인 것처럼 속였다는 거냐?\"\"\")"
   ]
  },
  {
   "cell_type": "code",
   "execution_count": null,
   "metadata": {},
   "outputs": [],
   "source": [
    "%load_ext tensorboard\n",
    "%tensorboard --logdir=\"/content/drive/My Drive/Colab Notebooks/data/glowtts-v2\""
   ]
  },
  {
   "cell_type": "markdown",
   "metadata": {},
   "source": [
    "\n",
    "7. Glow-TTS 학습 진행\n",
    "실제 Glow-TTS 학습을 진행합니다.\n",
    "\n",
    "학습이 정상적으로 진행되면, 이 셀은 종료되지 않고 계속 실행되는 상태를 유지합니다.\n",
    "\n",
    "학습 진행 정도를 시각적으로 확인하시려면 바로 위의 TensorBoard를 참고해주세요.\n",
    "\n",
    "학습된 결과를 확인하고 싶으시다면, 가장 최근 체크포인트를 SCE-TTS: 음성합성 데모에서 불러와 확인할 수 있습니다.\n",
    "\n",
    "처음 학습을 수행할 때에는 아래 셀을 그대로 실행하면 됩니다.\n",
    "\n",
    "이전에 학습을 진행하던 모델을 이어서 학습을 진행하시려면 다음과 같이 수정한 후 실행해주세요.\n",
    "\n",
    "아래 셀에서 2 ~ 3번째 줄의 코드를 주석을 해제합니다.\n",
    "3번째 줄의 경로를 이어서 학습을 진행할 모델의 경로로 변경합니다.\n",
    "(예시: /content/drive/My Drive/Colab Notebooks/data/glowtts-v2/glowtts-v2-May-31-2021_08+17AM-d897f2e)\n",
    "4번째 줄 아래의 코드를 제거합니다."
   ]
  },
  {
   "cell_type": "code",
   "execution_count": null,
   "metadata": {},
   "outputs": [],
   "source": [
    "%cd /content/TTS\n",
    "!(python TTS/bin/train_glow_tts.py \\\n",
    "    --continue_path \"/content/drive/My Drive/Colab Notebooks/data/glowtts-v2/glowtts-v2-December-02-2022_05+30AM-3aa165a\")\n",
    "!(python TTS/bin/train_glow_tts.py \\\n",
    "    --config_path \"/content/drive/My Drive/Colab Notebooks/data/glowtts-v2/config.json\" \\\n",
    "    # --coqpit.datasets.0.path \"/content/TTS/filelists\"  \\\n",
    "    # --coqpit.audio.stats_path \"/content/drive/My Drive/Colab Notebooks/data/glowtts-v2/scale_stats_new.npy\"  \\\n",
    "    # --coqpit.test_sentences_file \"/content/TTS/test_sentences.txt\"  \\\n",
    "    # --coqpit.output_path \"/content/drive/My Drive/Colab Notebooks/data/glowtts-v2/\"  \\\n",
    "    # --coqpit.num_loader_workers 2  \\\n",
    "    # --coqpit.num_val_loader_workers 2  \\\n",
    "    # --restore_path \"/content/drive/My Drive/Colab Notebooks/data/glowtts-v2/model_file.pth.tar\")"
   ]
  }
 ],
 "metadata": {
  "kernelspec": {
   "display_name": "Python 3.8.10 64-bit",
   "language": "python",
   "name": "python3"
  },
  "language_info": {
   "codemirror_mode": {
    "name": "ipython",
    "version": 3
   },
   "file_extension": ".py",
   "mimetype": "text/x-python",
   "name": "python",
   "nbconvert_exporter": "python",
   "pygments_lexer": "ipython3",
   "version": "3.8.10"
  },
  "orig_nbformat": 4,
  "vscode": {
   "interpreter": {
    "hash": "ae67a6725675bfca038963dfb64819569a961a98c263198fbc54dfb281584a03"
   }
  }
 },
 "nbformat": 4,
 "nbformat_minor": 2
}
