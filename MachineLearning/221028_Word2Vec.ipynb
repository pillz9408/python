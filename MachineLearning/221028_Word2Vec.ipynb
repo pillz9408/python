{
 "cells": [
  {
   "cell_type": "code",
   "execution_count": 101,
   "metadata": {},
   "outputs": [],
   "source": [
    "import matplotlib.pyplot as plt\n",
    "plt.rcParams['font.family']='Malgun Gothic'\n",
    "plt.rcParams['axes.unicode_minus']= False"
   ]
  },
  {
   "cell_type": "code",
   "execution_count": 102,
   "metadata": {},
   "outputs": [],
   "source": [
    "import numpy as np \n",
    "import pandas as pd\n",
    "import re\n",
    "from konlpy.tag import Okt\n",
    "from tqdm import tqdm"
   ]
  },
  {
   "cell_type": "code",
   "execution_count": 103,
   "metadata": {},
   "outputs": [],
   "source": [
    "data = pd.read_table('./ratings.txt')"
   ]
  },
  {
   "cell_type": "code",
   "execution_count": 104,
   "metadata": {},
   "outputs": [
    {
     "data": {
      "text/plain": [
       "194543"
      ]
     },
     "execution_count": 104,
     "metadata": {},
     "output_type": "execute_result"
    }
   ],
   "source": [
    "data['document'].nunique()"
   ]
  },
  {
   "cell_type": "code",
   "execution_count": 105,
   "metadata": {},
   "outputs": [],
   "source": [
    "#중복 제거\n",
    "data.drop_duplicates(subset=['document'], inplace=True)"
   ]
  },
  {
   "cell_type": "code",
   "execution_count": 106,
   "metadata": {},
   "outputs": [
    {
     "data": {
      "text/plain": [
       "<AxesSubplot:>"
      ]
     },
     "execution_count": 106,
     "metadata": {},
     "output_type": "execute_result"
    },
    {
     "data": {
      "image/png": "[encoded data removed]",
      "text/plain": [
       "<Figure size 432x288 with 1 Axes>"
      ]
     },
     "metadata": {
      "needs_background": "light"
     },
     "output_type": "display_data"
    }
   ],
   "source": [
    "data['label'].value_counts().plot(kind='bar')"
   ]
  },
  {
   "cell_type": "code",
   "execution_count": 107,
   "metadata": {},
   "outputs": [
    {
     "data": {
      "text/html": [
       "<div>\n",
       "<style scoped>\n",
       "    .dataframe tbody tr th:only-of-type {\n",
       "        vertical-align: middle;\n",
       "    }\n",
       "\n",
       "    .dataframe tbody tr th {\n",
       "        vertical-align: top;\n",
       "    }\n",
       "\n",
       "    .dataframe thead th {\n",
       "        text-align: right;\n",
       "    }\n",
       "</style>\n",
       "<table border=\"1\" class=\"dataframe\">\n",
       "  <thead>\n",
       "    <tr style=\"text-align: right;\">\n",
       "      <th></th>\n",
       "      <th>label</th>\n",
       "      <th>count</th>\n",
       "    </tr>\n",
       "  </thead>\n",
       "  <tbody>\n",
       "    <tr>\n",
       "      <th>0</th>\n",
       "      <td>0</td>\n",
       "      <td>97277</td>\n",
       "    </tr>\n",
       "    <tr>\n",
       "      <th>1</th>\n",
       "      <td>1</td>\n",
       "      <td>97267</td>\n",
       "    </tr>\n",
       "  </tbody>\n",
       "</table>\n",
       "</div>"
      ],
      "text/plain": [
       "   label  count\n",
       "0      0  97277\n",
       "1      1  97267"
      ]
     },
     "execution_count": 107,
     "metadata": {},
     "output_type": "execute_result"
    }
   ],
   "source": [
    "data.groupby('label').size().reset_index(name=('count'))"
   ]
  },
  {
   "cell_type": "code",
   "execution_count": 108,
   "metadata": {},
   "outputs": [
    {
     "data": {
      "text/plain": [
       "True"
      ]
     },
     "execution_count": 108,
     "metadata": {},
     "output_type": "execute_result"
    }
   ],
   "source": [
    "data.isnull().values.any()"
   ]
  },
  {
   "cell_type": "code",
   "execution_count": 109,
   "metadata": {},
   "outputs": [
    {
     "data": {
      "text/plain": [
       "id          0\n",
       "document    1\n",
       "label       0\n",
       "dtype: int64"
      ]
     },
     "execution_count": 109,
     "metadata": {},
     "output_type": "execute_result"
    }
   ],
   "source": [
    "data.isnull().sum()"
   ]
  },
  {
   "cell_type": "code",
   "execution_count": 110,
   "metadata": {},
   "outputs": [
    {
     "data": {
      "text/html": [
       "<div>\n",
       "<style scoped>\n",
       "    .dataframe tbody tr th:only-of-type {\n",
       "        vertical-align: middle;\n",
       "    }\n",
       "\n",
       "    .dataframe tbody tr th {\n",
       "        vertical-align: top;\n",
       "    }\n",
       "\n",
       "    .dataframe thead th {\n",
       "        text-align: right;\n",
       "    }\n",
       "</style>\n",
       "<table border=\"1\" class=\"dataframe\">\n",
       "  <thead>\n",
       "    <tr style=\"text-align: right;\">\n",
       "      <th></th>\n",
       "      <th>id</th>\n",
       "      <th>document</th>\n",
       "      <th>label</th>\n",
       "    </tr>\n",
       "  </thead>\n",
       "  <tbody>\n",
       "    <tr>\n",
       "      <th>46471</th>\n",
       "      <td>6369843</td>\n",
       "      <td>NaN</td>\n",
       "      <td>1</td>\n",
       "    </tr>\n",
       "  </tbody>\n",
       "</table>\n",
       "</div>"
      ],
      "text/plain": [
       "            id document  label\n",
       "46471  6369843      NaN      1"
      ]
     },
     "execution_count": 110,
     "metadata": {},
     "output_type": "execute_result"
    }
   ],
   "source": [
    "data.loc[data.document.isnull()]"
   ]
  },
  {
   "cell_type": "code",
   "execution_count": 111,
   "metadata": {},
   "outputs": [],
   "source": [
    "data.dropna(inplace=True)"
   ]
  },
  {
   "cell_type": "code",
   "execution_count": 112,
   "metadata": {},
   "outputs": [
    {
     "data": {
      "text/plain": [
       "id          0\n",
       "document    0\n",
       "label       0\n",
       "dtype: int64"
      ]
     },
     "execution_count": 112,
     "metadata": {},
     "output_type": "execute_result"
    }
   ],
   "source": [
    "data.isnull().sum()"
   ]
  },
  {
   "cell_type": "code",
   "execution_count": 113,
   "metadata": {},
   "outputs": [
    {
     "data": {
      "text/plain": [
       "194543"
      ]
     },
     "execution_count": 113,
     "metadata": {},
     "output_type": "execute_result"
    }
   ],
   "source": [
    "len(data)"
   ]
  },
  {
   "cell_type": "code",
   "execution_count": 114,
   "metadata": {},
   "outputs": [
    {
     "name": "stderr",
     "output_type": "stream",
     "text": [
      "C:\\Users\\user\\AppData\\Local\\Temp\\ipykernel_7160\\1396448148.py:2: FutureWarning: The default value of regex will change from True to False in a future version.\n",
      "  data['document'] = data['document'].str.replace('[^ㄱ-ㅎㅏ-ㅣ가-힣]',' ')\n"
     ]
    }
   ],
   "source": [
    "#영어,특수문자 제거, 한글만을 남기게 정규식 사용\n",
    "data['document'] = data['document'].str.replace('[^ㄱ-ㅎㅏ-ㅣ가-힣]',' ')"
   ]
  },
  {
   "cell_type": "code",
   "execution_count": 115,
   "metadata": {},
   "outputs": [
    {
     "data": {
      "text/html": [
       "<div>\n",
       "<style scoped>\n",
       "    .dataframe tbody tr th:only-of-type {\n",
       "        vertical-align: middle;\n",
       "    }\n",
       "\n",
       "    .dataframe tbody tr th {\n",
       "        vertical-align: top;\n",
       "    }\n",
       "\n",
       "    .dataframe thead th {\n",
       "        text-align: right;\n",
       "    }\n",
       "</style>\n",
       "<table border=\"1\" class=\"dataframe\">\n",
       "  <thead>\n",
       "    <tr style=\"text-align: right;\">\n",
       "      <th></th>\n",
       "      <th>id</th>\n",
       "      <th>document</th>\n",
       "      <th>label</th>\n",
       "    </tr>\n",
       "  </thead>\n",
       "  <tbody>\n",
       "    <tr>\n",
       "      <th>0</th>\n",
       "      <td>8112052</td>\n",
       "      <td>어릴때보고 지금다시봐도 재밌어요ㅋㅋ</td>\n",
       "      <td>1</td>\n",
       "    </tr>\n",
       "    <tr>\n",
       "      <th>1</th>\n",
       "      <td>8132799</td>\n",
       "      <td>디자인을 배우는 학생으로  외국디자이너와 그들이 일군 전통을 통해 발전해가는 문화산...</td>\n",
       "      <td>1</td>\n",
       "    </tr>\n",
       "    <tr>\n",
       "      <th>2</th>\n",
       "      <td>4655635</td>\n",
       "      <td>폴리스스토리 시리즈는  부터 뉴까지 버릴께 하나도 없음   최고</td>\n",
       "      <td>1</td>\n",
       "    </tr>\n",
       "    <tr>\n",
       "      <th>3</th>\n",
       "      <td>9251303</td>\n",
       "      <td>와   연기가 진짜 개쩔구나   지루할거라고 생각했는데 몰입해서 봤다   그래 이런...</td>\n",
       "      <td>1</td>\n",
       "    </tr>\n",
       "    <tr>\n",
       "      <th>4</th>\n",
       "      <td>10067386</td>\n",
       "      <td>안개 자욱한 밤하늘에 떠 있는 초승달 같은 영화</td>\n",
       "      <td>1</td>\n",
       "    </tr>\n",
       "    <tr>\n",
       "      <th>...</th>\n",
       "      <td>...</td>\n",
       "      <td>...</td>\n",
       "      <td>...</td>\n",
       "    </tr>\n",
       "    <tr>\n",
       "      <th>199995</th>\n",
       "      <td>8963373</td>\n",
       "      <td>포켓 몬스터 짜가 ㅡㅡ</td>\n",
       "      <td>0</td>\n",
       "    </tr>\n",
       "    <tr>\n",
       "      <th>199996</th>\n",
       "      <td>3302770</td>\n",
       "      <td>쓰 레 기</td>\n",
       "      <td>0</td>\n",
       "    </tr>\n",
       "    <tr>\n",
       "      <th>199997</th>\n",
       "      <td>5458175</td>\n",
       "      <td>완전 사이코영화  마지막은 더욱더 이 영화의질을 떨어트린다</td>\n",
       "      <td>0</td>\n",
       "    </tr>\n",
       "    <tr>\n",
       "      <th>199998</th>\n",
       "      <td>6908648</td>\n",
       "      <td>왜난 재미없었지 ㅠㅠ 라따뚜이 보고나서 스머프 봐서 그런가 ㅋㅋ</td>\n",
       "      <td>0</td>\n",
       "    </tr>\n",
       "    <tr>\n",
       "      <th>199999</th>\n",
       "      <td>8548411</td>\n",
       "      <td>포풍저그가나가신다영차영차영차</td>\n",
       "      <td>0</td>\n",
       "    </tr>\n",
       "  </tbody>\n",
       "</table>\n",
       "<p>194543 rows × 3 columns</p>\n",
       "</div>"
      ],
      "text/plain": [
       "              id                                           document  label\n",
       "0        8112052                                어릴때보고 지금다시봐도 재밌어요ㅋㅋ      1\n",
       "1        8132799  디자인을 배우는 학생으로  외국디자이너와 그들이 일군 전통을 통해 발전해가는 문화산...      1\n",
       "2        4655635               폴리스스토리 시리즈는  부터 뉴까지 버릴께 하나도 없음   최고       1\n",
       "3        9251303  와   연기가 진짜 개쩔구나   지루할거라고 생각했는데 몰입해서 봤다   그래 이런...      1\n",
       "4       10067386                        안개 자욱한 밤하늘에 떠 있는 초승달 같은 영화       1\n",
       "...          ...                                                ...    ...\n",
       "199995   8963373                                     포켓 몬스터 짜가 ㅡㅡ        0\n",
       "199996   3302770                                              쓰 레 기      0\n",
       "199997   5458175                  완전 사이코영화  마지막은 더욱더 이 영화의질을 떨어트린다       0\n",
       "199998   6908648                왜난 재미없었지 ㅠㅠ 라따뚜이 보고나서 스머프 봐서 그런가 ㅋㅋ      0\n",
       "199999   8548411                                    포풍저그가나가신다영차영차영차      0\n",
       "\n",
       "[194543 rows x 3 columns]"
      ]
     },
     "execution_count": 115,
     "metadata": {},
     "output_type": "execute_result"
    }
   ],
   "source": [
    "data"
   ]
  },
  {
   "cell_type": "code",
   "execution_count": 116,
   "metadata": {},
   "outputs": [
    {
     "data": {
      "text/plain": [
       "id          0\n",
       "document    0\n",
       "label       0\n",
       "dtype: int64"
      ]
     },
     "execution_count": 116,
     "metadata": {},
     "output_type": "execute_result"
    }
   ],
   "source": [
    "data.isnull().sum()"
   ]
  },
  {
   "cell_type": "code",
   "execution_count": 117,
   "metadata": {},
   "outputs": [],
   "source": [
    "data['document'].replace('',np.nan, inplace=True)"
   ]
  },
  {
   "cell_type": "code",
   "execution_count": 118,
   "metadata": {},
   "outputs": [
    {
     "data": {
      "text/plain": [
       "id          0\n",
       "document    0\n",
       "label       0\n",
       "dtype: int64"
      ]
     },
     "execution_count": 118,
     "metadata": {},
     "output_type": "execute_result"
    }
   ],
   "source": [
    "data.isnull().sum()"
   ]
  },
  {
   "cell_type": "code",
   "execution_count": 119,
   "metadata": {},
   "outputs": [],
   "source": [
    "from sklearn.model_selection import train_test_split\n",
    "x_train, x_test, y_train, y_test = train_test_split(data.document, data.label, random_state=1234)"
   ]
  },
  {
   "cell_type": "code",
   "execution_count": 120,
   "metadata": {},
   "outputs": [],
   "source": [
    "stopwords = ['의','가','이','은','들','는','좀','잘','걍','과','도','를','으로',\n",
    "             '자','에','와','한','하다']\n"
   ]
  },
  {
   "cell_type": "code",
   "execution_count": 121,
   "metadata": {},
   "outputs": [],
   "source": [
    "okt = Okt()"
   ]
  },
  {
   "cell_type": "code",
   "execution_count": 122,
   "metadata": {},
   "outputs": [
    {
     "data": {
      "text/plain": [
       "['오늘', '날씨', '가', '춥다', '기분', '이', '좋다', '않다']"
      ]
     },
     "execution_count": 122,
     "metadata": {},
     "output_type": "execute_result"
    }
   ],
   "source": [
    "okt.morphs('오늘 날씨가 추워서 기분이 좋지않다', stem=True)"
   ]
  },
  {
   "cell_type": "code",
   "execution_count": 124,
   "metadata": {},
   "outputs": [],
   "source": [
    "x_train = x_train[:10000]\n",
    "x_test = x_test[:10000]\n",
    "y_train = y_train[:10000]\n",
    "y_test = y_test[:10000]"
   ]
  },
  {
   "cell_type": "code",
   "execution_count": 125,
   "metadata": {},
   "outputs": [
    {
     "name": "stderr",
     "output_type": "stream",
     "text": [
      "100%|██████████| 10000/10000 [00:16<00:00, 624.04it/s]\n"
     ]
    }
   ],
   "source": [
    "train_x = []\n",
    "\n",
    "for s in tqdm(x_train):\n",
    "    temp_x = []\n",
    "    temp_x = okt.morphs(s, stem=True)\n",
    "    temp_x = [word for word in temp_x if not word in stopwords]\n",
    "    train_x.append(temp_x)"
   ]
  },
  {
   "cell_type": "code",
   "execution_count": 126,
   "metadata": {},
   "outputs": [
    {
     "name": "stderr",
     "output_type": "stream",
     "text": [
      "100%|██████████| 10000/10000 [00:23<00:00, 426.10it/s]\n"
     ]
    }
   ],
   "source": [
    "test_x = []\n",
    "\n",
    "for s in tqdm(x_train):\n",
    "    temp_x = []\n",
    "    temp_x = okt.morphs(s, stem=True)\n",
    "    temp_x = [word for word in temp_x if not word in stopwords]\n",
    "    test_x.append(temp_x)"
   ]
  },
  {
   "cell_type": "markdown",
   "metadata": {},
   "source": [
    "### word2vec 적용"
   ]
  },
  {
   "cell_type": "code",
   "execution_count": 128,
   "metadata": {},
   "outputs": [],
   "source": [
    "from gensim.models import Word2Vec"
   ]
  },
  {
   "cell_type": "code",
   "execution_count": 132,
   "metadata": {},
   "outputs": [],
   "source": [
    "w2v = Word2Vec(train_x, vector_size=300, window=3, min_count=5) #vector_size= 텍스트에 대해 몇차원으로 변환해주는 변수 (한글 =50~300차원이 좋다)\n"
   ]
  },
  {
   "cell_type": "code",
   "execution_count": 133,
   "metadata": {},
   "outputs": [],
   "source": [
    "word_vectors = w2v.wv"
   ]
  },
  {
   "cell_type": "code",
   "execution_count": 141,
   "metadata": {},
   "outputs": [],
   "source": [
    "vocabs = word_vectors.key_to_index"
   ]
  },
  {
   "cell_type": "code",
   "execution_count": 151,
   "metadata": {},
   "outputs": [
    {
     "data": {
      "text/plain": [
       "2724"
      ]
     },
     "execution_count": 151,
     "metadata": {},
     "output_type": "execute_result"
    }
   ],
   "source": [
    "len(vocabs)"
   ]
  },
  {
   "cell_type": "code",
   "execution_count": 144,
   "metadata": {},
   "outputs": [],
   "source": [
    "word_vectors_list =[word_vectors[v] for v in vocabs]"
   ]
  },
  {
   "cell_type": "code",
   "execution_count": 145,
   "metadata": {},
   "outputs": [
    {
     "name": "stdout",
     "output_type": "stream",
     "text": [
      "[array([ 0.01370581,  0.3212177 , -0.02713719,  0.21897395, -0.02308831,\n",
      "       -0.23793253,  0.13510993,  0.5944346 ,  0.09400882, -0.14526936,\n",
      "        0.14015177, -0.30503505,  0.042162  , -0.02821291, -0.19357693,\n",
      "       -0.28117564,  0.09619983, -0.05367788,  0.1281928 , -0.1313717 ,\n",
      "       -0.16883245, -0.08516304,  0.22943853,  0.06535878,  0.22919358,\n",
      "        0.07905169, -0.30683467,  0.03626047, -0.14418977, -0.182577  ,\n",
      "        0.06699216, -0.11787911,  0.05952772, -0.03418445, -0.00884419,\n",
      "        0.13583487,  0.09255058, -0.28270867,  0.06598908, -0.03304175,\n",
      "       -0.04837876,  0.03019455,  0.03303807, -0.23653752,  0.12336852,\n",
      "        0.2095696 ,  0.05530983,  0.11417405, -0.06281349,  0.1616099 ,\n",
      "        0.09737303, -0.01607275, -0.14956623,  0.08283284, -0.09186435,\n",
      "        0.18930958,  0.12233128, -0.03181431, -0.02209492, -0.10247698,\n",
      "       -0.14682105, -0.08513953, -0.06478926,  0.08712196, -0.03098176,\n",
      "        0.06747453,  0.01316692,  0.07279626, -0.18494552, -0.11084166,\n",
      "        0.06734907,  0.16496508,  0.24975623, -0.17716157, -0.04499286,\n",
      "        0.13928707, -0.19418074,  0.0037436 , -0.11168947,  0.26877767,\n",
      "       -0.12485409, -0.2783507 ,  0.04369987,  0.4298808 ,  0.00272888,\n",
      "        0.00077154, -0.09177303,  0.04974898,  0.15963122,  0.04779478,\n",
      "        0.21999128, -0.18552433,  0.16411093,  0.07261848,  0.17940418,\n",
      "        0.26328382,  0.24761865, -0.16337563, -0.12937412,  0.18263055,\n",
      "       -0.04988256, -0.00994734,  0.097336  ,  0.09974068,  0.02576989,\n",
      "       -0.17845055, -0.0627829 , -0.01785635, -0.21951549,  0.05848612,\n",
      "       -0.3375367 , -0.15554371, -0.06513267,  0.20682976,  0.13478489,\n",
      "        0.13764518,  0.02413616, -0.04193896,  0.33988   , -0.2880228 ,\n",
      "        0.08982702,  0.1686021 ,  0.179211  , -0.089365  , -0.15068692,\n",
      "        0.16948563,  0.03236792, -0.14725299,  0.06998044,  0.13517793,\n",
      "        0.14895348,  0.32646474,  0.01777423, -0.20195115,  0.1026553 ,\n",
      "        0.09884977, -0.03002165, -0.14378262, -0.23414794, -0.22200477,\n",
      "        0.12720235, -0.31633043, -0.07258968,  0.17379096,  0.12985682,\n",
      "       -0.09286069, -0.3795491 , -0.08033583,  0.14401986, -0.15046474,\n",
      "        0.09481094, -0.3882925 , -0.08188717, -0.12357091,  0.0117888 ,\n",
      "        0.17578061, -0.1841638 , -0.07668225, -0.07977104,  0.22965321,\n",
      "        0.06353645,  0.22445019, -0.36196712,  0.23000766, -0.19327004,\n",
      "        0.042886  ,  0.03186975, -0.05872009,  0.0289966 ,  0.502932  ,\n",
      "       -0.06148514,  0.02997612,  0.14142492,  0.0947451 , -0.10226775,\n",
      "        0.03216277, -0.01564195, -0.23695055,  0.064747  , -0.16696395,\n",
      "       -0.13461028,  0.14112549, -0.23923147, -0.18077141, -0.13322645,\n",
      "        0.02853464,  0.34427932,  0.2063852 ,  0.11772168, -0.2874779 ,\n",
      "        0.04085413, -0.09504989, -0.30074912,  0.04413114,  0.09609532,\n",
      "       -0.1496694 , -0.00765376, -0.21558294,  0.13553654, -0.07772242,\n",
      "       -0.22979487,  0.09944695, -0.01798027, -0.08758124, -0.0892749 ,\n",
      "       -0.0717769 , -0.14036806,  0.01159258, -0.06336538, -0.08340427,\n",
      "        0.04780341, -0.19655007, -0.11474501, -0.12164226,  0.1201176 ,\n",
      "       -0.21016353, -0.18829115, -0.46081504, -0.29984275, -0.19887145,\n",
      "        0.16717708,  0.06013954, -0.13083653, -0.11929917, -0.11912044,\n",
      "       -0.04613726,  0.11879523, -0.01008098, -0.21342821,  0.11814485,\n",
      "        0.15407643, -0.12385312, -0.13500464,  0.2245469 , -0.1729245 ,\n",
      "        0.07118418,  0.01278513,  0.07572491,  0.06630377, -0.3717316 ,\n",
      "        0.02725411, -0.09084205, -0.14268887, -0.04170111,  0.07262561,\n",
      "       -0.25848252, -0.05847163,  0.08387453, -0.06150602,  0.17913873,\n",
      "        0.0884546 ,  0.02608761,  0.19777086,  0.0105422 , -0.34251046,\n",
      "       -0.21024771,  0.2955735 ,  0.08663251, -0.44514588, -0.22247736,\n",
      "        0.13420348,  0.18943995,  0.09206743, -0.329489  , -0.17595923,\n",
      "        0.033186  ,  0.04981405,  0.2694187 , -0.24263635,  0.07150327,\n",
      "       -0.16533083, -0.00149555,  0.03731686, -0.1087899 ,  0.29178298,\n",
      "        0.10812802,  0.12707311,  0.11066648, -0.1872021 ,  0.00605579,\n",
      "        0.18200672, -0.08398476, -0.01262766,  0.09410948, -0.00763368,\n",
      "        0.00642617, -0.31667638,  0.0630404 ,  0.01742994,  0.24979872,\n",
      "       -0.04830056,  0.3314633 ,  0.20214933,  0.10767135,  0.32193005,\n",
      "        0.289906  ,  0.05973995, -0.17276615,  0.2104536 , -0.02552957],\n",
      "      dtype=float32)]\n"
     ]
    }
   ],
   "source": [
    "print(word_vectors_list[:1])"
   ]
  },
  {
   "cell_type": "code",
   "execution_count": 148,
   "metadata": {},
   "outputs": [
    {
     "data": {
      "text/plain": [
       "[('우리', 0.9997755289077759),\n",
       " ('되어다', 0.9997645020484924),\n",
       " ('식', 0.9997615814208984),\n",
       " ('이라는', 0.9997540712356567),\n",
       " ('그리고', 0.9997524619102478),\n",
       " ('살다', 0.9997517466545105),\n",
       " ('여자', 0.9997516870498657),\n",
       " ('대다', 0.9997515082359314),\n",
       " ('에게', 0.9997491240501404),\n",
       " ('이란', 0.9997456073760986)]"
      ]
     },
     "execution_count": 148,
     "metadata": {},
     "output_type": "execute_result"
    }
   ],
   "source": [
    "# 유사한 단어 뽑아내기\n",
    "w2v.wv.most_similar('관객')"
   ]
  },
  {
   "cell_type": "code",
   "execution_count": 149,
   "metadata": {},
   "outputs": [],
   "source": [
    "# 학습된 모델 저장\n",
    "w2v.save('w2v.bin')"
   ]
  },
  {
   "cell_type": "code",
   "execution_count": 152,
   "metadata": {},
   "outputs": [
    {
     "name": "stdout",
     "output_type": "stream",
     "text": [
      "Word2Vec(vocab=2724, vector_size=300, alpha=0.025)\n"
     ]
    }
   ],
   "source": [
    "# 모델 불러오기\n",
    "saved_w2v = Word2Vec.load('w2v.bin')\n",
    "print(saved_w2v)"
   ]
  }
 ],
 "metadata": {
  "kernelspec": {
   "display_name": "Python 3.9.12 ('base')",
   "language": "python",
   "name": "python3"
  },
  "language_info": {
   "codemirror_mode": {
    "name": "ipython",
    "version": 3
   },
   "file_extension": ".py",
   "mimetype": "text/x-python",
   "name": "python",
   "nbconvert_exporter": "python",
   "pygments_lexer": "ipython3",
   "version": "3.9.12"
  },
  "orig_nbformat": 4,
  "vscode": {
   "interpreter": {
    "hash": "39a34cc34fa105d8ec3534aa54504572aead214367e412b05dc49f32cf35b4ec"
   }
  }
 },
 "nbformat": 4,
 "nbformat_minor": 2
}
