{
 "cells": [
  {
   "cell_type": "code",
   "execution_count": 18,
   "metadata": {},
   "outputs": [],
   "source": [
    "a = '파이썬'"
   ]
  },
  {
   "cell_type": "code",
   "execution_count": 19,
   "metadata": {},
   "outputs": [
    {
     "data": {
      "text/plain": [
       "'파이썬'"
      ]
     },
     "execution_count": 19,
     "metadata": {},
     "output_type": "execute_result"
    }
   ],
   "source": [
    "a"
   ]
  },
  {
   "cell_type": "code",
   "execution_count": 20,
   "metadata": {},
   "outputs": [],
   "source": [
    "korean_presidents= ['윤석열','문재인','박근혜','노무현','김대중']"
   ]
  },
  {
   "cell_type": "code",
   "execution_count": 21,
   "metadata": {},
   "outputs": [],
   "source": [
    "korean_presidents.append('이명박')"
   ]
  },
  {
   "cell_type": "code",
   "execution_count": 22,
   "metadata": {},
   "outputs": [
    {
     "data": {
      "text/plain": [
       "['윤석열', '문재인', '박근혜', '노무현', '김대중', '이명박']"
      ]
     },
     "execution_count": 22,
     "metadata": {},
     "output_type": "execute_result"
    }
   ],
   "source": [
    "korean_presidents"
   ]
  },
  {
   "cell_type": "code",
   "execution_count": 23,
   "metadata": {},
   "outputs": [],
   "source": [
    "korean_presidents.remove('이명박')"
   ]
  },
  {
   "cell_type": "code",
   "execution_count": 24,
   "metadata": {},
   "outputs": [
    {
     "data": {
      "text/plain": [
       "['윤석열', '문재인', '박근혜', '노무현', '김대중']"
      ]
     },
     "execution_count": 24,
     "metadata": {},
     "output_type": "execute_result"
    }
   ],
   "source": [
    "korean_presidents"
   ]
  },
  {
   "cell_type": "code",
   "execution_count": 25,
   "metadata": {},
   "outputs": [],
   "source": [
    "from random import randint"
   ]
  },
  {
   "cell_type": "code",
   "execution_count": 26,
   "metadata": {},
   "outputs": [
    {
     "data": {
      "text/plain": [
       "2"
      ]
     },
     "execution_count": 26,
     "metadata": {},
     "output_type": "execute_result"
    }
   ],
   "source": [
    "randint(0,10)"
   ]
  },
  {
   "cell_type": "markdown",
   "metadata": {},
   "source": [
    "## randint 함수를 이용해서 korean_presidents 리스트의 대통령을 랜덤하게 출력하시오"
   ]
  },
  {
   "cell_type": "code",
   "execution_count": 27,
   "metadata": {},
   "outputs": [
    {
     "data": {
      "text/plain": [
       "'노무현'"
      ]
     },
     "execution_count": 27,
     "metadata": {},
     "output_type": "execute_result"
    }
   ],
   "source": [
    "korean_presidents[randint(0,4)]"
   ]
  },
  {
   "cell_type": "code",
   "execution_count": 28,
   "metadata": {},
   "outputs": [],
   "source": [
    "korean_presidents.insert(3,'이명박')"
   ]
  },
  {
   "cell_type": "code",
   "execution_count": 29,
   "metadata": {},
   "outputs": [
    {
     "data": {
      "text/plain": [
       "['윤석열', '문재인', '박근혜', '이명박', '노무현', '김대중']"
      ]
     },
     "execution_count": 29,
     "metadata": {},
     "output_type": "execute_result"
    }
   ],
   "source": [
    "korean_presidents"
   ]
  },
  {
   "cell_type": "code",
   "execution_count": 30,
   "metadata": {},
   "outputs": [
    {
     "data": {
      "text/plain": [
       "'태연은 바나나 5개와 사과 6개를 7일동안 먹었다.'"
      ]
     },
     "execution_count": 30,
     "metadata": {},
     "output_type": "execute_result"
    }
   ],
   "source": [
    "name = \"태연\"\n",
    "bannana = 5\n",
    "apples = 6\n",
    "days = 7\n",
    "\"%s은 바나나 %d개와 사과 %d개를 %d일동안 먹었다.\"%(name,bannana,apples,days)"
   ]
  },
  {
   "cell_type": "code",
   "execution_count": 31,
   "metadata": {},
   "outputs": [
    {
     "data": {
      "text/plain": [
       "'태연은 바나나 5개와 사과 6개를 7일동안 먹었다.'"
      ]
     },
     "execution_count": 31,
     "metadata": {},
     "output_type": "execute_result"
    }
   ],
   "source": [
    "name = \"태연\"\n",
    "bannana = 5\n",
    "apples = 6\n",
    "days = 7\n",
    "\"{0}은 바나나 {1}개와 사과 {2}개를 {3}일동안 먹었다.\".format(name,bannana,apples,days)"
   ]
  },
  {
   "cell_type": "markdown",
   "metadata": {},
   "source": [
    "##  논리형"
   ]
  },
  {
   "cell_type": "code",
   "execution_count": 32,
   "metadata": {},
   "outputs": [],
   "source": [
    "a = True\n",
    "b = False"
   ]
  },
  {
   "cell_type": "code",
   "execution_count": 33,
   "metadata": {},
   "outputs": [
    {
     "data": {
      "text/plain": [
       "1"
      ]
     },
     "execution_count": 33,
     "metadata": {},
     "output_type": "execute_result"
    }
   ],
   "source": [
    "a+b "
   ]
  },
  {
   "cell_type": "code",
   "execution_count": 34,
   "metadata": {},
   "outputs": [
    {
     "data": {
      "text/plain": [
       "False"
      ]
     },
     "execution_count": 34,
     "metadata": {},
     "output_type": "execute_result"
    }
   ],
   "source": [
    "a and b"
   ]
  },
  {
   "cell_type": "code",
   "execution_count": 35,
   "metadata": {},
   "outputs": [
    {
     "data": {
      "text/plain": [
       "True"
      ]
     },
     "execution_count": 35,
     "metadata": {},
     "output_type": "execute_result"
    }
   ],
   "source": [
    "a or b"
   ]
  },
  {
   "cell_type": "code",
   "execution_count": 36,
   "metadata": {},
   "outputs": [
    {
     "data": {
      "text/plain": [
       "False"
      ]
     },
     "execution_count": 36,
     "metadata": {},
     "output_type": "execute_result"
    }
   ],
   "source": [
    "not a"
   ]
  },
  {
   "cell_type": "code",
   "execution_count": 37,
   "metadata": {},
   "outputs": [
    {
     "data": {
      "text/plain": [
       "False"
      ]
     },
     "execution_count": 37,
     "metadata": {},
     "output_type": "execute_result"
    }
   ],
   "source": [
    "a == b"
   ]
  },
  {
   "cell_type": "code",
   "execution_count": 38,
   "metadata": {},
   "outputs": [
    {
     "data": {
      "text/plain": [
       "True"
      ]
     },
     "execution_count": 38,
     "metadata": {},
     "output_type": "execute_result"
    }
   ],
   "source": [
    "a!=b"
   ]
  },
  {
   "cell_type": "markdown",
   "metadata": {},
   "source": [
    "## 반복문"
   ]
  },
  {
   "cell_type": "code",
   "execution_count": 39,
   "metadata": {},
   "outputs": [
    {
     "name": "stdout",
     "output_type": "stream",
     "text": [
      "현재 i의 값은 0입니다.\n",
      "현재 i의 값은 1입니다.\n",
      "현재 i의 값은 2입니다.\n",
      "현재 i의 값은 3입니다.\n",
      "현재 i의 값은 4입니다.\n",
      "현재 i의 값은 5입니다.\n",
      "현재 i의 값은 6입니다.\n",
      "현재 i의 값은 7입니다.\n",
      "현재 i의 값은 8입니다.\n",
      "현재 i의 값은 9입니다.\n"
     ]
    }
   ],
   "source": [
    "i = 0\n",
    "while i < 10 :\n",
    "    print (\"현재 i의 값은 %d입니다.\"%i )\n",
    "    i += 1"
   ]
  },
  {
   "cell_type": "code",
   "execution_count": 40,
   "metadata": {},
   "outputs": [
    {
     "name": "stdout",
     "output_type": "stream",
     "text": [
      "현재 i의 값은 0입니다.\n",
      "현재 i의 값은 1입니다.\n",
      "현재 i의 값은 2입니다.\n",
      "현재 i의 값은 3입니다.\n",
      "현재 i의 값은 4입니다.\n",
      "현재 i의 값은 5입니다.\n",
      "현재 i의 값은 6입니다.\n",
      "현재 i의 값은 7입니다.\n",
      "현재 i의 값은 8입니다.\n",
      "현재 i의 값은 9입니다.\n"
     ]
    }
   ],
   "source": [
    "for i in range(0,10):\n",
    "    print (\"현재 i의 값은 %d입니다.\"%i )"
   ]
  },
  {
   "cell_type": "markdown",
   "metadata": {},
   "source": [
    "### for 문을 사용해서 대통령들의 이름 출력하기\n",
    "ex. 대통령의 이름은 윤석열입니다.\n",
    "    ..."
   ]
  },
  {
   "cell_type": "code",
   "execution_count": 41,
   "metadata": {},
   "outputs": [
    {
     "name": "stdout",
     "output_type": "stream",
     "text": [
      "대통령의 이름은 윤석열입니다.\n",
      "대통령의 이름은 문재인입니다.\n",
      "대통령의 이름은 박근혜입니다.\n",
      "대통령의 이름은 이명박입니다.\n",
      "대통령의 이름은 노무현입니다.\n",
      "대통령의 이름은 김대중입니다.\n"
     ]
    }
   ],
   "source": [
    "for i in korean_presidents:\n",
    "    print(\"대통령의 이름은 %s입니다.\"%i)"
   ]
  },
  {
   "cell_type": "markdown",
   "metadata": {},
   "source": [
    "### 구구단 3단과 4단을 출력해 주세요"
   ]
  },
  {
   "cell_type": "code",
   "execution_count": 45,
   "metadata": {},
   "outputs": [
    {
     "name": "stdout",
     "output_type": "stream",
     "text": [
      "==3단 시작 ==\n",
      "3 X 1 = 3\n",
      "3 X 2 = 6\n",
      "3 X 3 = 9\n",
      "3 X 4 = 12\n",
      "3 X 5 = 15\n",
      "3 X 6 = 18\n",
      "3 X 7 = 21\n",
      "3 X 8 = 24\n",
      "3 X 9 = 27\n",
      "==4단 시작 ==\n",
      "4 X 1 = 4\n",
      "4 X 2 = 8\n",
      "4 X 3 = 12\n",
      "4 X 4 = 16\n",
      "4 X 5 = 20\n",
      "4 X 6 = 24\n",
      "4 X 7 = 28\n",
      "4 X 8 = 32\n",
      "4 X 9 = 36\n"
     ]
    }
   ],
   "source": [
    "print(\"==3단 시작 ==\")\n",
    "i = 0\n",
    "while i < 9:\n",
    "    i = i + 1\n",
    "    n = 3 * i\n",
    "    print(\"3 X %d = %d\"%(i,n))\n",
    "print(\"==4단 시작 ==\")\n",
    "i = 0\n",
    "while i < 9:\n",
    "    i = i + 1\n",
    "    n = 4 * i\n",
    "    print(\"4 X %d = %d\"%(i,n))    "
   ]
  },
  {
   "cell_type": "code",
   "execution_count": 46,
   "metadata": {},
   "outputs": [
    {
     "name": "stdout",
     "output_type": "stream",
     "text": [
      "==3단 시작==\n",
      "3 X 1  = 3\n",
      "3 X 2  = 6\n",
      "3 X 3  = 9\n",
      "3 X 4  = 12\n",
      "3 X 5  = 15\n",
      "3 X 6  = 18\n",
      "3 X 7  = 21\n",
      "3 X 8  = 24\n",
      "3 X 9  = 27\n",
      "==4단 시작==\n",
      "4 X 1  = 4\n",
      "4 X 2  = 8\n",
      "4 X 3  = 12\n",
      "4 X 4  = 16\n",
      "4 X 5  = 20\n",
      "4 X 6  = 24\n",
      "4 X 7  = 28\n",
      "4 X 8  = 32\n",
      "4 X 9  = 36\n"
     ]
    }
   ],
   "source": [
    "for a in range(3,5):\n",
    "    print(\"==%d단 시작==\"%a)\n",
    "    for b in range(1,10):\n",
    "        print(\"%d X %d  = %d\"%(a,b,a*b))"
   ]
  }
 ],
 "metadata": {
  "kernelspec": {
   "display_name": "Python 3.9.12 ('base')",
   "language": "python",
   "name": "python3"
  },
  "language_info": {
   "codemirror_mode": {
    "name": "ipython",
    "version": 3
   },
   "file_extension": ".py",
   "mimetype": "text/x-python",
   "name": "python",
   "nbconvert_exporter": "python",
   "pygments_lexer": "ipython3",
   "version": "3.9.12"
  },
  "orig_nbformat": 4,
  "vscode": {
   "interpreter": {
    "hash": "39a34cc34fa105d8ec3534aa54504572aead214367e412b05dc49f32cf35b4ec"
   }
  }
 },
 "nbformat": 4,
 "nbformat_minor": 2
}
