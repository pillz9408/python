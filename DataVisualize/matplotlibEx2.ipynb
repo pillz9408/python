{
 "cells": [
  {
   "cell_type": "code",
   "execution_count": 2,
   "metadata": {},
   "outputs": [],
   "source": [
    "import pandas as pd\n",
    "import matplotlib.pyplot as plt\n",
    "import numpy as np"
   ]
  },
  {
   "cell_type": "code",
   "execution_count": 3,
   "metadata": {},
   "outputs": [],
   "source": [
    "from matplotlib import font_manager,rc\n",
    "font_name = font_manager.FontProperties(fname = 'C:/Windows/Fonts/malgun.ttf').get_name()\n",
    "rc('font',family = font_name)"
   ]
  },
  {
   "cell_type": "markdown",
   "metadata": {},
   "source": []
  },
  {
   "cell_type": "code",
   "execution_count": 4,
   "metadata": {},
   "outputs": [
    {
     "data": {
      "text/html": [
       "<div>\n",
       "<style scoped>\n",
       "    .dataframe tbody tr th:only-of-type {\n",
       "        vertical-align: middle;\n",
       "    }\n",
       "\n",
       "    .dataframe tbody tr th {\n",
       "        vertical-align: top;\n",
       "    }\n",
       "\n",
       "    .dataframe thead th {\n",
       "        text-align: right;\n",
       "    }\n",
       "</style>\n",
       "<table border=\"1\" class=\"dataframe\">\n",
       "  <thead>\n",
       "    <tr style=\"text-align: right;\">\n",
       "      <th></th>\n",
       "      <th>발생년</th>\n",
       "      <th>발생년월일시</th>\n",
       "      <th>발생분</th>\n",
       "      <th>주야</th>\n",
       "      <th>요일</th>\n",
       "      <th>사망자수</th>\n",
       "      <th>사상자수</th>\n",
       "      <th>중상자수</th>\n",
       "      <th>경상자수</th>\n",
       "      <th>부상신고자수</th>\n",
       "      <th>...</th>\n",
       "      <th>도로형태_대분류</th>\n",
       "      <th>도로형태</th>\n",
       "      <th>당사자종별_1당_대분류</th>\n",
       "      <th>당사자종별_1당</th>\n",
       "      <th>당사자종별_2당_대분류</th>\n",
       "      <th>당사자종별_2당</th>\n",
       "      <th>발생위치X_UTMK</th>\n",
       "      <th>발생위치Y_UTMK</th>\n",
       "      <th>경도</th>\n",
       "      <th>위도</th>\n",
       "    </tr>\n",
       "  </thead>\n",
       "  <tbody>\n",
       "    <tr>\n",
       "      <th>0</th>\n",
       "      <td>2017</td>\n",
       "      <td>2017010101</td>\n",
       "      <td>15</td>\n",
       "      <td>야간</td>\n",
       "      <td>일</td>\n",
       "      <td>1</td>\n",
       "      <td>2</td>\n",
       "      <td>1</td>\n",
       "      <td>0</td>\n",
       "      <td>0</td>\n",
       "      <td>...</td>\n",
       "      <td>단일로</td>\n",
       "      <td>기타단일로</td>\n",
       "      <td>승용차</td>\n",
       "      <td>승용차</td>\n",
       "      <td>승용차</td>\n",
       "      <td>승용차</td>\n",
       "      <td>933501</td>\n",
       "      <td>1700129</td>\n",
       "      <td>126.768634</td>\n",
       "      <td>35.294464</td>\n",
       "    </tr>\n",
       "    <tr>\n",
       "      <th>1</th>\n",
       "      <td>2017</td>\n",
       "      <td>2017010102</td>\n",
       "      <td>28</td>\n",
       "      <td>야간</td>\n",
       "      <td>일</td>\n",
       "      <td>1</td>\n",
       "      <td>1</td>\n",
       "      <td>0</td>\n",
       "      <td>0</td>\n",
       "      <td>0</td>\n",
       "      <td>...</td>\n",
       "      <td>교차로</td>\n",
       "      <td>교차로부근</td>\n",
       "      <td>승용차</td>\n",
       "      <td>승용차</td>\n",
       "      <td>보행자</td>\n",
       "      <td>보행자</td>\n",
       "      <td>967570</td>\n",
       "      <td>1944453</td>\n",
       "      <td>127.133107</td>\n",
       "      <td>37.498741</td>\n",
       "    </tr>\n",
       "    <tr>\n",
       "      <th>2</th>\n",
       "      <td>2017</td>\n",
       "      <td>2017010102</td>\n",
       "      <td>43</td>\n",
       "      <td>야간</td>\n",
       "      <td>일</td>\n",
       "      <td>1</td>\n",
       "      <td>2</td>\n",
       "      <td>0</td>\n",
       "      <td>1</td>\n",
       "      <td>0</td>\n",
       "      <td>...</td>\n",
       "      <td>단일로</td>\n",
       "      <td>기타단일로</td>\n",
       "      <td>승용차</td>\n",
       "      <td>승용차</td>\n",
       "      <td>승용차</td>\n",
       "      <td>승용차</td>\n",
       "      <td>916497</td>\n",
       "      <td>1842880</td>\n",
       "      <td>126.566631</td>\n",
       "      <td>36.580069</td>\n",
       "    </tr>\n",
       "    <tr>\n",
       "      <th>3</th>\n",
       "      <td>2017</td>\n",
       "      <td>2017010102</td>\n",
       "      <td>22</td>\n",
       "      <td>야간</td>\n",
       "      <td>일</td>\n",
       "      <td>1</td>\n",
       "      <td>1</td>\n",
       "      <td>0</td>\n",
       "      <td>0</td>\n",
       "      <td>0</td>\n",
       "      <td>...</td>\n",
       "      <td>단일로</td>\n",
       "      <td>기타단일로</td>\n",
       "      <td>승용차</td>\n",
       "      <td>승용차</td>\n",
       "      <td>없음</td>\n",
       "      <td>없음</td>\n",
       "      <td>961608</td>\n",
       "      <td>1864573</td>\n",
       "      <td>127.069759</td>\n",
       "      <td>36.778505</td>\n",
       "    </tr>\n",
       "    <tr>\n",
       "      <th>4</th>\n",
       "      <td>2017</td>\n",
       "      <td>2017010104</td>\n",
       "      <td>37</td>\n",
       "      <td>야간</td>\n",
       "      <td>일</td>\n",
       "      <td>1</td>\n",
       "      <td>1</td>\n",
       "      <td>0</td>\n",
       "      <td>0</td>\n",
       "      <td>0</td>\n",
       "      <td>...</td>\n",
       "      <td>단일로</td>\n",
       "      <td>기타단일로</td>\n",
       "      <td>승용차</td>\n",
       "      <td>승용차</td>\n",
       "      <td>보행자</td>\n",
       "      <td>보행자</td>\n",
       "      <td>946778</td>\n",
       "      <td>1941695</td>\n",
       "      <td>126.898094</td>\n",
       "      <td>37.472946</td>\n",
       "    </tr>\n",
       "    <tr>\n",
       "      <th>...</th>\n",
       "      <td>...</td>\n",
       "      <td>...</td>\n",
       "      <td>...</td>\n",
       "      <td>...</td>\n",
       "      <td>...</td>\n",
       "      <td>...</td>\n",
       "      <td>...</td>\n",
       "      <td>...</td>\n",
       "      <td>...</td>\n",
       "      <td>...</td>\n",
       "      <td>...</td>\n",
       "      <td>...</td>\n",
       "      <td>...</td>\n",
       "      <td>...</td>\n",
       "      <td>...</td>\n",
       "      <td>...</td>\n",
       "      <td>...</td>\n",
       "      <td>...</td>\n",
       "      <td>...</td>\n",
       "      <td>...</td>\n",
       "      <td>...</td>\n",
       "    </tr>\n",
       "    <tr>\n",
       "      <th>4060</th>\n",
       "      <td>2017</td>\n",
       "      <td>2017123118</td>\n",
       "      <td>10</td>\n",
       "      <td>야간</td>\n",
       "      <td>일</td>\n",
       "      <td>1</td>\n",
       "      <td>4</td>\n",
       "      <td>1</td>\n",
       "      <td>0</td>\n",
       "      <td>2</td>\n",
       "      <td>...</td>\n",
       "      <td>단일로</td>\n",
       "      <td>기타단일로</td>\n",
       "      <td>화물차</td>\n",
       "      <td>화물차</td>\n",
       "      <td>화물차</td>\n",
       "      <td>화물차</td>\n",
       "      <td>1044531</td>\n",
       "      <td>1682838</td>\n",
       "      <td>127.988833</td>\n",
       "      <td>35.139774</td>\n",
       "    </tr>\n",
       "    <tr>\n",
       "      <th>4061</th>\n",
       "      <td>2017</td>\n",
       "      <td>2017123118</td>\n",
       "      <td>25</td>\n",
       "      <td>야간</td>\n",
       "      <td>일</td>\n",
       "      <td>1</td>\n",
       "      <td>1</td>\n",
       "      <td>0</td>\n",
       "      <td>0</td>\n",
       "      <td>0</td>\n",
       "      <td>...</td>\n",
       "      <td>단일로</td>\n",
       "      <td>기타단일로</td>\n",
       "      <td>원동기장치자전거</td>\n",
       "      <td>원동기장치자전거</td>\n",
       "      <td>없음</td>\n",
       "      <td>없음</td>\n",
       "      <td>1160683</td>\n",
       "      <td>1704380</td>\n",
       "      <td>129.267745</td>\n",
       "      <td>35.322087</td>\n",
       "    </tr>\n",
       "    <tr>\n",
       "      <th>4062</th>\n",
       "      <td>2017</td>\n",
       "      <td>2017123119</td>\n",
       "      <td>55</td>\n",
       "      <td>야간</td>\n",
       "      <td>일</td>\n",
       "      <td>1</td>\n",
       "      <td>1</td>\n",
       "      <td>0</td>\n",
       "      <td>0</td>\n",
       "      <td>0</td>\n",
       "      <td>...</td>\n",
       "      <td>단일로</td>\n",
       "      <td>기타단일로</td>\n",
       "      <td>화물차</td>\n",
       "      <td>화물차</td>\n",
       "      <td>없음</td>\n",
       "      <td>없음</td>\n",
       "      <td>1067639</td>\n",
       "      <td>1980346</td>\n",
       "      <td>128.268522</td>\n",
       "      <td>37.820351</td>\n",
       "    </tr>\n",
       "    <tr>\n",
       "      <th>4063</th>\n",
       "      <td>2017</td>\n",
       "      <td>2017123120</td>\n",
       "      <td>40</td>\n",
       "      <td>야간</td>\n",
       "      <td>일</td>\n",
       "      <td>1</td>\n",
       "      <td>11</td>\n",
       "      <td>1</td>\n",
       "      <td>9</td>\n",
       "      <td>0</td>\n",
       "      <td>...</td>\n",
       "      <td>단일로</td>\n",
       "      <td>기타단일로</td>\n",
       "      <td>승용차</td>\n",
       "      <td>승용차</td>\n",
       "      <td>승용차</td>\n",
       "      <td>승용차</td>\n",
       "      <td>961004</td>\n",
       "      <td>1987481</td>\n",
       "      <td>127.056525</td>\n",
       "      <td>37.886331</td>\n",
       "    </tr>\n",
       "    <tr>\n",
       "      <th>4064</th>\n",
       "      <td>2017</td>\n",
       "      <td>2017123123</td>\n",
       "      <td>15</td>\n",
       "      <td>야간</td>\n",
       "      <td>일</td>\n",
       "      <td>1</td>\n",
       "      <td>1</td>\n",
       "      <td>0</td>\n",
       "      <td>0</td>\n",
       "      <td>0</td>\n",
       "      <td>...</td>\n",
       "      <td>단일로</td>\n",
       "      <td>기타단일로</td>\n",
       "      <td>이륜차</td>\n",
       "      <td>이륜차</td>\n",
       "      <td>보행자</td>\n",
       "      <td>보행자</td>\n",
       "      <td>995304</td>\n",
       "      <td>1814453</td>\n",
       "      <td>127.447679</td>\n",
       "      <td>36.327435</td>\n",
       "    </tr>\n",
       "  </tbody>\n",
       "</table>\n",
       "<p>4065 rows × 27 columns</p>\n",
       "</div>"
      ],
      "text/plain": [
       "       발생년      발생년월일시  발생분  주야 요일  사망자수  사상자수  중상자수  경상자수  부상신고자수  ...  \\\n",
       "0     2017  2017010101   15  야간  일     1     2     1     0       0  ...   \n",
       "1     2017  2017010102   28  야간  일     1     1     0     0       0  ...   \n",
       "2     2017  2017010102   43  야간  일     1     2     0     1       0  ...   \n",
       "3     2017  2017010102   22  야간  일     1     1     0     0       0  ...   \n",
       "4     2017  2017010104   37  야간  일     1     1     0     0       0  ...   \n",
       "...    ...         ...  ...  .. ..   ...   ...   ...   ...     ...  ...   \n",
       "4060  2017  2017123118   10  야간  일     1     4     1     0       2  ...   \n",
       "4061  2017  2017123118   25  야간  일     1     1     0     0       0  ...   \n",
       "4062  2017  2017123119   55  야간  일     1     1     0     0       0  ...   \n",
       "4063  2017  2017123120   40  야간  일     1    11     1     9       0  ...   \n",
       "4064  2017  2017123123   15  야간  일     1     1     0     0       0  ...   \n",
       "\n",
       "     도로형태_대분류   도로형태 당사자종별_1당_대분류  당사자종별_1당 당사자종별_2당_대분류 당사자종별_2당 발생위치X_UTMK  \\\n",
       "0         단일로  기타단일로          승용차       승용차          승용차      승용차     933501   \n",
       "1         교차로  교차로부근          승용차       승용차          보행자      보행자     967570   \n",
       "2         단일로  기타단일로          승용차       승용차          승용차      승용차     916497   \n",
       "3         단일로  기타단일로          승용차       승용차           없음       없음     961608   \n",
       "4         단일로  기타단일로          승용차       승용차          보행자      보행자     946778   \n",
       "...       ...    ...          ...       ...          ...      ...        ...   \n",
       "4060      단일로  기타단일로          화물차       화물차          화물차      화물차    1044531   \n",
       "4061      단일로  기타단일로     원동기장치자전거  원동기장치자전거           없음       없음    1160683   \n",
       "4062      단일로  기타단일로          화물차       화물차           없음       없음    1067639   \n",
       "4063      단일로  기타단일로          승용차       승용차          승용차      승용차     961004   \n",
       "4064      단일로  기타단일로          이륜차       이륜차          보행자      보행자     995304   \n",
       "\n",
       "     발생위치Y_UTMK          경도         위도  \n",
       "0       1700129  126.768634  35.294464  \n",
       "1       1944453  127.133107  37.498741  \n",
       "2       1842880  126.566631  36.580069  \n",
       "3       1864573  127.069759  36.778505  \n",
       "4       1941695  126.898094  37.472946  \n",
       "...         ...         ...        ...  \n",
       "4060    1682838  127.988833  35.139774  \n",
       "4061    1704380  129.267745  35.322087  \n",
       "4062    1980346  128.268522  37.820351  \n",
       "4063    1987481  127.056525  37.886331  \n",
       "4064    1814453  127.447679  36.327435  \n",
       "\n",
       "[4065 rows x 27 columns]"
      ]
     },
     "execution_count": 4,
     "metadata": {},
     "output_type": "execute_result"
    }
   ],
   "source": [
    "data = pd.read_csv('./Traffic_Accident_2017.csv',encoding='euc-kr')\n",
    "data"
   ]
  },
  {
   "cell_type": "code",
   "execution_count": 5,
   "metadata": {},
   "outputs": [
    {
     "name": "stdout",
     "output_type": "stream",
     "text": [
      "<class 'pandas.core.frame.DataFrame'>\n",
      "RangeIndex: 4065 entries, 0 to 4064\n",
      "Data columns (total 27 columns):\n",
      " #   Column        Non-Null Count  Dtype  \n",
      "---  ------        --------------  -----  \n",
      " 0   발생년           4065 non-null   int64  \n",
      " 1   발생년월일시        4065 non-null   int64  \n",
      " 2   발생분           4065 non-null   int64  \n",
      " 3   주야            4065 non-null   object \n",
      " 4   요일            4065 non-null   object \n",
      " 5   사망자수          4065 non-null   int64  \n",
      " 6   사상자수          4065 non-null   int64  \n",
      " 7   중상자수          4065 non-null   int64  \n",
      " 8   경상자수          4065 non-null   int64  \n",
      " 9   부상신고자수        4065 non-null   int64  \n",
      " 10  발생지시도         4065 non-null   object \n",
      " 11  발생지시군구        4065 non-null   object \n",
      " 12  사고유형_대분류      4065 non-null   object \n",
      " 13  사고유형_중분류      4065 non-null   object \n",
      " 14  사고유형          4065 non-null   object \n",
      " 15  법규위반_대분류      4065 non-null   object \n",
      " 16  법규위반          4065 non-null   object \n",
      " 17  도로형태_대분류      4065 non-null   object \n",
      " 18  도로형태          4065 non-null   object \n",
      " 19  당사자종별_1당_대분류  4065 non-null   object \n",
      " 20  당사자종별_1당      4065 non-null   object \n",
      " 21  당사자종별_2당_대분류  4065 non-null   object \n",
      " 22  당사자종별_2당      4065 non-null   object \n",
      " 23  발생위치X_UTMK    4065 non-null   int64  \n",
      " 24  발생위치Y_UTMK    4065 non-null   int64  \n",
      " 25  경도            4065 non-null   float64\n",
      " 26  위도            4065 non-null   float64\n",
      "dtypes: float64(2), int64(10), object(15)\n",
      "memory usage: 857.6+ KB\n"
     ]
    }
   ],
   "source": [
    "data.info()"
   ]
  },
  {
   "cell_type": "markdown",
   "metadata": {},
   "source": [
    "### 요일별 사고 건수 시각화"
   ]
  },
  {
   "cell_type": "code",
   "execution_count": 6,
   "metadata": {},
   "outputs": [
    {
     "data": {
      "text/plain": [
       "화    608\n",
       "월    603\n",
       "금    603\n",
       "토    596\n",
       "목    586\n",
       "수    565\n",
       "일    504\n",
       "Name: 요일, dtype: int64"
      ]
     },
     "execution_count": 6,
     "metadata": {},
     "output_type": "execute_result"
    }
   ],
   "source": [
    "# 요일별 사고 건수를 세봅시다.\n",
    "temp = data['요일'].value_counts()\n",
    "temp"
   ]
  },
  {
   "cell_type": "code",
   "execution_count": 7,
   "metadata": {},
   "outputs": [
    {
     "data": {
      "text/plain": [
       "월    603\n",
       "화    608\n",
       "수    565\n",
       "목    586\n",
       "금    603\n",
       "토    596\n",
       "일    504\n",
       "Name: 요일, dtype: int64"
      ]
     },
     "execution_count": 7,
     "metadata": {},
     "output_type": "execute_result"
    }
   ],
   "source": [
    "#월~일 로 정렬\n",
    "t = temp[['월','화','수','목','금','토','일']]\n",
    "t"
   ]
  },
  {
   "cell_type": "code",
   "execution_count": 8,
   "metadata": {},
   "outputs": [
    {
     "data": {
      "image/png": "[encoded data removed]",
      "text/plain": [
       "<Figure size 432x288 with 1 Axes>"
      ]
     },
     "metadata": {
      "needs_background": "light"
     },
     "output_type": "display_data"
    }
   ],
   "source": [
    "x = t.index\n",
    "y = t.values\n",
    "plt.bar(x,y)\n",
    "plt.title('2017년 요일별 사망 교통사고')\n",
    "plt.xlabel('요일')\n",
    "plt.ylabel('발생 건수').set_rotation(30)\n",
    "plt.ylim(300,650) \n",
    "plt.show()"
   ]
  },
  {
   "cell_type": "markdown",
   "metadata": {},
   "source": [
    "### 차대 차 사건 중 죽거나 다친 사람이 많은 발생지 시,도를 알아보고 시각화해보자."
   ]
  },
  {
   "cell_type": "code",
   "execution_count": 9,
   "metadata": {},
   "outputs": [
    {
     "data": {
      "text/html": [
       "<div>\n",
       "<style scoped>\n",
       "    .dataframe tbody tr th:only-of-type {\n",
       "        vertical-align: middle;\n",
       "    }\n",
       "\n",
       "    .dataframe tbody tr th {\n",
       "        vertical-align: top;\n",
       "    }\n",
       "\n",
       "    .dataframe thead th {\n",
       "        text-align: right;\n",
       "    }\n",
       "</style>\n",
       "<table border=\"1\" class=\"dataframe\">\n",
       "  <thead>\n",
       "    <tr style=\"text-align: right;\">\n",
       "      <th></th>\n",
       "      <th>발생년</th>\n",
       "      <th>발생년월일시</th>\n",
       "      <th>발생분</th>\n",
       "      <th>주야</th>\n",
       "      <th>요일</th>\n",
       "      <th>사망자수</th>\n",
       "      <th>사상자수</th>\n",
       "      <th>중상자수</th>\n",
       "      <th>경상자수</th>\n",
       "      <th>부상신고자수</th>\n",
       "      <th>...</th>\n",
       "      <th>도로형태_대분류</th>\n",
       "      <th>도로형태</th>\n",
       "      <th>당사자종별_1당_대분류</th>\n",
       "      <th>당사자종별_1당</th>\n",
       "      <th>당사자종별_2당_대분류</th>\n",
       "      <th>당사자종별_2당</th>\n",
       "      <th>발생위치X_UTMK</th>\n",
       "      <th>발생위치Y_UTMK</th>\n",
       "      <th>경도</th>\n",
       "      <th>위도</th>\n",
       "    </tr>\n",
       "  </thead>\n",
       "  <tbody>\n",
       "    <tr>\n",
       "      <th>0</th>\n",
       "      <td>2017</td>\n",
       "      <td>2017010101</td>\n",
       "      <td>15</td>\n",
       "      <td>야간</td>\n",
       "      <td>일</td>\n",
       "      <td>1</td>\n",
       "      <td>2</td>\n",
       "      <td>1</td>\n",
       "      <td>0</td>\n",
       "      <td>0</td>\n",
       "      <td>...</td>\n",
       "      <td>단일로</td>\n",
       "      <td>기타단일로</td>\n",
       "      <td>승용차</td>\n",
       "      <td>승용차</td>\n",
       "      <td>승용차</td>\n",
       "      <td>승용차</td>\n",
       "      <td>933501</td>\n",
       "      <td>1700129</td>\n",
       "      <td>126.768634</td>\n",
       "      <td>35.294464</td>\n",
       "    </tr>\n",
       "    <tr>\n",
       "      <th>2</th>\n",
       "      <td>2017</td>\n",
       "      <td>2017010102</td>\n",
       "      <td>43</td>\n",
       "      <td>야간</td>\n",
       "      <td>일</td>\n",
       "      <td>1</td>\n",
       "      <td>2</td>\n",
       "      <td>0</td>\n",
       "      <td>1</td>\n",
       "      <td>0</td>\n",
       "      <td>...</td>\n",
       "      <td>단일로</td>\n",
       "      <td>기타단일로</td>\n",
       "      <td>승용차</td>\n",
       "      <td>승용차</td>\n",
       "      <td>승용차</td>\n",
       "      <td>승용차</td>\n",
       "      <td>916497</td>\n",
       "      <td>1842880</td>\n",
       "      <td>126.566631</td>\n",
       "      <td>36.580069</td>\n",
       "    </tr>\n",
       "  </tbody>\n",
       "</table>\n",
       "<p>2 rows × 27 columns</p>\n",
       "</div>"
      ],
      "text/plain": [
       "    발생년      발생년월일시  발생분  주야 요일  사망자수  사상자수  중상자수  경상자수  부상신고자수  ... 도로형태_대분류  \\\n",
       "0  2017  2017010101   15  야간  일     1     2     1     0       0  ...      단일로   \n",
       "2  2017  2017010102   43  야간  일     1     2     0     1       0  ...      단일로   \n",
       "\n",
       "    도로형태 당사자종별_1당_대분류 당사자종별_1당 당사자종별_2당_대분류 당사자종별_2당 발생위치X_UTMK 발생위치Y_UTMK  \\\n",
       "0  기타단일로          승용차      승용차          승용차      승용차     933501    1700129   \n",
       "2  기타단일로          승용차      승용차          승용차      승용차     916497    1842880   \n",
       "\n",
       "           경도         위도  \n",
       "0  126.768634  35.294464  \n",
       "2  126.566631  36.580069  \n",
       "\n",
       "[2 rows x 27 columns]"
      ]
     },
     "execution_count": 9,
     "metadata": {},
     "output_type": "execute_result"
    }
   ],
   "source": [
    "#'사고유형_대분류' 칼럼에서 '차대차'만 뽑아오기\n",
    "car = data[data['사고유형_대분류']== '차대차']\n",
    "car.head(2)"
   ]
  },
  {
   "cell_type": "code",
   "execution_count": 10,
   "metadata": {},
   "outputs": [
    {
     "data": {
      "text/html": [
       "<div>\n",
       "<style scoped>\n",
       "    .dataframe tbody tr th:only-of-type {\n",
       "        vertical-align: middle;\n",
       "    }\n",
       "\n",
       "    .dataframe tbody tr th {\n",
       "        vertical-align: top;\n",
       "    }\n",
       "\n",
       "    .dataframe thead th {\n",
       "        text-align: right;\n",
       "    }\n",
       "</style>\n",
       "<table border=\"1\" class=\"dataframe\">\n",
       "  <thead>\n",
       "    <tr style=\"text-align: right;\">\n",
       "      <th></th>\n",
       "      <th>사상자수</th>\n",
       "    </tr>\n",
       "    <tr>\n",
       "      <th>발생지시도</th>\n",
       "      <th></th>\n",
       "    </tr>\n",
       "  </thead>\n",
       "  <tbody>\n",
       "    <tr>\n",
       "      <th>강원</th>\n",
       "      <td>214</td>\n",
       "    </tr>\n",
       "    <tr>\n",
       "      <th>경기</th>\n",
       "      <td>824</td>\n",
       "    </tr>\n",
       "    <tr>\n",
       "      <th>경남</th>\n",
       "      <td>248</td>\n",
       "    </tr>\n",
       "    <tr>\n",
       "      <th>경북</th>\n",
       "      <td>287</td>\n",
       "    </tr>\n",
       "    <tr>\n",
       "      <th>광주</th>\n",
       "      <td>87</td>\n",
       "    </tr>\n",
       "    <tr>\n",
       "      <th>대구</th>\n",
       "      <td>115</td>\n",
       "    </tr>\n",
       "    <tr>\n",
       "      <th>대전</th>\n",
       "      <td>61</td>\n",
       "    </tr>\n",
       "    <tr>\n",
       "      <th>부산</th>\n",
       "      <td>107</td>\n",
       "    </tr>\n",
       "    <tr>\n",
       "      <th>서울</th>\n",
       "      <td>197</td>\n",
       "    </tr>\n",
       "    <tr>\n",
       "      <th>세종</th>\n",
       "      <td>17</td>\n",
       "    </tr>\n",
       "    <tr>\n",
       "      <th>울산</th>\n",
       "      <td>73</td>\n",
       "    </tr>\n",
       "    <tr>\n",
       "      <th>인천</th>\n",
       "      <td>66</td>\n",
       "    </tr>\n",
       "    <tr>\n",
       "      <th>전남</th>\n",
       "      <td>298</td>\n",
       "    </tr>\n",
       "    <tr>\n",
       "      <th>전북</th>\n",
       "      <td>244</td>\n",
       "    </tr>\n",
       "    <tr>\n",
       "      <th>제주</th>\n",
       "      <td>50</td>\n",
       "    </tr>\n",
       "    <tr>\n",
       "      <th>충남</th>\n",
       "      <td>351</td>\n",
       "    </tr>\n",
       "    <tr>\n",
       "      <th>충북</th>\n",
       "      <td>261</td>\n",
       "    </tr>\n",
       "  </tbody>\n",
       "</table>\n",
       "</div>"
      ],
      "text/plain": [
       "       사상자수\n",
       "발생지시도      \n",
       "강원      214\n",
       "경기      824\n",
       "경남      248\n",
       "경북      287\n",
       "광주       87\n",
       "대구      115\n",
       "대전       61\n",
       "부산      107\n",
       "서울      197\n",
       "세종       17\n",
       "울산       73\n",
       "인천       66\n",
       "전남      298\n",
       "전북      244\n",
       "제주       50\n",
       "충남      351\n",
       "충북      261"
      ]
     },
     "execution_count": 10,
     "metadata": {},
     "output_type": "execute_result"
    }
   ],
   "source": [
    "# car에서 발생지시도를 기준으로 합계 구하기.\n",
    "place = car[['사상자수','발생지시도']].groupby('발생지시도').sum()\n",
    "place"
   ]
  },
  {
   "cell_type": "code",
   "execution_count": 11,
   "metadata": {},
   "outputs": [
    {
     "data": {
      "image/png": "[encoded data removed]",
      "text/plain": [
       "<Figure size 432x288 with 1 Axes>"
      ]
     },
     "metadata": {
      "needs_background": "light"
     },
     "output_type": "display_data"
    }
   ],
   "source": [
    "x= place.index\n",
    "y= place.values\n",
    "plt.plot(x,y)\n",
    "plt.title('2017년 차vs차 교통사고의 사상자 수')\n",
    "plt.xlabel('지역')\n",
    "plt.ylabel('사상자수').set_rotation(90)\n",
    "plt.grid()\n",
    "plt.show()"
   ]
  },
  {
   "cell_type": "markdown",
   "metadata": {},
   "source": [
    "### 파이 차트\n",
    " - 교통사고가 가장 많이 발생하는 시간대를 알아보기\n",
    " - 0~2,3~5,6~8,,,21~23 2시간씩 나눠서 알고싶다.\n",
    " - plt.pie()\n",
    " - autopct=\"%1.2f%%\" : 1.(원하는 소수점자리숫자 1,2,,,)\n",
    " - counterclock=False :시계방향이 아닌 역시계방향으로 출력하고싶을때\n",
    " - .patch.set_facecolor(\"w\") 배경색 변경"
   ]
  },
  {
   "cell_type": "code",
   "execution_count": 12,
   "metadata": {},
   "outputs": [
    {
     "data": {
      "text/plain": [
       "0        1\n",
       "2        2\n",
       "8       18\n",
       "9       20\n",
       "17       9\n",
       "        ..\n",
       "4050     9\n",
       "4055    23\n",
       "4058    12\n",
       "4060    18\n",
       "4063    20\n",
       "Name: 발생년월일시, Length: 1642, dtype: int64"
      ]
     },
     "execution_count": 12,
     "metadata": {},
     "output_type": "execute_result"
    }
   ],
   "source": [
    "#시간만 가져오기\n",
    "time = car['발생년월일시']\n",
    "time%=100\n",
    "time"
   ]
  },
  {
   "cell_type": "code",
   "execution_count": 13,
   "metadata": {},
   "outputs": [
    {
     "data": {
      "text/plain": [
       "0         0~2\n",
       "2         0~2\n",
       "8       18~20\n",
       "9       18~20\n",
       "17       9~11\n",
       "        ...  \n",
       "4050     9~11\n",
       "4055    21~23\n",
       "4058    12~14\n",
       "4060    18~20\n",
       "4063    18~20\n",
       "Name: 발생년월일시, Length: 1642, dtype: category\n",
       "Categories (8, object): ['0~2' < '3~5' < '6~8' < '9~11' < '12~14' < '15~17' < '18~20' < '21~23']"
      ]
     },
     "execution_count": 13,
     "metadata": {},
     "output_type": "execute_result"
    }
   ],
   "source": [
    "bins = [-1,2,5,8,11,14,17,20,23] # 카테고리의 범위는 초과로 하나 적게 입력\n",
    "labels = [\"0~2\",\"3~5\",\"6~8\",\"9~11\",\"12~14\",\"15~17\",\"18~20\",\"21~23\"]\n",
    "result = pd.cut(time,bins, labels=labels)\n",
    "result"
   ]
  },
  {
   "cell_type": "code",
   "execution_count": 14,
   "metadata": {},
   "outputs": [
    {
     "data": {
      "text/plain": [
       "0~2      124\n",
       "3~5      161\n",
       "6~8      204\n",
       "9~11     248\n",
       "12~14    232\n",
       "15~17    260\n",
       "18~20    231\n",
       "21~23    182\n",
       "Name: 발생년월일시, dtype: int64"
      ]
     },
     "execution_count": 14,
     "metadata": {},
     "output_type": "execute_result"
    }
   ],
   "source": [
    "rs = result.value_counts().sort_index()\n",
    "rs"
   ]
  },
  {
   "cell_type": "code",
   "execution_count": 15,
   "metadata": {},
   "outputs": [
    {
     "data": {
      "text/plain": [
       "<function matplotlib.pyplot.show(close=None, block=None)>"
      ]
     },
     "execution_count": 15,
     "metadata": {},
     "output_type": "execute_result"
    },
    {
     "data": {
      "image/png": "[encoded data removed]",
      "text/plain": [
       "<Figure size 720x720 with 1 Axes>"
      ]
     },
     "metadata": {},
     "output_type": "display_data"
    }
   ],
   "source": [
    "plt.figure(figsize=(10,10)).patch.set_facecolor(\"w\")\n",
    "plt.pie(rs,labels = labels,autopct=\"%1.2f%%\",counterclock=False)\n",
    "plt.legend(labels)\n",
    "plt.show"
   ]
  },
  {
   "cell_type": "code",
   "execution_count": 16,
   "metadata": {},
   "outputs": [
    {
     "data": {
      "text/plain": [
       "<function matplotlib.pyplot.show(close=None, block=None)>"
      ]
     },
     "execution_count": 16,
     "metadata": {},
     "output_type": "execute_result"
    },
    {
     "data": {
      "image/png": "[encoded data removed]",
      "text/plain": [
       "<Figure size 720x720 with 1 Axes>"
      ]
     },
     "metadata": {},
     "output_type": "display_data"
    }
   ],
   "source": [
    "# 파이 조각 사이 간격 주기explode=변수이름\n",
    "# 음영 : shadow = True\n",
    "plt.figure(figsize=(10,10)).patch.set_facecolor(\"w\")\n",
    "explode=[0,0.10,0,0.10,0,0.10,0,0.10]\n",
    "plt.pie(rs,labels = labels,autopct=\"%1.2f%%\",explode=explode,shadow=True)\n",
    "plt.legend(labels)\n",
    "plt.show"
   ]
  },
  {
   "cell_type": "markdown",
   "metadata": {},
   "source": [
    "### GDP 실습"
   ]
  },
  {
   "cell_type": "code",
   "execution_count": 17,
   "metadata": {},
   "outputs": [
    {
     "data": {
      "text/plain": [
       "<function matplotlib.pyplot.show(close=None, block=None)>"
      ]
     },
     "execution_count": 17,
     "metadata": {},
     "output_type": "execute_result"
    },
    {
     "data": {
      "image/png": "[encoded data removed]",
      "text/plain": [
       "<Figure size 720x720 with 1 Axes>"
      ]
     },
     "metadata": {},
     "output_type": "display_data"
    }
   ],
   "source": [
    "years = [1950,1960,1970,1980,1990,2000,2010]\n",
    "gdp = [67.0,80.0,257.0,1686.0,6505,11865.3,22105.3]\n",
    "plt.figure(figsize=(10,10)).patch.set_facecolor(\"w\")\n",
    "plt.plot(years,gdp,marker = 'o',c='g')\n",
    "plt.title('GDP per Capita')\n",
    "plt.ylabel('dollors')\n",
    "plt.grid()\n",
    "plt.savefig(\"gdp_per_capita.png\",dpi=600)\n",
    "plt.show"
   ]
  },
  {
   "cell_type": "markdown",
   "metadata": {},
   "source": [
    "### 2차, 3차 방정식 그래프?"
   ]
  },
  {
   "cell_type": "code",
   "execution_count": 18,
   "metadata": {},
   "outputs": [
    {
     "name": "stderr",
     "output_type": "stream",
     "text": [
      "c:\\Users\\user\\anaconda\\lib\\site-packages\\IPython\\core\\pylabtools.py:151: UserWarning: Glyph 8722 (\\N{MINUS SIGN}) missing from current font.\n",
      "  fig.canvas.print_figure(bytes_io, **kw)\n"
     ]
    },
    {
     "data": {
      "image/png": "[encoded data removed]",
      "text/plain": [
       "<Figure size 432x288 with 1 Axes>"
      ]
     },
     "metadata": {
      "needs_background": "light"
     },
     "output_type": "display_data"
    }
   ],
   "source": [
    "# y = 2x\n",
    "x = [x for x in range(-10,10)]\n",
    "y = [2*t for t in x]\n",
    "plt.plot(x,y,marker='^')\n",
    "plt.axis([-20,20,-20,20])\n",
    "plt.show()"
   ]
  },
  {
   "cell_type": "code",
   "execution_count": 19,
   "metadata": {},
   "outputs": [
    {
     "data": {
      "image/png": "[encoded data removed]",
      "text/plain": [
       "<Figure size 432x288 with 1 Axes>"
      ]
     },
     "metadata": {
      "needs_background": "light"
     },
     "output_type": "display_data"
    }
   ],
   "source": [
    "# y = 2x , z = 3x\n",
    "x = [x for x in range(20)]\n",
    "y = [x**2 for x in range(20)]\n",
    "z = [x**3 for x in range(20)]\n",
    "plt.plot(x,x, label = 'x')\n",
    "plt.plot(x,y, label = 'x^2')\n",
    "plt.plot(x,z, label = 'x^3')\n",
    "plt.xlabel('x label')\n",
    "plt.ylabel('y label')\n",
    "plt.title('title')\n",
    "plt.legend()\n",
    "plt.show()"
   ]
  },
  {
   "cell_type": "markdown",
   "metadata": {},
   "source": [
    "### 영어 점수 실습"
   ]
  },
  {
   "cell_type": "code",
   "execution_count": 20,
   "metadata": {},
   "outputs": [
    {
     "data": {
      "text/plain": [
       "철수     90\n",
       "철수2    85\n",
       "맹구     90\n",
       "유리     75\n",
       "수지     52\n",
       "짱구     62\n",
       "훈이     60\n",
       "흰둥이    32\n",
       "검둥이    48\n",
       "누렁이    25\n",
       "dtype: int64"
      ]
     },
     "execution_count": 20,
     "metadata": {},
     "output_type": "execute_result"
    }
   ],
   "source": [
    "sr= pd.Series([90,85,90,75,52,62,60,32,48,25])\n",
    "sr.index=['철수','철수2','맹구','유리','수지','짱구','훈이','흰둥이','검둥이','누렁이']\n",
    "sr"
   ]
  },
  {
   "cell_type": "code",
   "execution_count": 21,
   "metadata": {},
   "outputs": [
    {
     "data": {
      "text/plain": [
       "90"
      ]
     },
     "execution_count": 21,
     "metadata": {},
     "output_type": "execute_result"
    }
   ],
   "source": [
    "# 점수중 가장 높은것은?\n",
    "sr.max()"
   ]
  },
  {
   "cell_type": "code",
   "execution_count": 22,
   "metadata": {},
   "outputs": [
    {
     "data": {
      "text/plain": [
       "Index(['철수', '맹구'], dtype='object')"
      ]
     },
     "execution_count": 22,
     "metadata": {},
     "output_type": "execute_result"
    }
   ],
   "source": [
    "# 점수가 가장 높은 학생은??\n",
    "# .nlargest(1,keep='all')\n",
    "sr.nlargest(1,keep='all').index"
   ]
  },
  {
   "cell_type": "code",
   "execution_count": 23,
   "metadata": {},
   "outputs": [
    {
     "data": {
      "text/plain": [
       "철수     90\n",
       "철수2    85\n",
       "맹구     90\n",
       "dtype: int64"
      ]
     },
     "execution_count": 23,
     "metadata": {},
     "output_type": "execute_result"
    }
   ],
   "source": [
    "# 점수가 80 점 이상인 학생의 이름+ 점수\n",
    "sr8 = sr[sr>=80]\n",
    "sr8"
   ]
  },
  {
   "cell_type": "code",
   "execution_count": 24,
   "metadata": {},
   "outputs": [
    {
     "data": {
      "text/plain": [
       "유리    75\n",
       "수지    52\n",
       "짱구    62\n",
       "훈이    60\n",
       "dtype: int64"
      ]
     },
     "execution_count": 24,
     "metadata": {},
     "output_type": "execute_result"
    }
   ],
   "source": [
    "# 점수가 50점이상, 80점 이하인 학생의 이름 + 점수\n",
    "sr[(sr>=50)&(sr<=80)]"
   ]
  },
  {
   "cell_type": "code",
   "execution_count": 25,
   "metadata": {},
   "outputs": [
    {
     "data": {
      "text/plain": [
       "61.9"
      ]
     },
     "execution_count": 25,
     "metadata": {},
     "output_type": "execute_result"
    }
   ],
   "source": [
    "# 영어점수 평균\n",
    "sr.mean()"
   ]
  },
  {
   "cell_type": "code",
   "execution_count": 26,
   "metadata": {},
   "outputs": [
    {
     "data": {
      "image/png": "[encoded data removed]",
      "text/plain": [
       "<Figure size 432x288 with 1 Axes>"
      ]
     },
     "metadata": {
      "needs_background": "light"
     },
     "output_type": "display_data"
    }
   ],
   "source": [
    "# 영어 점수가 50점 이상인 학생의 바 차트\n",
    "sr50 = sr[sr>=50]\n",
    "sr50.plot(kind='bar')\n",
    "plt.show()"
   ]
  },
  {
   "cell_type": "code",
   "execution_count": 27,
   "metadata": {},
   "outputs": [
    {
     "name": "stdout",
     "output_type": "stream",
     "text": [
      "32\n"
     ]
    }
   ],
   "source": [
    "# 키보드로 학생들의 이름을 입력 받고, 그 학생의 영어 점수를 출력받아봅시다.\n",
    "name = input('학생의 이름을 입력하세요: ')\n",
    "if name in sr:\n",
    "    print(sr[name])"
   ]
  },
  {
   "cell_type": "code",
   "execution_count": 28,
   "metadata": {},
   "outputs": [
    {
     "data": {
      "text/plain": [
       "32"
      ]
     },
     "execution_count": 28,
     "metadata": {},
     "output_type": "execute_result"
    }
   ],
   "source": [
    "name = input('학생의 이름을 입력하세요: ')\n",
    "sr[name]"
   ]
  },
  {
   "cell_type": "code",
   "execution_count": 29,
   "metadata": {},
   "outputs": [
    {
     "name": "stdout",
     "output_type": "stream",
     "text": [
      "--------------------\n",
      "이름\t점수\t등급\n",
      "--------------------\n"
     ]
    }
   ],
   "source": [
    "# 영어 점수 등급을 매겨봅시다.\n",
    "# F : 0~59, D : 60~69, C: 70~79, B: 80~89, A:90~100 점\n",
    "\n",
    "print('-'*20)\n",
    "print('이름','점수','등급',sep='\\t')\n",
    "print('-'*20)\n",
    "sr_cut=pd.cut(sr,[-1,59,69,79,89,100],labels=['F','D','C','B','A'])\n"
   ]
  },
  {
   "cell_type": "code",
   "execution_count": 30,
   "metadata": {},
   "outputs": [
    {
     "data": {
      "text/plain": [
       "0.1    31.3\n",
       "0.5    61.0\n",
       "0.9    90.0\n",
       "dtype: float64"
      ]
     },
     "execution_count": 30,
     "metadata": {},
     "output_type": "execute_result"
    }
   ],
   "source": [
    "# 상위 퍼센트 점수 출력\n",
    "sr.quantile([0.1,0.5,0.9])"
   ]
  },
  {
   "cell_type": "markdown",
   "metadata": {},
   "source": [
    "### 과일 데이터"
   ]
  },
  {
   "cell_type": "code",
   "execution_count": 31,
   "metadata": {},
   "outputs": [
    {
     "data": {
      "text/plain": [
       "딸기    10\n",
       "귤     20\n",
       "수박    30\n",
       "사과    50\n",
       "Name: 과일, dtype: int64"
      ]
     },
     "execution_count": 31,
     "metadata": {},
     "output_type": "execute_result"
    }
   ],
   "source": [
    "fruit = pd.Series([10,20,30,50],index = ['딸기','귤','수박','사과'],name='과일')\n",
    "fruit"
   ]
  },
  {
   "cell_type": "code",
   "execution_count": 32,
   "metadata": {},
   "outputs": [
    {
     "data": {
      "image/png": "[encoded data removed]",
      "text/plain": [
       "<Figure size 720x720 with 1 Axes>"
      ]
     },
     "metadata": {},
     "output_type": "display_data"
    }
   ],
   "source": [
    "# 과일 비율을 파이차트로 그려보자\n",
    "\n",
    "plt.figure(figsize=(10,10)).patch.set_facecolor(\"w\")\n",
    "fruit.plot(kind='pie',autopct='%.2f',shadow=True,explode=[0,0,0.1,0.2])\n",
    "plt.legend()\n",
    "plt.show()"
   ]
  }
 ],
 "metadata": {
  "kernelspec": {
   "display_name": "Python 3.9.12 ('base')",
   "language": "python",
   "name": "python3"
  },
  "language_info": {
   "codemirror_mode": {
    "name": "ipython",
    "version": 3
   },
   "file_extension": ".py",
   "mimetype": "text/x-python",
   "name": "python",
   "nbconvert_exporter": "python",
   "pygments_lexer": "ipython3",
   "version": "3.9.12"
  },
  "orig_nbformat": 4,
  "vscode": {
   "interpreter": {
    "hash": "39a34cc34fa105d8ec3534aa54504572aead214367e412b05dc49f32cf35b4ec"
   }
  }
 },
 "nbformat": 4,
 "nbformat_minor": 2
}
