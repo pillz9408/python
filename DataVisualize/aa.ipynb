{
 "cells": [
  {
   "cell_type": "code",
   "execution_count": 1,
   "metadata": {},
   "outputs": [],
   "source": [
    "import numpy as np"
   ]
  },
  {
   "cell_type": "code",
   "execution_count": 2,
   "metadata": {},
   "outputs": [
    {
     "data": {
      "text/plain": [
       "31"
      ]
     },
     "execution_count": 2,
     "metadata": {},
     "output_type": "execute_result"
    }
   ],
   "source": [
    "temp = np.array(\n",
    "        [23.9, 24.4, 24.1, 25.4, 27.6, 29.7,\n",
    "         26.7, 25.1, 25.0, 22.7, 21.9, 23.6, \n",
    "         24.9, 25.9, 23.8, 24.7, 25.6, 26.9, \n",
    "         28.6, 28.0, 25.1, 26.7, 28.1, 26.5, \n",
    "         26.3, 25.9, 28.4, 26.1, 27.5, 28.1, 25.8])\n",
    "len(temp)"
   ]
  },
  {
   "cell_type": "code",
   "execution_count": 3,
   "metadata": {},
   "outputs": [
    {
     "name": "stdout",
     "output_type": "stream",
     "text": [
      "21\n",
      "26.857142857142858\n"
     ]
    }
   ],
   "source": [
    "# 값 이 25 이상인 것의 개수, 평균\n",
    "print(temp[temp> 25.0].size)\n",
    "print(np.mean(temp[temp > 25]))"
   ]
  },
  {
   "cell_type": "code",
   "execution_count": 4,
   "metadata": {},
   "outputs": [
    {
     "data": {
      "text/plain": [
       "array([ 1,  2,  3,  4,  5,  6,  7,  8,  8,  9, 10])"
      ]
     },
     "execution_count": 4,
     "metadata": {},
     "output_type": "execute_result"
    }
   ],
   "source": [
    "# 정렬\n",
    "arr = np.array([1,10,5,8,2,4,3,6,8,7,9])\n",
    "np.sort(arr)"
   ]
  },
  {
   "cell_type": "code",
   "execution_count": 5,
   "metadata": {},
   "outputs": [
    {
     "data": {
      "text/plain": [
       "array([10,  9,  8,  8,  7,  6,  5,  4,  3,  2,  1])"
      ]
     },
     "execution_count": 5,
     "metadata": {},
     "output_type": "execute_result"
    }
   ],
   "source": [
    "# 내림차순 정렬\n",
    "np.sort(arr)[::-1]"
   ]
  },
  {
   "cell_type": "code",
   "execution_count": 6,
   "metadata": {},
   "outputs": [],
   "source": [
    "arr2d=np.array([[5,6,7,8],\n",
    "              [4,3,2,1],\n",
    "              [10,9,12,11]])"
   ]
  },
  {
   "cell_type": "code",
   "execution_count": 7,
   "metadata": {},
   "outputs": [
    {
     "data": {
      "text/plain": [
       "array([[ 5,  6,  7,  8],\n",
       "       [ 1,  2,  3,  4],\n",
       "       [ 9, 10, 11, 12]])"
      ]
     },
     "execution_count": 7,
     "metadata": {},
     "output_type": "execute_result"
    }
   ],
   "source": [
    "np.sort(arr2d, axis=1) # 열 정렬"
   ]
  },
  {
   "cell_type": "code",
   "execution_count": 8,
   "metadata": {},
   "outputs": [
    {
     "data": {
      "text/plain": [
       "array([[ 4,  3,  2,  1],\n",
       "       [ 5,  6,  7,  8],\n",
       "       [10,  9, 12, 11]])"
      ]
     },
     "execution_count": 8,
     "metadata": {},
     "output_type": "execute_result"
    }
   ],
   "source": [
    "np.sort(arr2d, axis=0) # 행 정렬"
   ]
  },
  {
   "cell_type": "code",
   "execution_count": 9,
   "metadata": {},
   "outputs": [
    {
     "name": "stdout",
     "output_type": "stream",
     "text": [
      "52.86666666666667 793 94 14 665.3155555555554 55.0 25.79371155059999\n"
     ]
    }
   ],
   "source": [
    "y = np.random.randint (100,size=(3,5))\n",
    "print(y.mean(), y.sum(), y.max(), y.min(), y.var(), np.median(y), y.std())\n",
    "# 평균, 합계, 최대, 최소, 분산 np.var(), 중앙값 np.median(), 표준 편차 np.std()"
   ]
  },
  {
   "cell_type": "code",
   "execution_count": 10,
   "metadata": {},
   "outputs": [
    {
     "data": {
      "text/plain": [
       "array([[175.2, 180.3, 175. , 169.2, 185.2, 188. , 177.6, 178.2, 177. ,\n",
       "        179. ],\n",
       "       [ 65.6,  88. ,  79.2,  69.3,  55. ,  71.2,  73. ,  68.9,  74. ,\n",
       "         82. ]])"
      ]
     },
     "execution_count": 10,
     "metadata": {},
     "output_type": "execute_result"
    }
   ],
   "source": [
    "data = np.loadtxt(\"height_weight.txt\", delimiter = \",\") # delimiter : 구분기호 , txt 데이터 불러오기\n",
    "data"
   ]
  },
  {
   "cell_type": "code",
   "execution_count": 11,
   "metadata": {},
   "outputs": [
    {
     "data": {
      "text/plain": [
       "(2, 10)"
      ]
     },
     "execution_count": 11,
     "metadata": {},
     "output_type": "execute_result"
    }
   ],
   "source": [
    "data.shape"
   ]
  },
  {
   "cell_type": "code",
   "execution_count": 12,
   "metadata": {},
   "outputs": [],
   "source": [
    "height_cm = data[0] # 키 데이터\n",
    "weight_kg = data[1] # 몸무게 데이터\n"
   ]
  },
  {
   "cell_type": "code",
   "execution_count": 13,
   "metadata": {},
   "outputs": [],
   "source": [
    "height_m = height_cm / 100\n"
   ]
  },
  {
   "cell_type": "code",
   "execution_count": 14,
   "metadata": {},
   "outputs": [
    {
     "data": {
      "text/plain": [
       "array([21.37153104, 27.07018468, 25.86122449, 24.20652885, 16.03543423,\n",
       "       20.14486193, 23.14392095, 21.69720651, 23.62028791, 25.59220998])"
      ]
     },
     "execution_count": 14,
     "metadata": {},
     "output_type": "execute_result"
    }
   ],
   "source": [
    "BMI = weight_kg/(height_m**2)\n",
    "BMI"
   ]
  },
  {
   "cell_type": "code",
   "execution_count": 15,
   "metadata": {},
   "outputs": [
    {
     "data": {
      "text/plain": [
       "array([[        1,      1193,         5, 978300760],\n",
       "       [        1,       661,         3, 978302109],\n",
       "       [        1,       914,         3, 978301968],\n",
       "       ...,\n",
       "       [     6040,       562,         5, 956704746],\n",
       "       [     6040,      1096,         4, 956715648],\n",
       "       [     6040,      1097,         4, 956715569]])"
      ]
     },
     "execution_count": 15,
     "metadata": {},
     "output_type": "execute_result"
    }
   ],
   "source": [
    "data = np.loadtxt(\"ratings.txt\",delimiter = \"::\", dtype=\"int\")\n",
    "data\n",
    "#[user id, x, 평점, x]"
   ]
  },
  {
   "cell_type": "code",
   "execution_count": 16,
   "metadata": {},
   "outputs": [
    {
     "name": "stdout",
     "output_type": "stream",
     "text": [
      "(1000209, 4) 2 4000836\n"
     ]
    }
   ],
   "source": [
    "print(data.shape, data.ndim, data.size)"
   ]
  },
  {
   "cell_type": "code",
   "execution_count": 17,
   "metadata": {},
   "outputs": [
    {
     "name": "stdout",
     "output_type": "stream",
     "text": [
      "[[        1      1193         5 978300760]\n",
      " [        1       661         3 978302109]\n",
      " [        1       914         3 978301968]\n",
      " [        1      3408         4 978300275]\n",
      " [        1      2355         5 978824291]\n",
      " [        1      1197         3 978302268]\n",
      " [        1      1287         5 978302039]\n",
      " [        1      2804         5 978300719]\n",
      " [        1       594         4 978302268]\n",
      " [        1       919         4 978301368]\n",
      " [        1       595         5 978824268]\n",
      " [        1       938         4 978301752]\n",
      " [        1      2398         4 978302281]\n",
      " [        1      2918         4 978302124]\n",
      " [        1      1035         5 978301753]\n",
      " [        1      2791         4 978302188]\n",
      " [        1      2687         3 978824268]\n",
      " [        1      2018         4 978301777]\n",
      " [        1      3105         5 978301713]\n",
      " [        1      2797         4 978302039]\n",
      " [        1      2321         3 978302205]\n",
      " [        1       720         3 978300760]\n",
      " [        1      1270         5 978300055]\n",
      " [        1       527         5 978824195]\n",
      " [        1      2340         3 978300103]\n",
      " [        1        48         5 978824351]\n",
      " [        1      1097         4 978301953]\n",
      " [        1      1721         4 978300055]\n",
      " [        1      1545         4 978824139]\n",
      " [        1       745         3 978824268]\n",
      " [        1      2294         4 978824291]\n",
      " [        1      3186         4 978300019]\n",
      " [        1      1566         4 978824330]\n",
      " [        1       588         4 978824268]\n",
      " [        1      1907         4 978824330]\n",
      " [        1       783         4 978824291]\n",
      " [        1      1836         5 978300172]\n",
      " [        1      1022         5 978300055]\n",
      " [        1      2762         4 978302091]\n",
      " [        1       150         5 978301777]\n",
      " [        1         1         5 978824268]\n",
      " [        1      1961         5 978301590]\n",
      " [        1      1962         4 978301753]\n",
      " [        1      2692         4 978301570]\n",
      " [        1       260         4 978300760]\n",
      " [        1      1028         5 978301777]\n",
      " [        1      1029         5 978302205]\n",
      " [        1      1207         4 978300719]\n",
      " [        1      2028         5 978301619]\n",
      " [        1       531         4 978302149]\n",
      " [        1      3114         4 978302174]\n",
      " [        1       608         4 978301398]\n",
      " [        1      1246         4 978302091]]\n"
     ]
    }
   ],
   "source": [
    "# 유저 id가 1 인 데이터\n",
    "print(data[data[:,0] == 1])"
   ]
  },
  {
   "cell_type": "code",
   "execution_count": 18,
   "metadata": {},
   "outputs": [
    {
     "data": {
      "text/plain": [
       "3.581564453029317"
      ]
     },
     "execution_count": 18,
     "metadata": {},
     "output_type": "execute_result"
    }
   ],
   "source": [
    "# 유저 평점의 평균\n",
    "user_id = data[:,0]\n",
    "ratings = data[:,2]\n",
    "ratings.mean()"
   ]
  },
  {
   "cell_type": "code",
   "execution_count": 19,
   "metadata": {},
   "outputs": [
    {
     "data": {
      "text/plain": [
       "4.188679245283019"
      ]
     },
     "execution_count": 19,
     "metadata": {},
     "output_type": "execute_result"
    }
   ],
   "source": [
    "#유저 id 1인 유저의 평점 평균\n",
    "data[data[:,0] == 1,2].mean()"
   ]
  }
 ],
 "metadata": {
  "kernelspec": {
   "display_name": "Python 3.9.12 ('base')",
   "language": "python",
   "name": "python3"
  },
  "language_info": {
   "codemirror_mode": {
    "name": "ipython",
    "version": 3
   },
   "file_extension": ".py",
   "mimetype": "text/x-python",
   "name": "python",
   "nbconvert_exporter": "python",
   "pygments_lexer": "ipython3",
   "version": "3.9.12"
  },
  "orig_nbformat": 4,
  "vscode": {
   "interpreter": {
    "hash": "638458ad525abede8b674c511706721ac1541a8132c5afab57ae9f0f55f60ad2"
   }
  }
 },
 "nbformat": 4,
 "nbformat_minor": 2
}
