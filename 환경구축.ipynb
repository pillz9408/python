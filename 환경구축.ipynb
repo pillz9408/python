{
 "cells": [
  {
   "cell_type": "markdown",
   "id": "08c6bed0",
   "metadata": {},
   "source": [
    "# Heading 1\n",
    "## Heading 2\n",
    "\n",
    "- Bulleted List\n",
    "    - Bulleted List\n",
    "\n",
    "1. Numbered List\n",
    "    1. Numbered List\n",
    "    \n",
    "**Emphasis**\n",
    "*Italic*"
   ]
  },
  {
   "cell_type": "code",
   "execution_count": 1,
   "id": "e3f613c9",
   "metadata": {},
   "outputs": [],
   "source": [
    "# 주석"
   ]
  },
  {
   "cell_type": "code",
   "execution_count": 2,
   "id": "690196d9",
   "metadata": {},
   "outputs": [],
   "source": [
    "from IPython.display import Image"
   ]
  },
  {
   "cell_type": "code",
   "execution_count": 3,
   "id": "7f79e959",
   "metadata": {},
   "outputs": [
    {
     "data": {
      "text/html": [
       "<img src=\"https://w.namu.la/s/9071d0575b6d14c0d6fc5832e26fe8ef0a298a1abb1d442cc3c865534ec5e949e8a2d195fe425ebb15f2f1f5b270e6b86979bd1e3fcb4e9d9432bdfbf4fb02a605727af4c652653d93800a4b04a815602531ad5507398ff3529ac961049bb060\" width=\"200\" height=\"100\"/>"
      ],
      "text/plain": [
       "<IPython.core.display.Image object>"
      ]
     },
     "execution_count": 3,
     "metadata": {},
     "output_type": "execute_result"
    }
   ],
   "source": [
    "Image(url = \"https://w.namu.la/s/9071d0575b6d14c0d6fc5832e26fe8ef0a298a1abb1d442cc3c865534ec5e949e8a2d195fe425ebb15f2f1f5b270e6b86979bd1e3fcb4e9d9432bdfbf4fb02a605727af4c652653d93800a4b04a815602531ad5507398ff3529ac961049bb060\", width = 200, height = 100)"
   ]
  },
  {
   "cell_type": "code",
   "execution_count": 4,
   "id": "d178b911",
   "metadata": {},
   "outputs": [],
   "source": [
    "from IPython.lib.display import YouTubeVideo"
   ]
  },
  {
   "cell_type": "code",
   "execution_count": 5,
   "id": "1175294c",
   "metadata": {},
   "outputs": [
    {
     "data": {
      "text/html": [
       "\n",
       "        <iframe\n",
       "            width=\"600\"\n",
       "            height=\"400\"\n",
       "            src=\"https://www.youtube.com/embed/I5cq54MFQCo\"\n",
       "            frameborder=\"0\"\n",
       "            allowfullscreen\n",
       "            \n",
       "        ></iframe>\n",
       "        "
      ],
      "text/plain": [
       "<IPython.lib.display.YouTubeVideo at 0x23ab14c86d0>"
      ]
     },
     "execution_count": 5,
     "metadata": {},
     "output_type": "execute_result"
    }
   ],
   "source": [
    "YouTubeVideo('I5cq54MFQCo', width = 600, height = 400)"
   ]
  },
  {
   "cell_type": "code",
   "execution_count": 6,
   "id": "36fd1a3e",
   "metadata": {},
   "outputs": [],
   "source": [
    "import antigravity"
   ]
  },
  {
   "cell_type": "code",
   "execution_count": 7,
   "id": "1277f85d",
   "metadata": {},
   "outputs": [
    {
     "data": {
      "text/plain": [
       "8"
      ]
     },
     "execution_count": 7,
     "metadata": {},
     "output_type": "execute_result"
    }
   ],
   "source": [
    "num = 3\n",
    "num = 8\n",
    "num"
   ]
  },
  {
   "cell_type": "code",
   "execution_count": 8,
   "id": "a8ae5846",
   "metadata": {},
   "outputs": [
    {
     "data": {
      "text/plain": [
       "3.0"
      ]
     },
     "execution_count": 8,
     "metadata": {},
     "output_type": "execute_result"
    }
   ],
   "source": [
    "num = 3.0\n",
    "num"
   ]
  },
  {
   "cell_type": "code",
   "execution_count": 9,
   "id": "0d48e8d6",
   "metadata": {},
   "outputs": [
    {
     "data": {
      "text/plain": [
       "float"
      ]
     },
     "execution_count": 9,
     "metadata": {},
     "output_type": "execute_result"
    }
   ],
   "source": [
    "type(num)"
   ]
  },
  {
   "cell_type": "code",
   "execution_count": 10,
   "id": "aa7064d1",
   "metadata": {},
   "outputs": [
    {
     "data": {
      "text/plain": [
       "'num'"
      ]
     },
     "execution_count": 10,
     "metadata": {},
     "output_type": "execute_result"
    }
   ],
   "source": [
    "num = 'num'\n",
    "num"
   ]
  },
  {
   "cell_type": "code",
   "execution_count": 11,
   "id": "92a5ba94",
   "metadata": {},
   "outputs": [
    {
     "data": {
      "text/plain": [
       "str"
      ]
     },
     "execution_count": 11,
     "metadata": {},
     "output_type": "execute_result"
    }
   ],
   "source": [
    "type(num)"
   ]
  },
  {
   "cell_type": "code",
   "execution_count": 12,
   "id": "0a3da297",
   "metadata": {},
   "outputs": [],
   "source": [
    "a = 10\n",
    "b = 15\n",
    "c = a+b"
   ]
  },
  {
   "cell_type": "code",
   "execution_count": 13,
   "id": "02712048",
   "metadata": {},
   "outputs": [],
   "source": [
    "a, b = 10, 15\n",
    "c = a + b"
   ]
  },
  {
   "cell_type": "code",
   "execution_count": 14,
   "id": "42baffc0",
   "metadata": {},
   "outputs": [],
   "source": [
    "str1 = str2 = \"hello python\""
   ]
  },
  {
   "cell_type": "code",
   "execution_count": 15,
   "id": "b5b76e50",
   "metadata": {
    "scrolled": true
   },
   "outputs": [
    {
     "name": "stdout",
     "output_type": "stream",
     "text": [
      "hello python hello python\n"
     ]
    }
   ],
   "source": [
    "print(str1, str2)"
   ]
  },
  {
   "cell_type": "code",
   "execution_count": 16,
   "id": "a5086337",
   "metadata": {},
   "outputs": [
    {
     "data": {
      "text/plain": [
       "'hello python'"
      ]
     },
     "execution_count": 16,
     "metadata": {},
     "output_type": "execute_result"
    }
   ],
   "source": [
    "str1"
   ]
  },
  {
   "cell_type": "code",
   "execution_count": 17,
   "id": "1345268d",
   "metadata": {},
   "outputs": [
    {
     "ename": "SyntaxError",
     "evalue": "invalid syntax (445455409.py, line 3)",
     "output_type": "error",
     "traceback": [
      "\u001b[1;36m  Input \u001b[1;32mIn [17]\u001b[1;36m\u001b[0m\n\u001b[1;33m    'He said, \"she's gone\"'\u001b[0m\n\u001b[1;37m                   ^\u001b[0m\n\u001b[1;31mSyntaxError\u001b[0m\u001b[1;31m:\u001b[0m invalid syntax\n"
     ]
    }
   ],
   "source": [
    "print('He said, \"she\\'s gone\"') # \\' 사용시 텍스트로 인식\n",
    "\n",
    "'He said, \"she's gone\"'"
   ]
  },
  {
   "cell_type": "markdown",
   "id": "b8af160c",
   "metadata": {},
   "source": [
    "## 인덱싱과 슬라이싱 (a 이상 : b 미만)"
   ]
  },
  {
   "cell_type": "code",
   "execution_count": 2,
   "id": "2c821cfb",
   "metadata": {},
   "outputs": [],
   "source": [
    "sentance = \"My name is ChangHyun\""
   ]
  },
  {
   "cell_type": "code",
   "execution_count": 19,
   "id": "e35e1571",
   "metadata": {},
   "outputs": [
    {
     "data": {
      "text/plain": [
       "'n'"
      ]
     },
     "execution_count": 19,
     "metadata": {},
     "output_type": "execute_result"
    }
   ],
   "source": [
    "sentance[19]"
   ]
  },
  {
   "cell_type": "code",
   "execution_count": 20,
   "id": "e20b96db",
   "metadata": {},
   "outputs": [
    {
     "data": {
      "text/plain": [
       "'n'"
      ]
     },
     "execution_count": 20,
     "metadata": {},
     "output_type": "execute_result"
    }
   ],
   "source": [
    "sentance[-1]"
   ]
  },
  {
   "cell_type": "code",
   "execution_count": 21,
   "id": "5c622052",
   "metadata": {},
   "outputs": [
    {
     "data": {
      "text/plain": [
       "'name'"
      ]
     },
     "execution_count": 21,
     "metadata": {},
     "output_type": "execute_result"
    }
   ],
   "source": [
    "sentance[3:7]"
   ]
  },
  {
   "cell_type": "code",
   "execution_count": 22,
   "id": "89aa762a",
   "metadata": {},
   "outputs": [
    {
     "data": {
      "text/plain": [
       "'name'"
      ]
     },
     "execution_count": 22,
     "metadata": {},
     "output_type": "execute_result"
    }
   ],
   "source": [
    "sentance[-17:-13]"
   ]
  },
  {
   "cell_type": "code",
   "execution_count": 23,
   "id": "d0b12981",
   "metadata": {},
   "outputs": [
    {
     "data": {
      "text/plain": [
       "'is ChangHyun'"
      ]
     },
     "execution_count": 23,
     "metadata": {},
     "output_type": "execute_result"
    }
   ],
   "source": [
    "sentance[-12:]"
   ]
  },
  {
   "cell_type": "code",
   "execution_count": 24,
   "id": "2205d277",
   "metadata": {},
   "outputs": [
    {
     "data": {
      "text/plain": [
       "'My name'"
      ]
     },
     "execution_count": 24,
     "metadata": {},
     "output_type": "execute_result"
    }
   ],
   "source": [
    "sentance[:7]"
   ]
  },
  {
   "cell_type": "code",
   "execution_count": 25,
   "id": "80852811",
   "metadata": {},
   "outputs": [
    {
     "data": {
      "text/plain": [
       "'M aei hnHu'"
      ]
     },
     "execution_count": 25,
     "metadata": {},
     "output_type": "execute_result"
    }
   ],
   "source": [
    "sentance[::2]"
   ]
  },
  {
   "cell_type": "markdown",
   "id": "d4afb984",
   "metadata": {},
   "source": [
    " - 날씨 정보를 받습니다.\n",
    "\n",
    " 1. 20220809Sunny\n",
    " 2. 20220810Cloudy \n",
    " 3. 20220811Fog\n",
    " \n",
    "  - 이 정보들을 연도 / 월 / 일 / 날씨 변수로 쪼개서 저장하고 싶습니다.\n",
    "  - 어떤 날씨 정보가 오든지, 연 / 월 / 일 / 날씨를 변함없이 지칭하는 슬라이싱 코드를 짜봅시다.\n"
   ]
  },
  {
   "cell_type": "code",
   "execution_count": 26,
   "id": "8d4da25c",
   "metadata": {},
   "outputs": [
    {
     "name": "stdout",
     "output_type": "stream",
     "text": [
      "2022 08 11 Fog\n"
     ]
    }
   ],
   "source": [
    "# weather_info = \"20220809Suuny\"\n",
    "#weather_info = \"20220810Cloudy\"\n",
    "weather_info = \"20220811Fog\"\n",
    "\n",
    "year = weather_info[:4]\n",
    "month = weather_info[4:6]\n",
    "day = weather_info[6:8]\n",
    "weather = weather_info[8:]\n",
    "\n",
    "print(year, month, day, weather)"
   ]
  },
  {
   "cell_type": "code",
   "execution_count": null,
   "id": "72c68963",
   "metadata": {},
   "outputs": [],
   "source": []
  },
  {
   "cell_type": "code",
   "execution_count": null,
   "id": "a0e57f39",
   "metadata": {},
   "outputs": [],
   "source": []
  }
 ],
 "metadata": {
  "kernelspec": {
   "display_name": "Python 3 (ipykernel)",
   "language": "python",
   "name": "python3"
  },
  "language_info": {
   "codemirror_mode": {
    "name": "ipython",
    "version": 3
   },
   "file_extension": ".py",
   "mimetype": "text/x-python",
   "name": "python",
   "nbconvert_exporter": "python",
   "pygments_lexer": "ipython3",
   "version": "3.9.12"
  }
 },
 "nbformat": 4,
 "nbformat_minor": 5
}
