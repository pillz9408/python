{
 "cells": [
  {
   "cell_type": "markdown",
   "id": "182c02d3",
   "metadata": {},
   "source": [
    "# 정규 표현식(Regular Expression)\n",
    "    ## re.compile\n",
    "    ## .findall\n",
    "    ## .search\n",
    "    ## .match\n"
   ]
  },
  {
   "cell_type": "code",
   "execution_count": 1,
   "id": "b9c46c01",
   "metadata": {},
   "outputs": [],
   "source": [
    "import re"
   ]
  },
  {
   "cell_type": "code",
   "execution_count": 2,
   "id": "b5b64719",
   "metadata": {
    "scrolled": true
   },
   "outputs": [
    {
     "data": {
      "text/plain": [
       "re.compile(r'배고파?', re.UNICODE)"
      ]
     },
     "execution_count": 2,
     "metadata": {},
     "output_type": "execute_result"
    }
   ],
   "source": [
    "a = re.compile(\"배고파?\")\n",
    "a"
   ]
  },
  {
   "cell_type": "code",
   "execution_count": 5,
   "id": "4e3e0582",
   "metadata": {
    "scrolled": true
   },
   "outputs": [
    {
     "data": {
      "text/plain": [
       "['배고파', '배고파', '배고파', '배고파']"
      ]
     },
     "execution_count": 5,
     "metadata": {},
     "output_type": "execute_result"
    }
   ],
   "source": [
    "a.findall(\"배고파서, 배고파, 배고파, 배고파 노래를 불렀다\")"
   ]
  },
  {
   "cell_type": "code",
   "execution_count": 6,
   "id": "446f6826",
   "metadata": {},
   "outputs": [
    {
     "data": {
      "text/plain": [
       "<re.Match object; span=(0, 3), match='배고파'>"
      ]
     },
     "execution_count": 6,
     "metadata": {},
     "output_type": "execute_result"
    }
   ],
   "source": [
    "a.search(\"배고파서, 배고파, 배고파, 배고파 노래를 불렀다\")"
   ]
  },
  {
   "cell_type": "code",
   "execution_count": 3,
   "id": "893222aa",
   "metadata": {
    "scrolled": true
   },
   "outputs": [
    {
     "data": {
      "text/plain": [
       "<re.Match object; span=(0, 3), match='배고파'>"
      ]
     },
     "execution_count": 3,
     "metadata": {},
     "output_type": "execute_result"
    }
   ],
   "source": [
    "a.match(\"배고파\")"
   ]
  },
  {
   "cell_type": "code",
   "execution_count": 4,
   "id": "06e85d1f",
   "metadata": {
    "scrolled": true
   },
   "outputs": [
    {
     "name": "stdout",
     "output_type": "stream",
     "text": [
      "<re.Match object; span=(0, 3), match='배고파'>\n",
      "<re.Match object; span=(0, 3), match='배아파'>\n"
     ]
    }
   ],
   "source": [
    "a = re.compile(\"배.파\")\n",
    "print(a.match(\"배고파\"))\n",
    "print(a.match(\"배아파\"))"
   ]
  },
  {
   "cell_type": "markdown",
   "id": "bf33642d",
   "metadata": {},
   "source": [
    "# 정규표현식 기본문법 1\n",
    "    1. '.' = 모든 것 ( 오직 한 글자만 대치)\n",
    "    2. '*' = 0번이상 반복\n",
    "    3. '+' = 1번 이상 반복\n",
    "    4. {m} = m 번 반복\n",
    "    5. {m,n} = m번 이상 n번 이하 반복\n",
    "    6. '?' = 있어도 되고, 없어도 됨"
   ]
  },
  {
   "cell_type": "code",
   "execution_count": 8,
   "id": "891393c2",
   "metadata": {},
   "outputs": [
    {
     "name": "stdout",
     "output_type": "stream",
     "text": [
      "<re.Match object; span=(0, 3), match='배고파'>\n",
      "<re.Match object; span=(0, 3), match='배아파'>\n",
      "<re.Match object; span=(0, 3), match='배흙파'>\n"
     ]
    }
   ],
   "source": [
    "b= re.compile(\"배.파\")\n",
    "print(b.match(\"배고파\"))\n",
    "print(b.match(\"배아파\"))\n",
    "print(b.match(\"배흙파\"))"
   ]
  },
  {
   "cell_type": "code",
   "execution_count": 7,
   "id": "650fd181",
   "metadata": {},
   "outputs": [
    {
     "name": "stdout",
     "output_type": "stream",
     "text": [
      "<re.Match object; span=(0, 3), match='배고파'>\n",
      "<re.Match object; span=(0, 5), match='배고고고파'>\n",
      "<re.Match object; span=(0, 4), match='배고고파'>\n",
      "<re.Match object; span=(0, 5), match='배고고고파'>\n"
     ]
    }
   ],
   "source": [
    "b = re.compile(\"배고*파\")\n",
    "print(b.match(\"배파\"))\n",
    "print(b.match(\"배고파\"))\n",
    "print(b.match(\"배고고파\"))\n",
    "print(b.match(\"배고고고파\"))"
   ]
  },
  {
   "cell_type": "code",
   "execution_count": 9,
   "id": "67d1653d",
   "metadata": {},
   "outputs": [
    {
     "name": "stdout",
     "output_type": "stream",
     "text": [
      "None\n",
      "<re.Match object; span=(0, 3), match='배고파'>\n",
      "<re.Match object; span=(0, 4), match='배고고파'>\n",
      "<re.Match object; span=(0, 5), match='배고고고파'>\n"
     ]
    }
   ],
   "source": [
    "b = re.compile(\"배고+파\")\n",
    "print(b.match(\"배파\"))\n",
    "print(b.match(\"배고파\"))\n",
    "print(b.match(\"배고고파\"))\n",
    "print(b.match(\"배고고고파\"))"
   ]
  },
  {
   "cell_type": "code",
   "execution_count": 10,
   "id": "d37b7b44",
   "metadata": {},
   "outputs": [
    {
     "name": "stdout",
     "output_type": "stream",
     "text": [
      "None\n",
      "None\n",
      "<re.Match object; span=(0, 4), match='배고고파'>\n",
      "None\n"
     ]
    }
   ],
   "source": [
    "b = re.compile(\"배고{2}파\")\n",
    "print(b.match(\"배파\"))\n",
    "print(b.match(\"배고파\"))\n",
    "print(b.match(\"배고고파\"))\n",
    "print(b.match(\"배고고고파\"))"
   ]
  },
  {
   "cell_type": "code",
   "execution_count": 12,
   "id": "4b04a419",
   "metadata": {},
   "outputs": [
    {
     "name": "stdout",
     "output_type": "stream",
     "text": [
      "None\n",
      "<re.Match object; span=(0, 3), match='배고파'>\n",
      "<re.Match object; span=(0, 4), match='배고고파'>\n",
      "None\n"
     ]
    }
   ],
   "source": [
    "b = re.compile(\"배고{1,2}파\")\n",
    "print(b.match(\"배파\"))\n",
    "print(b.match(\"배고파\"))\n",
    "print(b.match(\"배고고파\"))\n",
    "print(b.match(\"배고고고파\"))"
   ]
  },
  {
   "cell_type": "code",
   "execution_count": 13,
   "id": "eb7fd1a9",
   "metadata": {},
   "outputs": [
    {
     "name": "stdout",
     "output_type": "stream",
     "text": [
      "<re.Match object; span=(0, 2), match='배파'>\n",
      "<re.Match object; span=(0, 3), match='배고파'>\n",
      "None\n",
      "None\n"
     ]
    }
   ],
   "source": [
    "b = re.compile(\"배고?파\")\n",
    "print(b.match(\"배파\"))\n",
    "print(b.match(\"배고파\"))\n",
    "print(b.match(\"배고고파\"))\n",
    "print(b.match(\"배고고고파\"))"
   ]
  },
  {
   "cell_type": "code",
   "execution_count": 14,
   "id": "49458070",
   "metadata": {
    "scrolled": true
   },
   "outputs": [
    {
     "name": "stdout",
     "output_type": "stream",
     "text": [
      "<re.Match object; span=(0, 10), match='나는 밥을 먹었다.'>\n",
      "None\n"
     ]
    }
   ],
   "source": [
    "b = re.compile(\"나는 밥을 먹었다\\.\")\n",
    "print(b.match(\"나는 밥을 먹었다.\"))\n",
    "print(b.match(\"나는 밥을 먹었다ㅋ\"))\n"
   ]
  },
  {
   "cell_type": "markdown",
   "id": "f2f21916",
   "metadata": {},
   "source": [
    "### 괄호의 활용\n",
    "    - () = and \n",
    "    - [] = or. 대괄호 안의 한글자만 있어도 인식"
   ]
  },
  {
   "cell_type": "code",
   "execution_count": 16,
   "id": "63740834",
   "metadata": {
    "scrolled": false
   },
   "outputs": [
    {
     "name": "stdout",
     "output_type": "stream",
     "text": [
      "None\n",
      "<re.Match object; span=(0, 3), match='배고파'>\n",
      "<re.Match object; span=(0, 5), match='배고파고파'>\n",
      "None\n"
     ]
    }
   ],
   "source": [
    "c = re.compile(\"배(고파)+\")\n",
    "print(c.match(\"배파\"))\n",
    "print(c.match(\"배고파\"))\n",
    "print(c.match(\"배고파고파\"))\n",
    "print(c.match(\"배고고파\"))\n"
   ]
  },
  {
   "cell_type": "code",
   "execution_count": 18,
   "id": "a975661c",
   "metadata": {},
   "outputs": [
    {
     "name": "stdout",
     "output_type": "stream",
     "text": [
      "None\n",
      "<re.Match object; span=(0, 2), match='배고'>\n",
      "<re.Match object; span=(0, 2), match='배파'>\n",
      "<re.Match object; span=(0, 2), match='배고'>\n"
     ]
    }
   ],
   "source": [
    "c = re.compile(\"배[고파]\")\n",
    "print(c.match(\"배\"))\n",
    "print(c.match(\"배고\"))\n",
    "print(c.match(\"배파\"))\n",
    "print(c.match(\"배고파\"))"
   ]
  },
  {
   "cell_type": "code",
   "execution_count": 19,
   "id": "720a2337",
   "metadata": {
    "scrolled": true
   },
   "outputs": [
    {
     "name": "stdout",
     "output_type": "stream",
     "text": [
      "None\n",
      "<re.Match object; span=(0, 2), match='배고'>\n",
      "<re.Match object; span=(0, 2), match='배파'>\n",
      "<re.Match object; span=(0, 3), match='배고파'>\n"
     ]
    }
   ],
   "source": [
    "c = re.compile(\"배[고파]+\")\n",
    "print(c.match(\"배\"))\n",
    "print(c.match(\"배고\"))\n",
    "print(c.match(\"배파\"))\n",
    "print(c.match(\"배고파\"))"
   ]
  },
  {
   "cell_type": "code",
   "execution_count": 20,
   "id": "4006b8e0",
   "metadata": {},
   "outputs": [
    {
     "name": "stdout",
     "output_type": "stream",
     "text": [
      "<re.Match object; span=(0, 2), match='공고'>\n",
      "<re.Match object; span=(0, 2), match='외고'>\n",
      "<re.Match object; span=(0, 2), match='남고'>\n",
      "<re.Match object; span=(0, 2), match='여고'>\n",
      "None\n"
     ]
    }
   ],
   "source": [
    "c = re.compile(\"[여남공외]고\")\n",
    "print(c.match(\"공고\"))\n",
    "print(c.match(\"외고\"))\n",
    "print(c.match(\"남고\"))\n",
    "print(c.match(\"여고\"))\n",
    "print(c.match(\"과학고\"))"
   ]
  },
  {
   "cell_type": "code",
   "execution_count": 21,
   "id": "8f012df9",
   "metadata": {},
   "outputs": [
    {
     "name": "stdout",
     "output_type": "stream",
     "text": [
      "<re.Match object; span=(0, 6), match='여자고등학교'>\n",
      "<re.Match object; span=(0, 6), match='남자고등학교'>\n",
      "<re.Match object; span=(0, 7), match='외국어고등학교'>\n"
     ]
    }
   ],
   "source": [
    "c= re.compile(\"(여자|남자|외국어|공업)고등학교\")\n",
    "print(c.match(\"여자고등학교\"))\n",
    "print(c.match(\"남자고등학교\"))\n",
    "print(c.match(\"외국어고등학교\"))\n",
    "### 뒤에 + 를 붙이면 여자외국어고등학교도 인식"
   ]
  },
  {
   "cell_type": "code",
   "execution_count": 23,
   "id": "c8d51237",
   "metadata": {},
   "outputs": [
    {
     "name": "stdout",
     "output_type": "stream",
     "text": [
      "<re.Match object; span=(0, 1), match='1'>\n",
      "<re.Match object; span=(0, 1), match='1'>\n"
     ]
    }
   ],
   "source": [
    "c= re.compile(\"[0-9]\") ### = re.compile(\"[0123456789]\") []를 이용한 구간표현\n",
    "print(c.match(\"1\"))\n",
    "print(c.match(\"\"))\n"
   ]
  },
  {
   "cell_type": "code",
   "execution_count": 25,
   "id": "d3b8ec05",
   "metadata": {},
   "outputs": [
    {
     "name": "stdout",
     "output_type": "stream",
     "text": [
      "<re.Match object; span=(0, 1), match='a'>\n"
     ]
    }
   ],
   "source": [
    "c= re.compile(\"[a-z]\")\n",
    "print(c.match(\"a\"))"
   ]
  },
  {
   "cell_type": "code",
   "execution_count": 27,
   "id": "ee811eed",
   "metadata": {},
   "outputs": [
    {
     "name": "stdout",
     "output_type": "stream",
     "text": [
      "<re.Match object; span=(0, 1), match='뺡'>\n"
     ]
    }
   ],
   "source": [
    "c= re.compile(\"[가-힣]\")\n",
    "print(c.match(\"뺡\"))"
   ]
  },
  {
   "cell_type": "code",
   "execution_count": 28,
   "id": "326be3c9",
   "metadata": {},
   "outputs": [
    {
     "name": "stdout",
     "output_type": "stream",
     "text": [
      "<re.Match object; span=(0, 1), match='ㅋ'>\n"
     ]
    }
   ],
   "source": [
    "c= re.compile(\"[ㄱ-ㅎ]\")\n",
    "print(c.match(\"ㅋ\"))"
   ]
  },
  {
   "cell_type": "code",
   "execution_count": 29,
   "id": "73e84ab2",
   "metadata": {},
   "outputs": [
    {
     "name": "stdout",
     "output_type": "stream",
     "text": [
      "<re.Match object; span=(0, 1), match='ㅗ'>\n"
     ]
    }
   ],
   "source": [
    "c= re.compile(\"[ㅏ-ㅣ]\")\n",
    "print(c.match(\"ㅗ\"))"
   ]
  },
  {
   "cell_type": "code",
   "execution_count": 30,
   "id": "ae887602",
   "metadata": {},
   "outputs": [
    {
     "name": "stdout",
     "output_type": "stream",
     "text": [
      "<re.Match object; span=(0, 1), match='3'>\n",
      "<re.Match object; span=(0, 1), match='b'>\n",
      "<re.Match object; span=(0, 1), match='B'>\n"
     ]
    }
   ],
   "source": [
    "c= re.compile(\"[a-zA-Z0-9]\")\n",
    "print(c.match(\"3\"))\n",
    "print(c.match(\"b\"))\n",
    "print(c.match(\"B\"))"
   ]
  },
  {
   "cell_type": "code",
   "execution_count": 32,
   "id": "e51ac35a",
   "metadata": {
    "scrolled": true
   },
   "outputs": [
    {
     "name": "stdout",
     "output_type": "stream",
     "text": [
      "None\n",
      "<re.Match object; span=(0, 1), match='b'>\n"
     ]
    }
   ],
   "source": [
    "c= re.compile(\"[^0-9]\") ### ^ = 여집합, 숫자 빼고 다 \n",
    "print(c.match(\"3\"))\n",
    "print(c.match(\"b\"))"
   ]
  },
  {
   "cell_type": "markdown",
   "id": "80acc645",
   "metadata": {},
   "source": [
    "## 정규표현식 특수 문법\n",
    "    # \"\\d\" : 모든 숫자 = [0-9]\n",
    "    # \"\\D\": 숫자빼고 다 = [^0-9]\n",
    "    # \"\\s\" : 띄어쓰기(공백)에만 대응\n",
    "    # \"\\S\" : 띄어쓰기(공백) 빼고 모든것 *자주 쓰임?\n",
    "    # \"\\w\" : 특수문자가 아닌 모든것. _는 인식한다.\n",
    "    # \"\\W\" : 모든 특수문자 (_는 제외)\n",
    "    "
   ]
  },
  {
   "cell_type": "code",
   "execution_count": 35,
   "id": "8bc2f3f2",
   "metadata": {
    "scrolled": true
   },
   "outputs": [
    {
     "name": "stdout",
     "output_type": "stream",
     "text": [
      "<re.Match object; span=(0, 1), match='9'>\n"
     ]
    }
   ],
   "source": [
    "d =re.compile(\"\\d\")\n",
    "print(d.match(\"9\"))"
   ]
  },
  {
   "cell_type": "code",
   "execution_count": 36,
   "id": "91ec8f20",
   "metadata": {
    "scrolled": true
   },
   "outputs": [
    {
     "name": "stdout",
     "output_type": "stream",
     "text": [
      "<re.Match object; span=(0, 1), match='가'>\n",
      "<re.Match object; span=(0, 1), match='a'>\n",
      "<re.Match object; span=(0, 1), match='1'>\n",
      "<re.Match object; span=(0, 1), match='_'>\n",
      "None\n",
      "None\n"
     ]
    }
   ],
   "source": [
    "d = re.compile(\"\\w\")\n",
    "print(d.match(\"가\"))\n",
    "print(d.match(\"a\"))\n",
    "print(d.match(\"1\"))\n",
    "print(d.match(\"_\"))\n",
    "print(d.match(\" \"))\n",
    "print(d.match(\".\"))"
   ]
  },
  {
   "cell_type": "code",
   "execution_count": 37,
   "id": "9bf3c492",
   "metadata": {
    "scrolled": false
   },
   "outputs": [
    {
     "name": "stdout",
     "output_type": "stream",
     "text": [
      "None\n",
      "None\n",
      "None\n",
      "None\n",
      "<re.Match object; span=(0, 1), match=' '>\n",
      "<re.Match object; span=(0, 1), match='.'>\n"
     ]
    }
   ],
   "source": [
    "d = re.compile(\"\\W\")\n",
    "print(d.match(\"가\"))\n",
    "print(d.match(\"a\"))\n",
    "print(d.match(\"1\"))\n",
    "print(d.match(\"_\"))\n",
    "print(d.match(\" \"))\n",
    "print(d.match(\".\"))"
   ]
  },
  {
   "cell_type": "markdown",
   "id": "33c79624",
   "metadata": {},
   "source": [
    "### 이메일 지칭하기.\n",
    "    - abcdefg@gmail.com\n",
    "    - abcd111@daum.net\n",
    "    - qq2314@yahoo.co.kr"
   ]
  },
  {
   "cell_type": "code",
   "execution_count": 81,
   "id": "07c7700c",
   "metadata": {
    "scrolled": false
   },
   "outputs": [
    {
     "name": "stdout",
     "output_type": "stream",
     "text": [
      "<re.Match object; span=(0, 17), match='abcdefg@gmail.com'>\n",
      "<re.Match object; span=(0, 16), match='abcd111@daum.net'>\n",
      "<re.Match object; span=(0, 18), match='qq2314@yahoo.co.kr'>\n",
      "None\n",
      "None\n",
      "None\n"
     ]
    }
   ],
   "source": [
    "E = re.compile(\"\\S+@\\w+\\.\\w+\\.?\\w*\")\n",
    "print(E.match(\"abcdefg@gmail.com\"))\n",
    "print(E.match(\"abcd111@daum.net\"))\n",
    "print(E.match(\"qq2314@yahoo.co.kr\"))\n",
    "print(E.match(\"abracadabra\"))\n",
    "print(E.match(\"@abracadabra\"))\n",
    "print(E.match(\"abraca@dabra\"))"
   ]
  },
  {
   "cell_type": "code",
   "execution_count": 76,
   "id": "bcd1aa63",
   "metadata": {},
   "outputs": [
    {
     "name": "stdout",
     "output_type": "stream",
     "text": [
      "<re.Match object; span=(0, 17), match='abcdefg@gmail.com'>\n",
      "<re.Match object; span=(0, 16), match='abcd111@daum.net'>\n",
      "<re.Match object; span=(0, 18), match='qq2314@yahoo.co.kr'>\n",
      "None\n",
      "None\n",
      "None\n"
     ]
    }
   ],
   "source": [
    "e = re.compile(\"\\S+@[a-zA-Z0-9]+\\.[a-zA-Z0-9]+\\.?[a-zA-Z0-9]*\")\n",
    "print(e.match(\"abcdefg@gmail.com\"))\n",
    "print(e.match(\"abcd111@daum.net\"))\n",
    "print(e.match(\"qq2314@yahoo.co.kr\"))\n",
    "print(e.match(\"abracadabra\"))\n",
    "print(e.match(\"@abracadabra\"))\n",
    "print(e.match(\"abraca@dabra\"))"
   ]
  },
  {
   "cell_type": "markdown",
   "id": "37293d36",
   "metadata": {},
   "source": [
    "## 전화번호 지정하기.\n",
    "    010-1234-5678\n",
    "    02-123-4456\n",
    "    031)12345615\n",
    "    112\n",
    "    1588-5588"
   ]
  },
  {
   "cell_type": "code",
   "execution_count": 106,
   "id": "9143e8db",
   "metadata": {},
   "outputs": [
    {
     "name": "stdout",
     "output_type": "stream",
     "text": [
      "<re.Match object; span=(0, 13), match='010-1234-5678'>\n",
      "<re.Match object; span=(0, 11), match='02-123-4456'>\n",
      "<re.Match object; span=(0, 11), match='02-123-4456'>\n",
      "<re.Match object; span=(0, 12), match='031)12345615'>\n",
      "<re.Match object; span=(0, 3), match='112'>\n",
      "<re.Match object; span=(0, 9), match='1588-5588'>\n",
      "<re.Match object; span=(0, 6), match='400000'>\n"
     ]
    }
   ],
   "source": [
    "Pn = re.compile(\"\\d{2,4}[\\-\\)]?\\d+-?\\d*\")\n",
    "print(Pn.match(\"010-1234-5678\"))\n",
    "print(Pn.match(\"02-123-4456\"))\n",
    "print(Pn.match(\"02-123-4456\"))\n",
    "print(Pn.match(\"031)12345615\"))\n",
    "print(Pn.match(\"112\"))\n",
    "print(Pn.match(\"1588-5588\"))\n",
    "print(Pn.match(\"400000\"))"
   ]
  },
  {
   "cell_type": "code",
   "execution_count": 107,
   "id": "45417f27",
   "metadata": {},
   "outputs": [
    {
     "name": "stdout",
     "output_type": "stream",
     "text": [
      "<re.Match object; span=(0, 13), match='010-1234-5678'>\n",
      "<re.Match object; span=(0, 11), match='02-123-4456'>\n",
      "<re.Match object; span=(0, 11), match='02-123-4456'>\n",
      "<re.Match object; span=(0, 12), match='031)12345615'>\n",
      "<re.Match object; span=(0, 3), match='112'>\n",
      "<re.Match object; span=(0, 9), match='1588-5588'>\n",
      "<re.Match object; span=(0, 6), match='400000'>\n"
     ]
    }
   ],
   "source": [
    "pn = re.compile(\"[0-9]+[\\-\\)]?[0-9]+\\-?[0-9]+\")\n",
    "print(Pn.match(\"010-1234-5678\"))\n",
    "print(Pn.match(\"02-123-4456\"))\n",
    "print(Pn.match(\"02-123-4456\"))\n",
    "print(Pn.match(\"031)12345615\"))\n",
    "print(Pn.match(\"112\"))\n",
    "print(Pn.match(\"1588-5588\"))\n",
    "print(Pn.match(\"400000\"))"
   ]
  }
 ],
 "metadata": {
  "kernelspec": {
   "display_name": "Python 3 (ipykernel)",
   "language": "python",
   "name": "python3"
  },
  "language_info": {
   "codemirror_mode": {
    "name": "ipython",
    "version": 3
   },
   "file_extension": ".py",
   "mimetype": "text/x-python",
   "name": "python",
   "nbconvert_exporter": "python",
   "pygments_lexer": "ipython3",
   "version": "3.9.12"
  }
 },
 "nbformat": 4,
 "nbformat_minor": 5
}
