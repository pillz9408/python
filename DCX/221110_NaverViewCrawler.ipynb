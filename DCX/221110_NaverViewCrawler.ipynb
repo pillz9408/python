{
 "cells": [
  {
   "cell_type": "code",
   "execution_count": 32,
   "metadata": {},
   "outputs": [],
   "source": [
    "# 라이브러리 import\n",
    "from selenium import webdriver\n",
    "import time\n",
    "from bs4 import BeautifulSoup as bs\n",
    "import csv\n",
    "import requests\n",
    "import pandas as pd\n",
    "import re\n",
    "from selenium.webdriver.common.desired_capabilities import DesiredCapabilities #다음화면으로 빨리 넘어갈때\n",
    "from selenium.common.exceptions import UnexpectedAlertPresentException #selenium 이용시 Alert을 제어\n",
    "import urllib.request\n",
    "import random\n",
    "from selenium.webdriver.chrome.options import Options\n",
    "from selenium.webdriver.common.by import By\n",
    "\n"
   ]
  },
  {
   "cell_type": "markdown",
   "metadata": {},
   "source": [
    "## 네이버 View 검색을 활용한 블로그 검색\n",
    "- 스크롤 활용\n",
    "- 월 별로 1000건 제한 걸어둔 네이버"
   ]
  },
  {
   "cell_type": "code",
   "execution_count": 33,
   "metadata": {},
   "outputs": [],
   "source": [
    "# 크롤링 시작과 끝 날짜 (달 별로 크롤링)\n",
    "first_days = pd.date_range('2021/01/01','2021/01/31', freq='MS')#각 달의 첫 날\n",
    "last_days = pd.date_range('2021/01/01','2021/01/31', freq='M') # 각 달의 마지막 날\n",
    "\n",
    "keyword_list =['데일리룩','OOTD'] #검색 키워드 추가"
   ]
  },
  {
   "cell_type": "code",
   "execution_count": 34,
   "metadata": {},
   "outputs": [],
   "source": [
    "#크롬드라이버 제어\n",
    "chrome_options = Options()\n",
    "chrome_options.add_argument('--no-sandbox') #bypass OS security model\n",
    "chrome_options.add_argument('--disable-dex-shm-usage')#overcome limited resource\n",
    "# 현재 컴큐터 크롬 드라이버 위치\n",
    "chorme_path = './chromedriver.exe' #본인의 크롬 드라이버 위치 입력"
   ]
  },
  {
   "cell_type": "code",
   "execution_count": 35,
   "metadata": {},
   "outputs": [
    {
     "name": "stdout",
     "output_type": "stream",
     "text": [
      "데일리룩 키워드 2021년 1월 990 개 블로그URL수집\n",
      "OOTD 키워드 2021년 1월 990 개 블로그URL수집\n"
     ]
    }
   ],
   "source": [
    "#블로그 주소 수집\n",
    "blog_url_list = []\n",
    "\n",
    "#네이버에 키워드 검색\n",
    "for keyword in keyword_list:\n",
    "    url = 'https://search.naver.com/search.naver?sm=tab_hty.top&where=blog&query={}&oquery={}'.format(keyword, keyword)\n",
    "    # 자동화된 크롬 창 실행\n",
    "    driver = webdriver.Chrome(executable_path=chorme_path, options=chrome_options)\n",
    "    driver.implicitly_wait(3)\n",
    "    \n",
    "    driver.get(url)\n",
    "    time.sleep(3)\n",
    "    \n",
    "    url_want = 990 #한번에 1000개밖에 못긁어옴\n",
    "    \n",
    "    driver.find_element('xpath','//*[@id=\"snb\"]/div[1]/div/div[2]/a').click() #검색 옵션 클릭\n",
    "    \n",
    "    #날짜 지정\n",
    "    for k in range(len(first_days)):\n",
    "        try:\n",
    "            #시작과 끝의 년,월,일 설정\n",
    "            driver.find_element('xpath','//*[@id=\"snb\"]/div[2]/ul/li[3]/div/div[1]/a[9]/i').click() #직접 입력\n",
    "            driver.find_element('xpath','//*[@id=\"snb\"]/div[2]/ul/li[3]/div/div[2]/div[2]/div[1]/div/div/div/ul/li[{0}]'.format(first_days.year[k]-2002)).click()\n",
    "            driver.find_element('xpath','//*[@id=\"snb\"]/div[2]/ul/li[3]/div/div[2]/div[2]/div[2]/div/div/div/ul/li[{0}]/a'.format(first_days.month[k])).click()\n",
    "            driver.find_element('xpath','//*[@id=\"snb\"]/div[2]/ul/li[3]/div/div[2]/div[2]/div[3]/div/div/div/ul/li[{0}]/a'.format(first_days.day[k])).click()\n",
    "            driver.find_element('xpath','//*[@id=\"snb\"]/div[2]/ul/li[3]/div/div[2]/div[1]/span[3]/a').click()\n",
    "            driver.find_element('xpath','//*[@id=\"snb\"]/div[2]/ul/li[3]/div/div[2]/div[2]/div[1]/div/div/div/ul/li[{0}]'.format(last_days.year[k]-2002)).click()\n",
    "            driver.find_element('xpath','//*[@id=\"snb\"]/div[2]/ul/li[3]/div/div[2]/div[2]/div[2]/div/div/div/ul/li[{0}]/a'.format(last_days.month[k])).click()\n",
    "            driver.find_element('xpath','//*[@id=\"snb\"]/div[2]/ul/li[3]/div/div[2]/div[2]/div[3]/div/div/div/ul/li[{0}]/a'.format(last_days.day[k])).click()\n",
    "            driver.find_element('xpath','//*[@id=\"snb\"]/div[2]/ul/li[3]/div/div[2]/div[3]/button').click()\n",
    "            \n",
    "            #스크롤 조작\n",
    "            last_height = driver.execute_script('return document.body.scrollHeight')\n",
    "            \n",
    "            scroll = (url_want/30)-1 #한 페이지에 기본으로 30개 글이 나옴\n",
    "            \n",
    "            #스크롤 다운\n",
    "            for i in range(int(scroll)):\n",
    "                driver.execute_script('window.scrollTo(0,document.body.scrollHeight)')\n",
    "                time.sleep(random.uniform(1,1.7))\n",
    "                \n",
    "                new_height = driver.execute_script('return document.body.scrollHeight')\n",
    "                \n",
    "                if new_height == last_height:\n",
    "                    break\n",
    "                last_height = new_height\n",
    "                \n",
    "            soup = bs(driver.page_source,'lxml')\n",
    "            blog_url = soup.find_all('a', class_='api_txt_lines total_tit')\n",
    "            \n",
    "            #url 주소 수집\n",
    "            for i in blog_url:\n",
    "                blog_url_list.append(i['href']) #주소 수집\n",
    "            \n",
    "            print('{0} 키워드 {1}년 {2}월'.format(keyword, first_days.year[k], first_days.month[k]), len(blog_url),'개 블로그URL수집')\n",
    "            \n",
    "            driver.execute_script('window.scrollTo(0,0)') #수집 완료 후 스크롤 더 내려가기 방지\n",
    "            \n",
    "        except:\n",
    "            pass"
   ]
  },
  {
   "cell_type": "code",
   "execution_count": 36,
   "metadata": {},
   "outputs": [
    {
     "data": {
      "text/plain": [
       "1980"
      ]
     },
     "execution_count": 36,
     "metadata": {},
     "output_type": "execute_result"
    }
   ],
   "source": [
    "len(blog_url_list)"
   ]
  },
  {
   "cell_type": "code",
   "execution_count": 37,
   "metadata": {},
   "outputs": [
    {
     "data": {
      "text/plain": [
       "1917"
      ]
     },
     "execution_count": 37,
     "metadata": {},
     "output_type": "execute_result"
    }
   ],
   "source": [
    "#수집 후 URL list 중복 확인\n",
    "real_list = set(blog_url_list)\n",
    "blog_url_list = list(real_list)\n",
    "len(blog_url_list)"
   ]
  },
  {
   "cell_type": "code",
   "execution_count": 38,
   "metadata": {},
   "outputs": [],
   "source": [
    "#파일저장(블로그 주소)\n",
    "k = pd.DataFrame(blog_url_list)\n",
    "k.to_csv('url_list_데일리룩_OOTD.csv', encoding='utf-8-sig')"
   ]
  },
  {
   "cell_type": "code",
   "execution_count": 39,
   "metadata": {},
   "outputs": [],
   "source": [
    "#블로그 크롤링\n",
    "url = pd.read_csv('url_list_데일리룩_OOTD.csv')\n",
    "blog_url_list = list(url['0'])"
   ]
  },
  {
   "cell_type": "code",
   "execution_count": 40,
   "metadata": {},
   "outputs": [
    {
     "name": "stderr",
     "output_type": "stream",
     "text": [
      "C:\\Users\\user\\AppData\\Local\\Temp\\ipykernel_15676\\769458119.py:13: DeprecationWarning: use options instead of chrome_options\n",
      "  driver = webdriver.Chrome(executable_path=chorme_path, chrome_options=chrome_options) #크롬 드라이버 위치만 바꿔주시면 됩니다.\n"
     ]
    },
    {
     "name": "stdout",
     "output_type": "stream",
     "text": [
      "10개 블로그 크롤링 완료\n",
      "20개 블로그 크롤링 완료\n",
      "30개 블로그 크롤링 완료\n",
      "40개 블로그 크롤링 완료\n",
      "50개 블로그 크롤링 완료\n",
      "60개 블로그 크롤링 완료\n",
      "70개 블로그 크롤링 완료\n",
      "80개 블로그 크롤링 완료\n",
      "90개 블로그 크롤링 완료\n",
      "100개 블로그 크롤링 완료\n",
      "110개 블로그 크롤링 완료\n",
      "120개 블로그 크롤링 완료\n",
      "130개 블로그 크롤링 완료\n",
      "140개 블로그 크롤링 완료\n",
      "150개 블로그 크롤링 완료\n",
      "160개 블로그 크롤링 완료\n",
      "170개 블로그 크롤링 완료\n",
      "180개 블로그 크롤링 완료\n",
      "190개 블로그 크롤링 완료\n",
      "200개 블로그 크롤링 완료\n",
      "210개 블로그 크롤링 완료\n",
      "220개 블로그 크롤링 완료\n",
      "230개 블로그 크롤링 완료\n",
      "240개 블로그 크롤링 완료\n"
     ]
    },
    {
     "ename": "NoSuchWindowException",
     "evalue": "Message: no such window: target window already closed\nfrom unknown error: web view not found\n  (Session info: chrome=107.0.5304.107)\n",
     "output_type": "error",
     "traceback": [
      "\u001b[1;31m---------------------------------------------------------------------------\u001b[0m",
      "\u001b[1;31mNoSuchWindowException\u001b[0m                     Traceback (most recent call last)",
      "Cell \u001b[1;32mIn [40], line 23\u001b[0m\n\u001b[0;32m     19\u001b[0m time\u001b[39m.\u001b[39msleep(\u001b[39m1\u001b[39m)\n\u001b[0;32m     21\u001b[0m \u001b[39mtry\u001b[39;00m:\n\u001b[0;32m     22\u001b[0m     \u001b[39m# 전체 본문 가지고 와서\u001b[39;00m\n\u001b[1;32m---> 23\u001b[0m     driver\u001b[39m.\u001b[39;49mswitch_to\u001b[39m.\u001b[39;49mframe(\u001b[39m'\u001b[39;49m\u001b[39mmainFrame\u001b[39;49m\u001b[39m'\u001b[39;49m) \u001b[39m#네이버는 mainFrame을 바꿔줘야 수집이 됌\u001b[39;00m\n\u001b[0;32m     24\u001b[0m     time\u001b[39m.\u001b[39msleep(\u001b[39m1\u001b[39m)\n\u001b[0;32m     26\u001b[0m     soup \u001b[39m=\u001b[39m bs(driver\u001b[39m.\u001b[39mpage_source, \u001b[39m'\u001b[39m\u001b[39mlxml\u001b[39m\u001b[39m'\u001b[39m) \u001b[39m#뷰티풀숩을 이용해서 구문 분석(lxml 파싱 이용. 모든 테그에서 데이터를 추출위함)\u001b[39;00m\n",
      "File \u001b[1;32mc:\\Users\\user\\AppData\\Local\\Programs\\Python\\Python38\\lib\\site-packages\\selenium\\webdriver\\remote\\switch_to.py:82\u001b[0m, in \u001b[0;36mSwitchTo.frame\u001b[1;34m(self, frame_reference)\u001b[0m\n\u001b[0;32m     80\u001b[0m \u001b[39mif\u001b[39;00m \u001b[39misinstance\u001b[39m(frame_reference, basestring) \u001b[39mand\u001b[39;00m \u001b[39mself\u001b[39m\u001b[39m.\u001b[39m_driver\u001b[39m.\u001b[39mw3c:\n\u001b[0;32m     81\u001b[0m     \u001b[39mtry\u001b[39;00m:\n\u001b[1;32m---> 82\u001b[0m         frame_reference \u001b[39m=\u001b[39m \u001b[39mself\u001b[39;49m\u001b[39m.\u001b[39;49m_driver\u001b[39m.\u001b[39;49mfind_element(By\u001b[39m.\u001b[39;49mID, frame_reference)\n\u001b[0;32m     83\u001b[0m     \u001b[39mexcept\u001b[39;00m NoSuchElementException:\n\u001b[0;32m     84\u001b[0m         \u001b[39mtry\u001b[39;00m:\n",
      "File \u001b[1;32mc:\\Users\\user\\AppData\\Local\\Programs\\Python\\Python38\\lib\\site-packages\\selenium\\webdriver\\remote\\webdriver.py:976\u001b[0m, in \u001b[0;36mWebDriver.find_element\u001b[1;34m(self, by, value)\u001b[0m\n\u001b[0;32m    974\u001b[0m         by \u001b[39m=\u001b[39m By\u001b[39m.\u001b[39mCSS_SELECTOR\n\u001b[0;32m    975\u001b[0m         value \u001b[39m=\u001b[39m \u001b[39m'\u001b[39m\u001b[39m[name=\u001b[39m\u001b[39m\"\u001b[39m\u001b[39m%s\u001b[39;00m\u001b[39m\"\u001b[39m\u001b[39m]\u001b[39m\u001b[39m'\u001b[39m \u001b[39m%\u001b[39m value\n\u001b[1;32m--> 976\u001b[0m \u001b[39mreturn\u001b[39;00m \u001b[39mself\u001b[39;49m\u001b[39m.\u001b[39;49mexecute(Command\u001b[39m.\u001b[39;49mFIND_ELEMENT, {\n\u001b[0;32m    977\u001b[0m     \u001b[39m'\u001b[39;49m\u001b[39musing\u001b[39;49m\u001b[39m'\u001b[39;49m: by,\n\u001b[0;32m    978\u001b[0m     \u001b[39m'\u001b[39;49m\u001b[39mvalue\u001b[39;49m\u001b[39m'\u001b[39;49m: value})[\u001b[39m'\u001b[39m\u001b[39mvalue\u001b[39m\u001b[39m'\u001b[39m]\n",
      "File \u001b[1;32mc:\\Users\\user\\AppData\\Local\\Programs\\Python\\Python38\\lib\\site-packages\\selenium\\webdriver\\remote\\webdriver.py:321\u001b[0m, in \u001b[0;36mWebDriver.execute\u001b[1;34m(self, driver_command, params)\u001b[0m\n\u001b[0;32m    319\u001b[0m response \u001b[39m=\u001b[39m \u001b[39mself\u001b[39m\u001b[39m.\u001b[39mcommand_executor\u001b[39m.\u001b[39mexecute(driver_command, params)\n\u001b[0;32m    320\u001b[0m \u001b[39mif\u001b[39;00m response:\n\u001b[1;32m--> 321\u001b[0m     \u001b[39mself\u001b[39;49m\u001b[39m.\u001b[39;49merror_handler\u001b[39m.\u001b[39;49mcheck_response(response)\n\u001b[0;32m    322\u001b[0m     response[\u001b[39m'\u001b[39m\u001b[39mvalue\u001b[39m\u001b[39m'\u001b[39m] \u001b[39m=\u001b[39m \u001b[39mself\u001b[39m\u001b[39m.\u001b[39m_unwrap_value(\n\u001b[0;32m    323\u001b[0m         response\u001b[39m.\u001b[39mget(\u001b[39m'\u001b[39m\u001b[39mvalue\u001b[39m\u001b[39m'\u001b[39m, \u001b[39mNone\u001b[39;00m))\n\u001b[0;32m    324\u001b[0m     \u001b[39mreturn\u001b[39;00m response\n",
      "File \u001b[1;32mc:\\Users\\user\\AppData\\Local\\Programs\\Python\\Python38\\lib\\site-packages\\selenium\\webdriver\\remote\\errorhandler.py:242\u001b[0m, in \u001b[0;36mErrorHandler.check_response\u001b[1;34m(self, response)\u001b[0m\n\u001b[0;32m    240\u001b[0m         alert_text \u001b[39m=\u001b[39m value[\u001b[39m'\u001b[39m\u001b[39malert\u001b[39m\u001b[39m'\u001b[39m]\u001b[39m.\u001b[39mget(\u001b[39m'\u001b[39m\u001b[39mtext\u001b[39m\u001b[39m'\u001b[39m)\n\u001b[0;32m    241\u001b[0m     \u001b[39mraise\u001b[39;00m exception_class(message, screen, stacktrace, alert_text)\n\u001b[1;32m--> 242\u001b[0m \u001b[39mraise\u001b[39;00m exception_class(message, screen, stacktrace)\n",
      "\u001b[1;31mNoSuchWindowException\u001b[0m: Message: no such window: target window already closed\nfrom unknown error: web view not found\n  (Session info: chrome=107.0.5304.107)\n"
     ]
    }
   ],
   "source": [
    "no_naver_blog1=[]\n",
    "\n",
    "start = time.time()\n",
    "\n",
    "\n",
    "time_list = [] #시간\n",
    "review_list = [] #리뷰\n",
    "comment_list = [] #댓글\n",
    "like_list = [] #좋아요수\n",
    "url_list = [] #url주소\n",
    "count = 0\n",
    "\n",
    "driver = webdriver.Chrome(executable_path=chorme_path, chrome_options=chrome_options) #크롬 드라이버 위치만 바꿔주시면 됩니다.\n",
    "for url in blog_url_list: #기본적으로 고치지 않으시지만, n번째 크롤링에서 멈췄다면, blog_url_list를 blog_url_list[n:]으로 고칩니다.\n",
    "    if 'naver' in url: #네이버 블로그만 수집(다른 사이트가 섞이면 크롤링 에러가 남)\n",
    "    \n",
    "        count += 1\n",
    "        driver.get(url) #url 하나씩 글을 수집할꺼야\n",
    "        time.sleep(1)\n",
    "\n",
    "        try:\n",
    "            # 전체 본문 가지고 와서\n",
    "            driver.switch_to.frame('mainFrame') #네이버는 mainFrame을 바꿔줘야 수집이 됌\n",
    "            time.sleep(1)\n",
    "        \n",
    "            soup = bs(driver.page_source, 'lxml') #뷰티풀숩을 이용해서 구문 분석(lxml 파싱 이용. 모든 테그에서 데이터를 추출위함)\n",
    "            postview = soup.find('div', attrs={'id': re.compile('post-view.+')}).get_text()\n",
    "\n",
    "            reg = re.compile(r'[\\s+]') #r은 raw string. \\s+는 공백문자\n",
    "            postview_reg = reg.sub(' ',postview) #공백을 띄어쓰기로 대치해서 본문 글 수집\n",
    "            try:\n",
    "                # 좋아요수\n",
    "                like = driver.find_element(\"xpath\", \"//span[@class='u_likeit_list_btn _button btn_sympathy pcol2 off']/em[@class='u_cnt _count']\")\n",
    "                like = like.text\n",
    "            except:\n",
    "                like = [] #좋아요 없으면 빈 리스트\n",
    "            \n",
    "            try:\n",
    "                timeline = driver.find_element(\"xpath\", \"//span[@class='se_publishDate pcol2']\") #수정 안 한 경우\n",
    "        \n",
    "            except:\n",
    "                timeline = driver.find_element(\"xpath\", \"//p[@class='date fil5 pcol2 _postAddDate']\") #수정 한 경우\n",
    "            timeline = timeline.text\n",
    "\n",
    "            try:\n",
    "                driver.find_element(By.CSS_SELECTOR,'span.btn_arr').click() #댓글 내리는 버튼(태그명.클래스선택자)\n",
    "                #driver.find_element_by_css_selector('span.btn_arr').click()\n",
    "                time.sleep(1.7)\n",
    "\n",
    "                comment_blog = []\n",
    "                comment = driver.find_element(By.CSS_SELECTOR,'span.u_cbox_contents') #댓글\n",
    "                #comment = driver.find_elements_by_css_selector('span.u_cbox_contents')\n",
    "                for i in comment: #댓글 수집\n",
    "                    com = str(i.text) #\n",
    "                    com = reg.sub(' ',com) \n",
    "                    comment_blog.append(([com]))\n",
    "            except: \n",
    "                comment_blog = []\n",
    "             \n",
    "            time_list.append(timeline)\n",
    "            review_list.append(postview_reg)\n",
    "            comment_list.append(comment_blog)\n",
    "            url_list.append(url)\n",
    "            like_list.append(like)\n",
    "            time.sleep(random.uniform(1,1.6))\n",
    "        except UnexpectedAlertPresentException:\n",
    "            pass\n",
    "    else:\n",
    "        no_naver_blog1.append(url)\n",
    "        print('네이버 블로그 아닌 url: ',url)\n",
    "        \n",
    "    if count%10 ==0:\n",
    "        print('{}개 블로그 크롤링 완료'.format(count))"
   ]
  },
  {
   "cell_type": "code",
   "execution_count": 41,
   "metadata": {},
   "outputs": [
    {
     "data": {
      "text/plain": [
       "243"
      ]
     },
     "execution_count": 41,
     "metadata": {},
     "output_type": "execute_result"
    }
   ],
   "source": [
    "len(time_list)"
   ]
  },
  {
   "cell_type": "code",
   "execution_count": 1,
   "metadata": {},
   "outputs": [
    {
     "ename": "NameError",
     "evalue": "name 'time_list' is not defined",
     "output_type": "error",
     "traceback": [
      "\u001b[1;31m---------------------------------------------------------------------------\u001b[0m",
      "\u001b[1;31mNameError\u001b[0m                                 Traceback (most recent call last)",
      "Cell \u001b[1;32mIn [1], line 1\u001b[0m\n\u001b[1;32m----> 1\u001b[0m data \u001b[39m=\u001b[39m {\u001b[39m'\u001b[39m\u001b[39mtime\u001b[39m\u001b[39m'\u001b[39m:time_list,\n\u001b[0;32m      2\u001b[0m         \u001b[39m'\u001b[39m\u001b[39mreview\u001b[39m\u001b[39m'\u001b[39m:review_list,\n\u001b[0;32m      3\u001b[0m         \u001b[39m'\u001b[39m\u001b[39mlike\u001b[39m\u001b[39m'\u001b[39m:like_list,\n\u001b[0;32m      4\u001b[0m         \u001b[39m'\u001b[39m\u001b[39murl\u001b[39m\u001b[39m'\u001b[39m:url_list,\n\u001b[0;32m      5\u001b[0m         \u001b[39m'\u001b[39m\u001b[39mcomment\u001b[39m\u001b[39m'\u001b[39m: comment_list}\n\u001b[0;32m      7\u001b[0m df \u001b[39m=\u001b[39m pd\u001b[39m.\u001b[39mDataFrame(data)\n\u001b[0;32m      9\u001b[0m \u001b[39mprint\u001b[39m(\u001b[39m'\u001b[39m\u001b[39m크롤링 소요시간\u001b[39m\u001b[39m'\u001b[39m, time\u001b[39m.\u001b[39mtime()\u001b[39m-\u001b[39mstart)\n",
      "\u001b[1;31mNameError\u001b[0m: name 'time_list' is not defined"
     ]
    }
   ],
   "source": [
    "data = {'time':time_list,\n",
    "        'review':review_list,\n",
    "        'like':like_list,\n",
    "        'url':url_list,\n",
    "        'comment': comment_list}\n",
    "\n",
    "df = pd.DataFrame(data)\n",
    "\n",
    "print('크롤링 소요시간', time.time()-start)\n",
    "print('총 {}개 블로그 크롤링 완료!'.format(count))\n",
    "df.head()"
   ]
  },
  {
   "cell_type": "code",
   "execution_count": 43,
   "metadata": {},
   "outputs": [],
   "source": [
    "#csv저장\n",
    "df.to_csv('데일리룩.csv', encoding='utf-8-sig')"
   ]
  }
 ],
 "metadata": {
  "kernelspec": {
   "display_name": "Python 3.8.9 64-bit",
   "language": "python",
   "name": "python3"
  },
  "language_info": {
   "codemirror_mode": {
    "name": "ipython",
    "version": 3
   },
   "file_extension": ".py",
   "mimetype": "text/x-python",
   "name": "python",
   "nbconvert_exporter": "python",
   "pygments_lexer": "ipython3",
   "version": "3.8.9"
  },
  "orig_nbformat": 4,
  "vscode": {
   "interpreter": {
    "hash": "6a926afa313b26ae1264fdcf81c726a97e69f6ba2ba780f6aa901948710f8d6e"
   }
  }
 },
 "nbformat": 4,
 "nbformat_minor": 2
}
