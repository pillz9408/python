{
 "cells": [
  {
   "cell_type": "code",
   "execution_count": 1,
   "id": "492072b0",
   "metadata": {
    "scrolled": true
   },
   "outputs": [
    {
     "name": "stdout",
     "output_type": "stream",
     "text": [
      "오늘 뭐 먹냐\n"
     ]
    }
   ],
   "source": [
    "string = \"오늘 뭐 먹냐\"\n",
    "print(string)"
   ]
  },
  {
   "cell_type": "code",
   "execution_count": 2,
   "id": "b55fc010",
   "metadata": {},
   "outputs": [
    {
     "data": {
      "text/plain": [
       "'점심점심점심'"
      ]
     },
     "execution_count": 2,
     "metadata": {},
     "output_type": "execute_result"
    }
   ],
   "source": [
    "\"점심\" * 3"
   ]
  },
  {
   "cell_type": "markdown",
   "id": "1e3e89c4",
   "metadata": {},
   "source": [
    "\"오늘 점심 뭐 먹지?\"\n",
    "### 모든 언어에는 순서가 있다. \n",
    "0. 오\n",
    "1. 늘\n",
    "3 \" \"\n",
    "4. 점 \n",
    "..."
   ]
  },
  {
   "cell_type": "code",
   "execution_count": 4,
   "id": "e329eb70",
   "metadata": {},
   "outputs": [
    {
     "data": {
      "text/plain": [
       "'뭐'"
      ]
     },
     "execution_count": 4,
     "metadata": {},
     "output_type": "execute_result"
    }
   ],
   "source": [
    "\"오늘 점심 뭐 먹지?\"[6]"
   ]
  },
  {
   "cell_type": "code",
   "execution_count": 5,
   "id": "0dce77d0",
   "metadata": {},
   "outputs": [
    {
     "data": {
      "text/plain": [
       "'점심'"
      ]
     },
     "execution_count": 5,
     "metadata": {},
     "output_type": "execute_result"
    }
   ],
   "source": [
    "\"오늘 점심 뭐 먹지?\"[3:5]"
   ]
  },
  {
   "cell_type": "code",
   "execution_count": 6,
   "id": "29b518a5",
   "metadata": {},
   "outputs": [
    {
     "data": {
      "text/plain": [
       "'l'"
      ]
     },
     "execution_count": 6,
     "metadata": {},
     "output_type": "execute_result"
    }
   ],
   "source": [
    "\"apple\"[3]"
   ]
  },
  {
   "cell_type": "code",
   "execution_count": 9,
   "id": "898dba2d",
   "metadata": {},
   "outputs": [
    {
     "data": {
      "text/plain": [
       "' 먹지?'"
      ]
     },
     "execution_count": 9,
     "metadata": {},
     "output_type": "execute_result"
    }
   ],
   "source": [
    "\"오늘 점심 뭐 먹지?\"[-4:]"
   ]
  },
  {
   "cell_type": "code",
   "execution_count": 11,
   "id": "855deb53",
   "metadata": {},
   "outputs": [
    {
     "name": "stdout",
     "output_type": "stream",
     "text": [
      "오늘 점심 메뉴는 김치 볶음밥 입니다.\n"
     ]
    }
   ],
   "source": [
    "menu = \"김치 볶음밥\"\n",
    "\n",
    "print(\"오늘 점심 메뉴는 %s 입니다.\" % menu)"
   ]
  },
  {
   "cell_type": "code",
   "execution_count": 12,
   "id": "5f82ac30",
   "metadata": {},
   "outputs": [],
   "source": [
    "lyrics =\"sorry sorry sorry sorry sorry sorry sorry 내가 내가 내가 내가 내가 네게 네게 네게\""
   ]
  },
  {
   "cell_type": "code",
   "execution_count": 13,
   "id": "d66622e7",
   "metadata": {},
   "outputs": [
    {
     "data": {
      "text/plain": [
       "7"
      ]
     },
     "execution_count": 13,
     "metadata": {},
     "output_type": "execute_result"
    }
   ],
   "source": [
    "lyrics.count(\"sorry\")"
   ]
  },
  {
   "cell_type": "code",
   "execution_count": 14,
   "id": "50f57afc",
   "metadata": {},
   "outputs": [
    {
     "data": {
      "text/plain": [
       "'SORRY SORRY SORRY SORRY SORRY SORRY SORRY 내가 내가 내가 내가 내가 네게 네게 네게'"
      ]
     },
     "execution_count": 14,
     "metadata": {},
     "output_type": "execute_result"
    }
   ],
   "source": [
    "lyrics.upper()"
   ]
  },
  {
   "cell_type": "code",
   "execution_count": 15,
   "id": "0afff633",
   "metadata": {},
   "outputs": [
    {
     "data": {
      "text/plain": [
       "'sorry sorry sorry sorry sorry sorry sorry 내가 내가 내가 내가 내가 네게 네게 네게'"
      ]
     },
     "execution_count": 15,
     "metadata": {},
     "output_type": "execute_result"
    }
   ],
   "source": [
    "lyrics.lower()"
   ]
  },
  {
   "cell_type": "code",
   "execution_count": 16,
   "id": "b567a1cf",
   "metadata": {},
   "outputs": [
    {
     "data": {
      "text/plain": [
       "0"
      ]
     },
     "execution_count": 16,
     "metadata": {},
     "output_type": "execute_result"
    }
   ],
   "source": [
    "lyrics.find(\"sorry\")"
   ]
  },
  {
   "cell_type": "code",
   "execution_count": 17,
   "id": "f9c66727",
   "metadata": {},
   "outputs": [
    {
     "data": {
      "text/plain": [
       "'미안 미안 미안 미안 미안 미안 미안 내가 내가 내가 내가 내가 네게 네게 네게'"
      ]
     },
     "execution_count": 17,
     "metadata": {},
     "output_type": "execute_result"
    }
   ],
   "source": [
    "lyrics.replace(\"sorry\",\"미안\")"
   ]
  },
  {
   "cell_type": "code",
   "execution_count": 18,
   "id": "dfa34ff6",
   "metadata": {},
   "outputs": [
    {
     "data": {
      "text/plain": [
       "['sorry',\n",
       " 'sorry',\n",
       " 'sorry',\n",
       " 'sorry',\n",
       " 'sorry',\n",
       " 'sorry',\n",
       " 'sorry',\n",
       " '내가',\n",
       " '내가',\n",
       " '내가',\n",
       " '내가',\n",
       " '내가',\n",
       " '네게',\n",
       " '네게',\n",
       " '네게']"
      ]
     },
     "execution_count": 18,
     "metadata": {},
     "output_type": "execute_result"
    }
   ],
   "source": [
    "lyrics.split()"
   ]
  },
  {
   "cell_type": "code",
   "execution_count": 19,
   "id": "56c3afe3",
   "metadata": {
    "scrolled": true
   },
   "outputs": [
    {
     "data": {
      "text/plain": [
       "['sorry sorry sorry sorry sorry sorry sorry 내',\n",
       " ' 내',\n",
       " ' 내',\n",
       " ' 내',\n",
       " ' 내',\n",
       " ' 네게 네게 네게']"
      ]
     },
     "execution_count": 19,
     "metadata": {},
     "output_type": "execute_result"
    }
   ],
   "source": [
    "lyrics.split(\"가\")"
   ]
  },
  {
   "cell_type": "markdown",
   "id": "34f2ac61",
   "metadata": {},
   "source": [
    "## 명제 = 참or 거짓 을 판별 할 수 있는 문장.\n",
    "==, >, <, >=, <=, !="
   ]
  },
  {
   "cell_type": "code",
   "execution_count": 21,
   "id": "fe33d4fc",
   "metadata": {},
   "outputs": [
    {
     "data": {
      "text/plain": [
       "bool"
      ]
     },
     "execution_count": 21,
     "metadata": {},
     "output_type": "execute_result"
    }
   ],
   "source": [
    "type(1+1 == 2)"
   ]
  },
  {
   "cell_type": "code",
   "execution_count": 23,
   "id": "0738d504",
   "metadata": {},
   "outputs": [
    {
     "data": {
      "text/plain": [
       "True"
      ]
     },
     "execution_count": 23,
     "metadata": {},
     "output_type": "execute_result"
    }
   ],
   "source": [
    " 1+2 !=2"
   ]
  },
  {
   "cell_type": "markdown",
   "id": "b7ea1ce7",
   "metadata": {},
   "source": [
    "명제 and 명제 = 두 명제가 모두 참일때만 참 \n",
    "명제 or 명제 = 두 명제중 하나만 참이여도 참"
   ]
  },
  {
   "cell_type": "markdown",
   "id": "d516cd8c",
   "metadata": {},
   "source": [
    "### 조건문"
   ]
  },
  {
   "cell_type": "markdown",
   "id": "2799ada9",
   "metadata": {},
   "source": [
    "if 명제 : \n",
    "    명제가 참일 경우에 실행되는 코드\n",
    "else 명제:\n",
    "    명제가 거짓일 경우 실행되는 코드"
   ]
  },
  {
   "cell_type": "code",
   "execution_count": 34,
   "id": "ddc8a9a0",
   "metadata": {},
   "outputs": [
    {
     "name": "stdout",
     "output_type": "stream",
     "text": [
      "버스를 타고 간다\n"
     ]
    }
   ],
   "source": [
    "money = 5000\n",
    "if money >= 2500:\n",
    "    print(\"버스를 타고 간다\")\n",
    "else:\n",
    "    print(\"걸어서 간다\")"
   ]
  },
  {
   "cell_type": "code",
   "execution_count": 36,
   "id": "bb323098",
   "metadata": {},
   "outputs": [
    {
     "name": "stdout",
     "output_type": "stream",
     "text": [
      "편의점을 간다.\n"
     ]
    }
   ],
   "source": [
    "money = 7000\n",
    "\n",
    "if (oney >= 5000) and (money < 10000):\n",
    "     print(\"편의점을 간다.\")\n",
    "elif money >= 10000:\n",
    "    print(\"식당을 간다.\")\n",
    "else:\n",
    "    print(\"굶어라\")"
   ]
  },
  {
   "cell_type": "markdown",
   "id": "b7af2314",
   "metadata": {},
   "source": [
    "if 명제1 : \n",
    "    명제1이 참일 경우에 실행되는 코드\n",
    "    \n",
    "elif 명제2:\n",
    "    명제 1은 거짓이지만 명제 2가 참일때 실행되는 코드\n",
    "else:\n",
    "    명제가 거짓일 경우 실행되는 코드"
   ]
  },
  {
   "cell_type": "markdown",
   "id": "3605e1c4",
   "metadata": {},
   "source": [
    "###리스트, 튜플\n",
    "\n",
    "리스트 : [] 조작이 가능하다.(수정이 가능) \n",
    "튜플 : () 조작이 불가능 (수정 불가능)"
   ]
  },
  {
   "cell_type": "code",
   "execution_count": 37,
   "id": "0c815e84",
   "metadata": {},
   "outputs": [
    {
     "name": "stdout",
     "output_type": "stream",
     "text": [
      "[1, 2, 3, 4, 5]\n",
      "('가', '나')\n",
      "[6, 7, [1, 2, 3, 4, 5]]\n"
     ]
    }
   ],
   "source": [
    "a = [1,2,3,4,5]\n",
    "b = (\"가\", \"나\")\n",
    "c = [6,7,a]\n",
    "print (a)\n",
    "print (b)\n",
    "print (c)"
   ]
  },
  {
   "cell_type": "code",
   "execution_count": null,
   "id": "4291efe8",
   "metadata": {},
   "outputs": [],
   "source": []
  },
  {
   "cell_type": "markdown",
   "id": "bbbdef9e",
   "metadata": {},
   "source": [
    "### 원소 추가"
   ]
  },
  {
   "cell_type": "code",
   "execution_count": 38,
   "id": "58b6ea43",
   "metadata": {},
   "outputs": [
    {
     "data": {
      "text/plain": [
       "'짜장면'"
      ]
     },
     "execution_count": 38,
     "metadata": {},
     "output_type": "execute_result"
    }
   ],
   "source": [
    "\"짜장\" + \"면\""
   ]
  },
  {
   "cell_type": "code",
   "execution_count": 39,
   "id": "acd518b8",
   "metadata": {},
   "outputs": [
    {
     "data": {
      "text/plain": [
       "['짜', '장', '면']"
      ]
     },
     "execution_count": 39,
     "metadata": {},
     "output_type": "execute_result"
    }
   ],
   "source": [
    "a = [\"짜\",\"장\"]\n",
    "a.append(\"면\")\n",
    "a"
   ]
  },
  {
   "cell_type": "code",
   "execution_count": 43,
   "id": "1f1c1c77",
   "metadata": {},
   "outputs": [
    {
     "data": {
      "text/plain": [
       "['간', '간', '짜', '장', '면']"
      ]
     },
     "execution_count": 43,
     "metadata": {},
     "output_type": "execute_result"
    }
   ],
   "source": [
    "a.insert(0,\"간\")\n",
    "a"
   ]
  },
  {
   "cell_type": "code",
   "execution_count": 40,
   "id": "cad141d2",
   "metadata": {},
   "outputs": [
    {
     "data": {
      "text/plain": [
       "4"
      ]
     },
     "execution_count": 40,
     "metadata": {},
     "output_type": "execute_result"
    }
   ],
   "source": [
    "b= [1,2,[3,4]]\n",
    "b[2][1]"
   ]
  },
  {
   "cell_type": "code",
   "execution_count": 47,
   "id": "b4a9704c",
   "metadata": {},
   "outputs": [
    {
     "data": {
      "text/plain": [
       "['짜', '장', '면']"
      ]
     },
     "execution_count": 47,
     "metadata": {},
     "output_type": "execute_result"
    }
   ],
   "source": [
    "### del , remove\n",
    "del a[0]\n",
    "a"
   ]
  },
  {
   "cell_type": "code",
   "execution_count": 48,
   "id": "cb31556b",
   "metadata": {},
   "outputs": [
    {
     "data": {
      "text/plain": [
       "['짜', '장']"
      ]
     },
     "execution_count": 48,
     "metadata": {},
     "output_type": "execute_result"
    }
   ],
   "source": [
    "a.remove(\"면\")\n",
    "a"
   ]
  },
  {
   "cell_type": "code",
   "execution_count": 49,
   "id": "3238db14",
   "metadata": {},
   "outputs": [
    {
     "data": {
      "text/plain": [
       "['짜', '왕']"
      ]
     },
     "execution_count": 49,
     "metadata": {},
     "output_type": "execute_result"
    }
   ],
   "source": [
    "### 교체 - 인덱스에 다른 값을 할당해 주면 알아서 교체.\n",
    "a[1]= \"왕\"\n",
    "a"
   ]
  },
  {
   "cell_type": "code",
   "execution_count": 50,
   "id": "7daaf966",
   "metadata": {},
   "outputs": [
    {
     "data": {
      "text/plain": [
       "'짜장면'"
      ]
     },
     "execution_count": 50,
     "metadata": {},
     "output_type": "execute_result"
    }
   ],
   "source": [
    "m= \"간짜장면\"\n",
    "m.replace(\"간\", \"\")"
   ]
  },
  {
   "cell_type": "code",
   "execution_count": 52,
   "id": "46c12fd9",
   "metadata": {},
   "outputs": [
    {
     "data": {
      "text/plain": [
       "['가', '다', '나', '마', '라']"
      ]
     },
     "execution_count": 52,
     "metadata": {},
     "output_type": "execute_result"
    }
   ],
   "source": [
    "k=[\"가\",\"다\",\"나\",\"마\",\"라\"]\n",
    "k"
   ]
  },
  {
   "cell_type": "code",
   "execution_count": 54,
   "id": "27797602",
   "metadata": {},
   "outputs": [
    {
     "data": {
      "text/plain": [
       "['가', '다', '나', '마', '라']"
      ]
     },
     "execution_count": 54,
     "metadata": {},
     "output_type": "execute_result"
    }
   ],
   "source": [
    "k.reverse()\n",
    "k"
   ]
  },
  {
   "cell_type": "code",
   "execution_count": 56,
   "id": "df3a6052",
   "metadata": {
    "scrolled": true
   },
   "outputs": [
    {
     "data": {
      "text/plain": [
       "['가', '나', '다', '라', '마']"
      ]
     },
     "execution_count": 56,
     "metadata": {},
     "output_type": "execute_result"
    }
   ],
   "source": [
    "k.sort()\n",
    "k"
   ]
  },
  {
   "cell_type": "code",
   "execution_count": 58,
   "id": "2230b8b7",
   "metadata": {},
   "outputs": [
    {
     "data": {
      "text/plain": [
       "['마', '라', '다', '나', '가']"
      ]
     },
     "execution_count": 58,
     "metadata": {},
     "output_type": "execute_result"
    }
   ],
   "source": [
    "k.sort(reverse = True)\n",
    "k"
   ]
  },
  {
   "cell_type": "code",
   "execution_count": 61,
   "id": "73e7a40b",
   "metadata": {},
   "outputs": [
    {
     "data": {
      "text/plain": [
       "9"
      ]
     },
     "execution_count": 61,
     "metadata": {},
     "output_type": "execute_result"
    }
   ],
   "source": [
    "len(\"짜장면은 맛있다.\")"
   ]
  },
  {
   "cell_type": "code",
   "execution_count": 63,
   "id": "a8a27b67",
   "metadata": {},
   "outputs": [
    {
     "data": {
      "text/plain": [
       "5"
      ]
     },
     "execution_count": 63,
     "metadata": {},
     "output_type": "execute_result"
    }
   ],
   "source": [
    "len(k)"
   ]
  },
  {
   "cell_type": "code",
   "execution_count": 66,
   "id": "776c909b",
   "metadata": {},
   "outputs": [],
   "source": [
    "fruit = [\"사과\",\"바나나\",\"키위\",\"망고\",\"파인애플\"]"
   ]
  },
  {
   "cell_type": "code",
   "execution_count": 71,
   "id": "cac5ed52",
   "metadata": {},
   "outputs": [
    {
     "data": {
      "text/plain": [
       "True"
      ]
     },
     "execution_count": 71,
     "metadata": {},
     "output_type": "execute_result"
    }
   ],
   "source": [
    "(\"사과\" in fruit)and(\"바나나\"in fruit)"
   ]
  },
  {
   "cell_type": "markdown",
   "id": "0885524b",
   "metadata": {},
   "source": [
    "### 반복문\n",
    "while 명제 : \n",
    "    명제가 참인 한 실행되는 코드\n",
    "    if 명제\n",
    "    break 조건\n",
    "\n",
    "for 변수 in 인덱싱이 가능한 자료형:\n",
    "    코드"
   ]
  },
  {
   "cell_type": "code",
   "execution_count": 72,
   "id": "ee1849d8",
   "metadata": {},
   "outputs": [
    {
     "name": "stdout",
     "output_type": "stream",
     "text": [
      "1\n",
      "2\n"
     ]
    }
   ],
   "source": [
    "n = 1 \n",
    "while n < 3:\n",
    "    print(n)\n",
    "    n = n + 1"
   ]
  },
  {
   "cell_type": "code",
   "execution_count": 74,
   "id": "9840710a",
   "metadata": {
    "scrolled": true
   },
   "outputs": [
    {
     "name": "stdout",
     "output_type": "stream",
     "text": [
      "1\n",
      "2\n",
      "3\n",
      "4\n",
      "5\n"
     ]
    }
   ],
   "source": [
    "for i in [1,2,3,4,5]:\n",
    "    print(i)"
   ]
  },
  {
   "cell_type": "code",
   "execution_count": 83,
   "id": "62e10429",
   "metadata": {
    "scrolled": true
   },
   "outputs": [
    {
     "name": "stdout",
     "output_type": "stream",
     "text": [
      "3 X 1 = 3\n",
      "3 X 2 = 6\n",
      "3 X 3 = 9\n",
      "3 X 4 = 12\n",
      "3 X 5 = 15\n",
      "3 X 6 = 18\n",
      "3 X 7 = 21\n",
      "3 X 8 = 24\n",
      "3 X 9 = 27\n"
     ]
    }
   ],
   "source": [
    "for i in range(1,10):\n",
    "    print( (\"3 X {} = {}\").format(i, 3*i))"
   ]
  },
  {
   "cell_type": "code",
   "execution_count": 85,
   "id": "1cc07bd9",
   "metadata": {},
   "outputs": [
    {
     "name": "stdout",
     "output_type": "stream",
     "text": [
      "1 X 1 = 1\n",
      "1 X 2 = 2\n",
      "1 X 3 = 3\n",
      "1 X 4 = 4\n",
      "1 X 5 = 5\n",
      "1 X 6 = 6\n",
      "1 X 7 = 7\n",
      "1 X 8 = 8\n",
      "1 X 9 = 9\n",
      "2 X 1 = 2\n",
      "2 X 2 = 4\n",
      "2 X 3 = 6\n",
      "2 X 4 = 8\n",
      "2 X 5 = 10\n",
      "2 X 6 = 12\n",
      "2 X 7 = 14\n",
      "2 X 8 = 16\n",
      "2 X 9 = 18\n",
      "3 X 1 = 3\n",
      "3 X 2 = 6\n",
      "3 X 3 = 9\n",
      "3 X 4 = 12\n",
      "3 X 5 = 15\n",
      "3 X 6 = 18\n",
      "3 X 7 = 21\n",
      "3 X 8 = 24\n",
      "3 X 9 = 27\n",
      "4 X 1 = 4\n",
      "4 X 2 = 8\n",
      "4 X 3 = 12\n",
      "4 X 4 = 16\n",
      "4 X 5 = 20\n",
      "4 X 6 = 24\n",
      "4 X 7 = 28\n",
      "4 X 8 = 32\n",
      "4 X 9 = 36\n",
      "5 X 1 = 5\n",
      "5 X 2 = 10\n",
      "5 X 3 = 15\n",
      "5 X 4 = 20\n",
      "5 X 5 = 25\n",
      "5 X 6 = 30\n",
      "5 X 7 = 35\n",
      "5 X 8 = 40\n",
      "5 X 9 = 45\n",
      "6 X 1 = 6\n",
      "6 X 2 = 12\n",
      "6 X 3 = 18\n",
      "6 X 4 = 24\n",
      "6 X 5 = 30\n",
      "6 X 6 = 36\n",
      "6 X 7 = 42\n",
      "6 X 8 = 48\n",
      "6 X 9 = 54\n",
      "7 X 1 = 7\n",
      "7 X 2 = 14\n",
      "7 X 3 = 21\n",
      "7 X 4 = 28\n",
      "7 X 5 = 35\n",
      "7 X 6 = 42\n",
      "7 X 7 = 49\n",
      "7 X 8 = 56\n",
      "7 X 9 = 63\n",
      "8 X 1 = 8\n",
      "8 X 2 = 16\n",
      "8 X 3 = 24\n",
      "8 X 4 = 32\n",
      "8 X 5 = 40\n",
      "8 X 6 = 48\n",
      "8 X 7 = 56\n",
      "8 X 8 = 64\n",
      "8 X 9 = 72\n",
      "9 X 1 = 9\n",
      "9 X 2 = 18\n",
      "9 X 3 = 27\n",
      "9 X 4 = 36\n",
      "9 X 5 = 45\n",
      "9 X 6 = 54\n",
      "9 X 7 = 63\n",
      "9 X 8 = 72\n",
      "9 X 9 = 81\n"
     ]
    }
   ],
   "source": [
    "for i in range(1,10):\n",
    "    for w in range(1,10):\n",
    "        print(\"{} X {} = {}\".format(i, w, i*w))"
   ]
  },
  {
   "cell_type": "markdown",
   "id": "4d53572b",
   "metadata": {},
   "source": [
    "### EX 반복문\n",
    "- 10,000보다 큰 57과 83의 공배수 중 가장 작은수를 출력. \n",
    "- 공배수 : 57과 83을 모두 약수로 가지는 수."
   ]
  },
  {
   "cell_type": "code",
   "execution_count": 96,
   "id": "31931bf8",
   "metadata": {},
   "outputs": [
    {
     "name": "stdout",
     "output_type": "stream",
     "text": [
      "14193\n"
     ]
    }
   ],
   "source": [
    "n = 10000\n",
    "while (n%57!= 0) or (n%83!=0):\n",
    "    n= n+1\n",
    "print(n)\n",
    "\n",
    "    "
   ]
  },
  {
   "cell_type": "code",
   "execution_count": 97,
   "id": "b45f47b2",
   "metadata": {},
   "outputs": [
    {
     "name": "stdout",
     "output_type": "stream",
     "text": [
      "14193\n"
     ]
    }
   ],
   "source": [
    "n = 10000\n",
    "while True:\n",
    "    if (n%57 == 0) and ( n%83 == 0):\n",
    "        break\n",
    "    else:\n",
    "        n= n+1\n",
    "print(n)"
   ]
  },
  {
   "cell_type": "markdown",
   "id": "164c2856",
   "metadata": {},
   "source": [
    "### 예외처리\n",
    "try:\n",
    "    코드\n",
    "except:\n",
    "    코드가 에러가 날 경우 실행되는 코드."
   ]
  },
  {
   "cell_type": "code",
   "execution_count": 99,
   "id": "51e1a07e",
   "metadata": {},
   "outputs": [
    {
     "name": "stdout",
     "output_type": "stream",
     "text": [
      "-0.14285714285714285\n",
      "-0.16666666666666666\n",
      "-0.2\n",
      "-0.25\n",
      "-0.3333333333333333\n",
      "-0.5\n",
      "-1.0\n"
     ]
    },
    {
     "ename": "ZeroDivisionError",
     "evalue": "division by zero",
     "output_type": "error",
     "traceback": [
      "\u001b[1;31m---------------------------------------------------------------------------\u001b[0m",
      "\u001b[1;31mZeroDivisionError\u001b[0m                         Traceback (most recent call last)",
      "Input \u001b[1;32mIn [99]\u001b[0m, in \u001b[0;36m<cell line: 1>\u001b[1;34m()\u001b[0m\n\u001b[0;32m      1\u001b[0m \u001b[38;5;28;01mfor\u001b[39;00m i \u001b[38;5;129;01min\u001b[39;00m \u001b[38;5;28mrange\u001b[39m(\u001b[38;5;241m10\u001b[39m):\n\u001b[1;32m----> 2\u001b[0m     \u001b[38;5;28mprint\u001b[39m(\u001b[38;5;241;43m1\u001b[39;49m\u001b[38;5;241;43m/\u001b[39;49m\u001b[43m(\u001b[49m\u001b[43mi\u001b[49m\u001b[38;5;241;43m-\u001b[39;49m\u001b[38;5;241;43m7\u001b[39;49m\u001b[43m)\u001b[49m)\n",
      "\u001b[1;31mZeroDivisionError\u001b[0m: division by zero"
     ]
    }
   ],
   "source": [
    "for i in range(10):\n",
    "    print(1/(i-7))"
   ]
  },
  {
   "cell_type": "code",
   "execution_count": 100,
   "id": "2cba9813",
   "metadata": {},
   "outputs": [
    {
     "name": "stdout",
     "output_type": "stream",
     "text": [
      "-0.0\n",
      "-0.16666666666666666\n",
      "-0.4\n",
      "-0.75\n",
      "-1.3333333333333333\n",
      "-2.5\n",
      "-6.0\n",
      "beep\n",
      "8.0\n",
      "4.5\n"
     ]
    }
   ],
   "source": [
    "for i in range(10):\n",
    "    try:\n",
    "        print(i/(i-7))\n",
    "    except:\n",
    "        print(\"beep\")"
   ]
  },
  {
   "cell_type": "code",
   "execution_count": 101,
   "id": "f2543338",
   "metadata": {},
   "outputs": [
    {
     "name": "stdout",
     "output_type": "stream",
     "text": [
      "3의 배수를 입력하시오: 5\n",
      "5\n"
     ]
    }
   ],
   "source": [
    "a= int(input(\"3의 배수를 입력하시오: \"))\n",
    "print(a)"
   ]
  },
  {
   "cell_type": "code",
   "execution_count": 103,
   "id": "0327019e",
   "metadata": {},
   "outputs": [
    {
     "name": "stdout",
     "output_type": "stream",
     "text": [
      "3의 배수를 입력하시오: 3\n",
      "3\n"
     ]
    }
   ],
   "source": [
    "a= int(input(\"3의 배수를 입력하시오: \"))\n",
    "if a % 3 == 0:\n",
    "    pass\n",
    "else:\n",
    "    raise Exception(\"3의 배수가 아닙니다.\")\n",
    "print(a)"
   ]
  },
  {
   "cell_type": "markdown",
   "id": "b313d91a",
   "metadata": {},
   "source": [
    "### Dictonary\n",
    "{ \"Key\": \"Value\"} : 키는 겹칠수 없고 하나의 키에는 하나의 값만 입력 가능.\n",
    "Key는 수정 불가 but Value 는 수정 가능."
   ]
  },
  {
   "cell_type": "code",
   "execution_count": 105,
   "id": "74116899",
   "metadata": {},
   "outputs": [],
   "source": [
    "lst = {\"A\":\"가\", \"B\":\"나\", \"C\":\"다\", \"D\":\"라\", \"E\":\"마\"}"
   ]
  },
  {
   "cell_type": "code",
   "execution_count": 110,
   "id": "6ff4acef",
   "metadata": {},
   "outputs": [
    {
     "data": {
      "text/plain": [
       "'나'"
      ]
     },
     "execution_count": 110,
     "metadata": {},
     "output_type": "execute_result"
    }
   ],
   "source": [
    "lst[\"B\"]"
   ]
  },
  {
   "cell_type": "code",
   "execution_count": 112,
   "id": "d9ca4c7c",
   "metadata": {},
   "outputs": [],
   "source": [
    "csb ={\"Name\": [\"홍길동\",\"임꺽정\",\"장길산\"], \"Age\": [20,35,52], \"Height\": [180,175,190]}"
   ]
  },
  {
   "cell_type": "code",
   "execution_count": 113,
   "id": "c2a2e90f",
   "metadata": {},
   "outputs": [
    {
     "data": {
      "text/plain": [
       "['홍길동', '임꺽정', '장길산']"
      ]
     },
     "execution_count": 113,
     "metadata": {},
     "output_type": "execute_result"
    }
   ],
   "source": [
    "csb[\"Name\"]"
   ]
  },
  {
   "cell_type": "code",
   "execution_count": 114,
   "id": "50fe165a",
   "metadata": {},
   "outputs": [
    {
     "data": {
      "text/plain": [
       "dict_keys(['Name', 'Age', 'Height'])"
      ]
     },
     "execution_count": 114,
     "metadata": {},
     "output_type": "execute_result"
    }
   ],
   "source": [
    "csb.keys()"
   ]
  },
  {
   "cell_type": "code",
   "execution_count": 116,
   "id": "5f6e759f",
   "metadata": {},
   "outputs": [
    {
     "data": {
      "text/plain": [
       "dict_values([['홍길동', '임꺽정', '장길산'], [20, 35, 52], [180, 175, 190]])"
      ]
     },
     "execution_count": 116,
     "metadata": {},
     "output_type": "execute_result"
    }
   ],
   "source": [
    "csb.values()"
   ]
  },
  {
   "cell_type": "code",
   "execution_count": 118,
   "id": "013ef191",
   "metadata": {},
   "outputs": [
    {
     "data": {
      "text/plain": [
       "{'Name': ['홍길동', '임꺽정', '장길산'],\n",
       " 'Age': [20, 35, 52],\n",
       " 'Height': [180, 175, 190],\n",
       " 'sex': ['M', 'M', 'M']}"
      ]
     },
     "execution_count": 118,
     "metadata": {},
     "output_type": "execute_result"
    }
   ],
   "source": [
    "csb[\"sex\"]= [\"M\",\"M\",\"M\"]\n",
    "csb"
   ]
  },
  {
   "cell_type": "code",
   "execution_count": 119,
   "id": "2002a58a",
   "metadata": {},
   "outputs": [
    {
     "data": {
      "text/plain": [
       "{'Name': ['홍길동', '임꺽정', '장길산'], 'Age': [20, 35, 52], 'Height': [180, 175, 190]}"
      ]
     },
     "execution_count": 119,
     "metadata": {},
     "output_type": "execute_result"
    }
   ],
   "source": [
    "del csb[\"sex\"]\n",
    "csb"
   ]
  },
  {
   "cell_type": "code",
   "execution_count": 120,
   "id": "0750da88",
   "metadata": {},
   "outputs": [
    {
     "name": "stdout",
     "output_type": "stream",
     "text": [
      "Name\n",
      "Age\n",
      "Height\n"
     ]
    }
   ],
   "source": [
    "for i in csb:\n",
    "    print(i)"
   ]
  },
  {
   "cell_type": "code",
   "execution_count": 123,
   "id": "abdaebe9",
   "metadata": {},
   "outputs": [],
   "source": [
    "csbs ={\"Name\": [\"홍길동\",\"임꺽정\",\"장길산\"], \n",
    "      \"Age\": [20,35,52], \n",
    "      \"Height\": [180,175,190],\n",
    "      \"FSize\": [240,260,280]}\n",
    "### for 문을 사용해 임꺽정, 홍길동, 장길산의 나이 평균, 키 평균, 발 사이즈 평군을 구해주세요."
   ]
  },
  {
   "cell_type": "code",
   "execution_count": 131,
   "id": "de91ec17",
   "metadata": {},
   "outputs": [
    {
     "data": {
      "text/plain": [
       "{'Name': ['홍길동', '임꺽정', '장길산'],\n",
       " 'Age': [20, 35, 52],\n",
       " 'Height': [180, 175, 190],\n",
       " 'FSize': [240, 260, 280],\n",
       " '평균들': [6.666666666666667,\n",
       "  18.333333333333332,\n",
       "  35.666666666666664,\n",
       "  60.0,\n",
       "  118.33333333333333,\n",
       "  181.66666666666666,\n",
       "  80.0,\n",
       "  166.66666666666666,\n",
       "  260.0]}"
      ]
     },
     "execution_count": 131,
     "metadata": {},
     "output_type": "execute_result"
    }
   ],
   "source": [
    "averages = []\n",
    "for i in csbs:\n",
    "    try:\n",
    "        n = 0\n",
    "        for w in csbs[i]:\n",
    "            n = n + w\n",
    "            averages.append(n/len(csbs[i]))\n",
    "    except:\n",
    "        pass\n",
    "    \n",
    "csbs[\"평균들\"] = averages\n",
    "csbs\n",
    "        \n",
    "\n",
    "    "
   ]
  },
  {
   "cell_type": "code",
   "execution_count": 130,
   "id": "c8fbb9f4",
   "metadata": {
    "scrolled": false
   },
   "outputs": [
    {
     "name": "stdout",
     "output_type": "stream",
     "text": [
      "35.666666666666664\n"
     ]
    }
   ],
   "source": [
    "nai = [20,35,52]\n",
    "n= 0\n",
    "for i in nai:\n",
    "    n = n + i\n",
    "print(n/len(nai))"
   ]
  },
  {
   "cell_type": "code",
   "execution_count": null,
   "id": "e3cf56ad",
   "metadata": {},
   "outputs": [],
   "source": [
    "averages = []\n",
    "for i in csbs:\n",
    "    n = 0\n",
    "    for w in csbs[i]:\n",
    "        n = n + w\n",
    "        averages.append(n/len(csbs[i]))\n",
    "    \n",
    "csbs[\"평균들\"] = averages\n",
    "csbs\n",
    "        "
   ]
  }
 ],
 "metadata": {
  "kernelspec": {
   "display_name": "Python 3 (ipykernel)",
   "language": "python",
   "name": "python3"
  },
  "language_info": {
   "codemirror_mode": {
    "name": "ipython",
    "version": 3
   },
   "file_extension": ".py",
   "mimetype": "text/x-python",
   "name": "python",
   "nbconvert_exporter": "python",
   "pygments_lexer": "ipython3",
   "version": "3.9.12"
  }
 },
 "nbformat": 4,
 "nbformat_minor": 5
}
