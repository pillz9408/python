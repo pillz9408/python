{
 "cells": [
  {
   "cell_type": "markdown",
   "metadata": {},
   "source": [
    "# 스크롤링\n",
    "    - body = driver.find_element_by_css_selector(\"body\")\n",
    "    - pageUp키 : body.send_keys(Keys.PAGE_UP)\n",
    "    - pageDown키: body.send_keys(Keys.PAGE_DOWN)\n",
    "    - End키 : body.send_keys(Keys.END)\n",
    "    \n",
    "    - height = driver.excute_script(\"return document.body.scrolliHeight\")"
   ]
  },
  {
   "cell_type": "markdown",
   "metadata": {},
   "source": [
    "## 유튜브 \n",
    "    - 제목 , 조회수 확인?"
   ]
  },
  {
   "cell_type": "code",
   "execution_count": 55,
   "metadata": {},
   "outputs": [],
   "source": [
    "from selenium import webdriver\n",
    "from webdriver_manager.chrome import ChromeDriverManager\n",
    "import pandas as pd\n",
    "import time\n",
    "from tqdm.notebook import tqdm\n",
    "from selenium.webdriver.common.keys import Keys\n",
    "from bs4 import BeautifulSoup as bs\n",
    "import requests as req\n"
   ]
  },
  {
   "cell_type": "code",
   "execution_count": 56,
   "metadata": {},
   "outputs": [],
   "source": [
    "driver = webdriver.Chrome(ChromeDriverManager().install())"
   ]
  },
  {
   "cell_type": "code",
   "execution_count": 57,
   "metadata": {},
   "outputs": [],
   "source": [
    "driver.get('https://www.youtube.com/c/dlwlrma/videos')\n",
    "driver.maximize_window()"
   ]
  },
  {
   "cell_type": "code",
   "execution_count": 58,
   "metadata": {},
   "outputs": [],
   "source": [
    "body = driver.find_element_by_css_selector(\"body\")"
   ]
  },
  {
   "cell_type": "code",
   "execution_count": 59,
   "metadata": {},
   "outputs": [],
   "source": [
    "title = driver.find_elements_by_css_selector('#video-title')\n",
    "count = driver.find_elements_by_css_selector('#metadata-line > span:nth-child(1)')"
   ]
  },
  {
   "cell_type": "markdown",
   "metadata": {},
   "source": [
    "## 스크롤링"
   ]
  },
  {
   "cell_type": "code",
   "execution_count": 60,
   "metadata": {},
   "outputs": [],
   "source": [
    "while True:\n",
    "    last = bs(driver.page_source,'html.parser') # 첫 화면\n",
    "    for i in range(10):\n",
    "        body.send_keys(Keys.END)\n",
    "    new = bs(driver.page_source,'html.parser') # 스크롤이 된 화면\n",
    "    \n",
    "    if last == new: \n",
    "        break\n",
    "    else:\n",
    "        pass"
   ]
  },
  {
   "cell_type": "code",
   "execution_count": 61,
   "metadata": {},
   "outputs": [],
   "source": [
    "title = driver.find_elements_by_css_selector('#video-title')\n",
    "count = driver.find_elements_by_css_selector('#metadata-line > span:nth-child(1)')\n",
    "\n",
    "title_list = []\n",
    "cnt_list = []\n",
    "\n",
    "for i in title:\n",
    "    title_list.append(i.text)\n",
    "for i in count:\n",
    "    cnt_list.append(i.text)"
   ]
  },
  {
   "cell_type": "code",
   "execution_count": 62,
   "metadata": {},
   "outputs": [],
   "source": [
    "data = {'제목':title_list, '조회수' : cnt_list}\n",
    "iudata = pd.DataFrame(data)\n",
    "iudata.to_excel('IU유튜브데이터.xlsx',encoding = 'utf-8-sig')"
   ]
  }
 ],
 "metadata": {
  "kernelspec": {
   "display_name": "Python 3.9.12 ('base')",
   "language": "python",
   "name": "python3"
  },
  "language_info": {
   "codemirror_mode": {
    "name": "ipython",
    "version": 3
   },
   "file_extension": ".py",
   "mimetype": "text/x-python",
   "name": "python",
   "nbconvert_exporter": "python",
   "pygments_lexer": "ipython3",
   "version": "3.9.12"
  },
  "orig_nbformat": 4,
  "vscode": {
   "interpreter": {
    "hash": "39a34cc34fa105d8ec3534aa54504572aead214367e412b05dc49f32cf35b4ec"
   }
  }
 },
 "nbformat": 4,
 "nbformat_minor": 2
}
