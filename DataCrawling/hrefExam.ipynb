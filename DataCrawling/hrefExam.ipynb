{
 "cells": [
  {
   "cell_type": "markdown",
   "metadata": {},
   "source": [
    "# href 속성\n",
    "## Hypertext REFrence\n",
    "\n",
    "    - href 주소를 클릭하게 되면 해당 url을 참조하게 된다.\n",
    "    - href 속성은 a 태그와 함께 쓰인다.\n",
    "    - 기본구조 <a href = \"참조url\" class = 'nnn'>_ </a>"
   ]
  },
  {
   "cell_type": "markdown",
   "metadata": {},
   "source": [
    "### beautifulSoup select vs find all\n",
    "    - 첫번째 태그만 출력 : url = soup.find('tag',class_='name')\n",
    "    - 모든 태그 출력 : url = soup.find_all('tag',class_='name')\n",
    "    - 첫번째 태그만 출력 : url = soup.select_one('선택자')\n",
    "    - 모든 태그 출력 : url = soup.select('선택자')"
   ]
  },
  {
   "cell_type": "markdown",
   "metadata": {},
   "source": [
    "### 뉴스 페이지 URL 가져오기 \n",
    "    * findall 과 select 두 버전을 각각 사용해보기\n",
    "    * 다음 페이지로 클릭 후 url 수집(5페이지까지)\n",
    "    * 수집한 url이 열리는지 확인하기"
   ]
  },
  {
   "cell_type": "code",
   "execution_count": 63,
   "metadata": {},
   "outputs": [],
   "source": [
    "import pandas as pd\n",
    "from tqdm.notebook import tqdm\n",
    "from bs4 import BeautifulSoup as bs\n",
    "import requests as req\n",
    "from selenium import webdriver\n",
    "from webdriver_manager.chrome import ChromeDriverManager\n",
    "import time\n",
    "from selenium.webdriver.common.keys import Keys\n",
    "from selenium.webdriver.common.action_chains import ActionChains"
   ]
  },
  {
   "cell_type": "code",
   "execution_count": 64,
   "metadata": {},
   "outputs": [],
   "source": [
    "driver = webdriver.Chrome(ChromeDriverManager().install())"
   ]
  },
  {
   "cell_type": "code",
   "execution_count": 65,
   "metadata": {},
   "outputs": [],
   "source": [
    "driver.get('https://news.sbs.co.kr/news/newsflash.do?plink=NEW&cooper=SBSNEWSMAIN')\n",
    "driver.maximize_window()"
   ]
  },
  {
   "cell_type": "code",
   "execution_count": 66,
   "metadata": {},
   "outputs": [],
   "source": [
    "url_list = []\n",
    "title_list = []\n",
    "article_list = []\n",
    "\n",
    "a = len(url_list)\n",
    "if a <= 50:    \n",
    "    for i in range(3,8):\n",
    "        page = driver.find_element_by_xpath('//*[@id=\"container\"]/div/div[3]/div/a[{}]'.format(i))\n",
    "        page.click()\n",
    "        time.sleep(2)\n",
    "        soup = bs(driver.page_source,'html.parser')\n",
    "        search = soup.select('a.news')\n",
    "        title = soup.select('strong.sub')\n",
    "        article = soup.select('span.read') \n",
    "        for i in search:\n",
    "            url_list.append('https://news.sbs.co.kr'+i['href'])\n",
    "        for i in title: \n",
    "            title_list.append(i.text)\n",
    "        for i in article:\n",
    "            article_list.append(i.text)\n",
    "        time.sleep(2)\n",
    "else:\n",
    "    pass\n"
   ]
  },
  {
   "cell_type": "code",
   "execution_count": 67,
   "metadata": {},
   "outputs": [],
   "source": [
    "news_list = []\n",
    "\n",
    "for url in url_list:\n",
    "    driver.get(url)\n",
    "    time.sleep(1)\n",
    "    soup = bs(driver.page_source, 'html.parser')\n",
    "    news = soup.select('div.text_area')\n",
    "    for i in news:\n",
    "        news_list.append(i.text)\n",
    "        \n",
    "        \n",
    "        "
   ]
  },
  {
   "cell_type": "code",
   "execution_count": 68,
   "metadata": {},
   "outputs": [],
   "source": [
    "data = {'제목':title_list ,'기사': article_list, '상세기사': news_list ,'url': url_list}"
   ]
  },
  {
   "cell_type": "code",
   "execution_count": 69,
   "metadata": {},
   "outputs": [
    {
     "data": {
      "text/plain": [
       "(50, 50, 50, 50)"
      ]
     },
     "execution_count": 69,
     "metadata": {},
     "output_type": "execute_result"
    }
   ],
   "source": [
    "len(title_list),len(url_list),len(article_list),len(news_list)"
   ]
  },
  {
   "cell_type": "code",
   "execution_count": 70,
   "metadata": {},
   "outputs": [],
   "source": [
    "urlData = pd.DataFrame(data)"
   ]
  },
  {
   "cell_type": "code",
   "execution_count": 71,
   "metadata": {},
   "outputs": [],
   "source": [
    "urlData.to_excel('sbs뉴스url.xlsx',encoding = 'utf-8-sig')"
   ]
  },
  {
   "cell_type": "code",
   "execution_count": 72,
   "metadata": {},
   "outputs": [],
   "source": [
    "# search = soup.select('a.news')"
   ]
  },
  {
   "cell_type": "code",
   "execution_count": 73,
   "metadata": {},
   "outputs": [],
   "source": [
    "# for i in search:\n",
    "#         print('https://news.sbs.co.kr'+i['href'])"
   ]
  },
  {
   "cell_type": "code",
   "execution_count": 74,
   "metadata": {},
   "outputs": [],
   "source": [
    "# search2 = soup.find_all('a',class_='news')\n",
    "# for i in search2:\n",
    "#         print('https://news.sbs.co.kr'+i['href'])"
   ]
  }
 ],
 "metadata": {
  "kernelspec": {
   "display_name": "Python 3.9.12 ('base')",
   "language": "python",
   "name": "python3"
  },
  "language_info": {
   "codemirror_mode": {
    "name": "ipython",
    "version": 3
   },
   "file_extension": ".py",
   "mimetype": "text/x-python",
   "name": "python",
   "nbconvert_exporter": "python",
   "pygments_lexer": "ipython3",
   "version": "3.9.12"
  },
  "orig_nbformat": 4,
  "vscode": {
   "interpreter": {
    "hash": "39a34cc34fa105d8ec3534aa54504572aead214367e412b05dc49f32cf35b4ec"
   }
  }
 },
 "nbformat": 4,
 "nbformat_minor": 2
}
