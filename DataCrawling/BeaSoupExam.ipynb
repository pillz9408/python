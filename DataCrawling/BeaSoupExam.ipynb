{
 "cells": [
  {
   "cell_type": "markdown",
   "metadata": {},
   "source": [
    "# URL 의 규칙성 발견 - 네이버 영화 평점"
   ]
  },
  {
   "cell_type": "code",
   "execution_count": 1,
   "metadata": {},
   "outputs": [],
   "source": [
    "import requests as req"
   ]
  },
  {
   "cell_type": "code",
   "execution_count": 3,
   "metadata": {},
   "outputs": [
    {
     "name": "stdout",
     "output_type": "stream",
     "text": [
      "Requirement already satisfied: bs4 in c:\\users\\user\\anaconda\\lib\\site-packages (0.0.1)\n",
      "Requirement already satisfied: beautifulsoup4 in c:\\users\\user\\anaconda\\lib\\site-packages (from bs4) (4.11.1)\n",
      "Requirement already satisfied: soupsieve>1.2 in c:\\users\\user\\anaconda\\lib\\site-packages (from beautifulsoup4->bs4) (2.3.1)\n"
     ]
    }
   ],
   "source": [
    "!pip install bs4"
   ]
  },
  {
   "cell_type": "code",
   "execution_count": 4,
   "metadata": {},
   "outputs": [],
   "source": [
    "from bs4 import BeautifulSoup as bs"
   ]
  },
  {
   "cell_type": "code",
   "execution_count": 5,
   "metadata": {},
   "outputs": [],
   "source": [
    "import pandas as pd"
   ]
  },
  {
   "cell_type": "code",
   "execution_count": 82,
   "metadata": {},
   "outputs": [],
   "source": [
    "from tqdm.notebook import tqdm"
   ]
  },
  {
   "cell_type": "code",
   "execution_count": 7,
   "metadata": {},
   "outputs": [
    {
     "data": {
      "text/plain": [
       "<Response [200]>"
      ]
     },
     "execution_count": 7,
     "metadata": {},
     "output_type": "execute_result"
    }
   ],
   "source": [
    "mov = req.get('https://movie.naver.com/movie/point/af/list.naver?&page=1')\n",
    "mov"
   ]
  },
  {
   "cell_type": "code",
   "execution_count": 8,
   "metadata": {},
   "outputs": [],
   "source": [
    "soup = bs(mov.text, 'html.parser')"
   ]
  },
  {
   "cell_type": "markdown",
   "metadata": {},
   "source": [
    "## 평점"
   ]
  },
  {
   "cell_type": "code",
   "execution_count": 10,
   "metadata": {},
   "outputs": [
    {
     "data": {
      "text/plain": [
       "[<em>8</em>,\n",
       " <em>10</em>,\n",
       " <em>10</em>,\n",
       " <em>8</em>,\n",
       " <em>9</em>,\n",
       " <em>1</em>,\n",
       " <em>1</em>,\n",
       " <em>10</em>,\n",
       " <em>10</em>,\n",
       " <em>10</em>]"
      ]
     },
     "execution_count": 10,
     "metadata": {},
     "output_type": "execute_result"
    }
   ],
   "source": [
    "score = soup.select('div.list_netizen_score>em')\n",
    "score"
   ]
  },
  {
   "cell_type": "code",
   "execution_count": 11,
   "metadata": {},
   "outputs": [],
   "source": [
    "score_list = []\n",
    "for i in score:\n",
    "    score_list.append(i.text)"
   ]
  },
  {
   "cell_type": "markdown",
   "metadata": {},
   "source": [
    "## 제목, 리뷰 수집"
   ]
  },
  {
   "cell_type": "code",
   "execution_count": 47,
   "metadata": {},
   "outputs": [],
   "source": [
    "title = soup.select('td.title > a.movie.color_b')"
   ]
  },
  {
   "cell_type": "code",
   "execution_count": 50,
   "metadata": {},
   "outputs": [],
   "source": [
    "title_list = []\n",
    "for i  in title:\n",
    "    title_list.append(i.text)"
   ]
  },
  {
   "cell_type": "code",
   "execution_count": 51,
   "metadata": {},
   "outputs": [
    {
     "data": {
      "text/plain": [
       "[<td class=\"title\">\n",
       " <a class=\"movie color_b\" href=\"?st=mcode&amp;sword=201641&amp;target=after\">공조2: 인터내셔날</a>\n",
       " <div class=\"list_netizen_score\">\n",
       " <span class=\"st_off\"><span class=\"st_on\" style=\"width:80%\">별점 - 총 10점 중</span></span><em>8</em>\n",
       " </div>\n",
       " <br/>웃음타율도 괜찮고 액션도 괜찮았습니다 \n",
       " \t\t\t\n",
       " \t\t\t\n",
       " \t\t\t\n",
       " \t\t\t\t\n",
       " \t\t\t\t\n",
       " \t\t\t\t\n",
       " \t\t\t\t<a class=\"report\" href=\"#\" onclick=\"report('jjp0****', '2DxZpcWOA9BL9J8yrd++CJY6O4sPDMT2ggVi/VlwLZE=', '웃음타율도 괜찮고 액션도 괜찮았습니다', '18441651', 'point_after');\" style=\"color:#8F8F8F\" title=\"새 창\">신고</a>\n",
       " </td>,\n",
       " <td class=\"title\">\n",
       " <a class=\"movie color_b\" href=\"?st=mcode&amp;sword=201641&amp;target=after\">공조2: 인터내셔날</a>\n",
       " <div class=\"list_netizen_score\">\n",
       " <span class=\"st_off\"><span class=\"st_on\" style=\"width:100%\">별점 - 총 10점 중</span></span><em>10</em>\n",
       " </div>\n",
       " <br/>사실 현빈 다니엘헤니로 눈호강 하려고 갔는데 간만에 엄청 웃으며 재밌게 본 영화네요. \n",
       " \t\t\t\n",
       " \t\t\t\n",
       " \t\t\t\n",
       " \t\t\t\t\n",
       " \t\t\t\t\n",
       " \t\t\t\t\n",
       " \t\t\t\t<a class=\"report\" href=\"#\" onclick=\"report('just****', 'SE5F1EejpvG8n7X8sLb1Ezz8eqkui72VEaHW+r6FfcQ=', '사실 현빈 다니엘헤니로 눈호강 하려고 갔는데 간만에 엄청 웃으며 재밌게 본 영화네요. ', '18441650', 'point_after');\" style=\"color:#8F8F8F\" title=\"새 창\">신고</a>\n",
       " </td>,\n",
       " <td class=\"title\">\n",
       " <a class=\"movie color_b\" href=\"?st=mcode&amp;sword=121048&amp;target=after\">암살</a>\n",
       " <div class=\"list_netizen_score\">\n",
       " <span class=\"st_off\"><span class=\"st_on\" style=\"width:100%\">별점 - 총 10점 중</span></span><em>10</em>\n",
       " </div>\n",
       " <br/>전국민 애국자 만들기 가능 \n",
       " \t\t\t\n",
       " \t\t\t\n",
       " \t\t\t\n",
       " \t\t\t\t\n",
       " \t\t\t\t\n",
       " \t\t\t\t\n",
       " \t\t\t\t<a class=\"report\" href=\"#\" onclick=\"report('0211****', 'KVZ4Qg02pY+mpVEUsHg/WNbOalV7/Drqoa8vGm6psxM=', '전국민 애국자 만들기 가능', '18441649', 'point_after');\" style=\"color:#8F8F8F\" title=\"새 창\">신고</a>\n",
       " </td>,\n",
       " <td class=\"title\">\n",
       " <a class=\"movie color_b\" href=\"?st=mcode&amp;sword=58242&amp;target=after\">우리에게 내일은 없다</a>\n",
       " <div class=\"list_netizen_score\">\n",
       " <span class=\"st_off\"><span class=\"st_on\" style=\"width:80%\">별점 - 총 10점 중</span></span><em>8</em>\n",
       " </div>\n",
       " <br/>기수가 종대를 대체...어릴때 그 죄책감때문에 계속 챙기는건줄 알았는데 막판에 대사들은 뭔가 사랑..?내 착각인가ㅎㅎ솔직히 이 영화가 뭘 말하고 싶은건지 의문이네요 \n",
       " \t\t\t\n",
       " \t\t\t\n",
       " \t\t\t\n",
       " \t\t\t\t\n",
       " \t\t\t\t\n",
       " \t\t\t\t\n",
       " \t\t\t\t<a class=\"report\" href=\"#\" onclick=\"report('tae2****', 'VH5wb8TyB1iU6ixxhjvJFMZGJYHkrmEF/LxD+Wcd/O4=', '기수가 종대를 대체...어릴때 그 죄책감때문에 계속 챙기는건줄 알았는데 막판에 대사들은 뭔가 사랑..?내 착각인가ㅎㅎ솔직히 이 영화가 뭘 말하고 싶은건지 의문이네요', '18441648', 'point_after');\" style=\"color:#8F8F8F\" title=\"새 창\">신고</a>\n",
       " </td>,\n",
       " <td class=\"title\">\n",
       " <a class=\"movie color_b\" href=\"?st=mcode&amp;sword=201641&amp;target=after\">공조2: 인터내셔날</a>\n",
       " <div class=\"list_netizen_score\">\n",
       " <span class=\"st_off\"><span class=\"st_on\" style=\"width:90%\">별점 - 총 10점 중</span></span><em>9</em>\n",
       " </div>\n",
       " <br/>5년전에 엄마와 공조 보고 이렇게 공조2를 엄마와 심플하고 편하게 즐길수 있어서 너무 좋았네요 연기도 좋고 과하지 않게 편안하게 엄마와 잘 보고 왔어요! \n",
       " \t\t\t\n",
       " \t\t\t\n",
       " \t\t\t\n",
       " \t\t\t\t\n",
       " \t\t\t\t\n",
       " \t\t\t\t\n",
       " \t\t\t\t<a class=\"report\" href=\"#\" onclick=\"report('sty1****', 'kT3Ov96HOTbg3CHSEI4lhy/Ld7iluoOR3KfCRNe/aWE=', '5년전에 엄마와 공조 보고 이렇게 공조2를 엄마와 심플하고 편하게 즐길수 있어서 너무 좋았네요 연기도 좋고 과하지 않게 편안하게 엄마와 잘 보고 왔어요!', '18441647', 'point_after');\" style=\"color:#8F8F8F\" title=\"새 창\">신고</a>\n",
       " </td>,\n",
       " <td class=\"title\">\n",
       " <a class=\"movie color_b\" href=\"?st=mcode&amp;sword=184519&amp;target=after\">비상선언</a>\n",
       " <div class=\"list_netizen_score\">\n",
       " <span class=\"st_off\"><span class=\"st_on\" style=\"width:10%\">별점 - 총 10점 중</span></span><em>1</em>\n",
       " </div>\n",
       " <br/>와 이런 새빨간 영화를 봤나;; 중국 넣으면 욕 씨게 먹을것같아서 중국은 빼놓고 미국이랑 일본 이미지는 타락시키는거 돌려까는거 잘 봤습니다. 그리고 대사중에 우리는 공무원이니까 라는 말이있는데 한국 공무원들이 저렇게 열심히 하는거 봤나요? 전 단 한명도 공무원들중에 저렇게 의무감 가지고 일하는사람 한명도 못봤는데요 돈 적다고 땡깡이나 부릴줄 알지;; 장르를 바꾸시는게 좋을것같아요 SF, 공상과학으로 \n",
       " \t\t\t\n",
       " \t\t\t\n",
       " \t\t\t\n",
       " \t\t\t\t\n",
       " \t\t\t\t\n",
       " \t\t\t\t\n",
       " \t\t\t\t<a class=\"report\" href=\"#\" onclick=\"report('ckdu****', 'pgkTIa7Hgnwlz5X4kfJAQ7rKGXtyZ8HiAzK/pSttNqE=', '와 이런 새빨간 영화를 봤나;; 중국 넣으면 욕 씨게 먹을것같아서 중국은 빼놓고 미국이랑 일본 이미지는 타락시키는거 돌려까는거 잘 봤습니다. 그리고 대사중에 우리는 공무원이니까 라는 말이있는데 한국 공무원들이 저렇게 열심히 하는거 봤나요? 전 단 한명도 공무원들중에 저렇게 의무감 가지고 일하는사람 한명도 못봤는데요 돈 적다고 땡깡이나 부릴줄 알지;; 장르를 바꾸시는게 좋을것같아요 SF, 공상과학으로', '18441646', 'point_after');\" style=\"color:#8F8F8F\" title=\"새 창\">신고</a>\n",
       " </td>,\n",
       " <td class=\"title\">\n",
       " <a class=\"movie color_b\" href=\"?st=mcode&amp;sword=206591&amp;target=after\">서울대작전</a>\n",
       " <div class=\"list_netizen_score\">\n",
       " <span class=\"st_off\"><span class=\"st_on\" style=\"width:10%\">별점 - 총 10점 중</span></span><em>1</em>\n",
       " </div>\n",
       " <br/>15분보고 끈 내가 승자군 ㅎㅎ \n",
       " \t\t\t\n",
       " \t\t\t\n",
       " \t\t\t\n",
       " \t\t\t\t\n",
       " \t\t\t\t\n",
       " \t\t\t\t\n",
       " \t\t\t\t<a class=\"report\" href=\"#\" onclick=\"report('krgt****', 'g8cWOVodeWUgtRExXsEa+UENhcmpRgBeTZTCV9AJlSY=', '15분보고 끈 내가 승자군 ㅎㅎ', '18441645', 'point_after');\" style=\"color:#8F8F8F\" title=\"새 창\">신고</a>\n",
       " </td>,\n",
       " <td class=\"title\">\n",
       " <a class=\"movie color_b\" href=\"?st=mcode&amp;sword=201641&amp;target=after\">공조2: 인터내셔날</a>\n",
       " <div class=\"list_netizen_score\">\n",
       " <span class=\"st_off\"><span class=\"st_on\" style=\"width:100%\">별점 - 총 10점 중</span></span><em>10</em>\n",
       " </div>\n",
       " <br/>공조가 일냈다! 전편보다 5배는 재밌음! 3편도 원츄!!♡ \n",
       " \t\t\t\n",
       " \t\t\t\n",
       " \t\t\t\n",
       " \t\t\t\t\n",
       " \t\t\t\t\n",
       " \t\t\t\t\n",
       " \t\t\t\t<a class=\"report\" href=\"#\" onclick=\"report('luna****', 'XD0iDnQbY/Cyw2jQbX6FfJxLigY5Sw9QtIVU/IpRslo=', '공조가 일냈다! 전편보다 5배는 재밌음! 3편도 원츄!!♡', '18441644', 'point_after');\" style=\"color:#8F8F8F\" title=\"새 창\">신고</a>\n",
       " </td>,\n",
       " <td class=\"title\">\n",
       " <a class=\"movie color_b\" href=\"?st=mcode&amp;sword=201641&amp;target=after\">공조2: 인터내셔날</a>\n",
       " <div class=\"list_netizen_score\">\n",
       " <span class=\"st_off\"><span class=\"st_on\" style=\"width:100%\">별점 - 총 10점 중</span></span><em>10</em>\n",
       " </div>\n",
       " <br/>현빈이랑 결혼할까 다니엘 헤니랑 결혼할까.. 그리고 윤아의 정말 ‘소싯적’ 모습이 나와서 너무 좋았움 ㅠ.ㅠ \n",
       " \t\t\t\n",
       " \t\t\t\n",
       " \t\t\t\n",
       " \t\t\t\t\n",
       " \t\t\t\t\n",
       " \t\t\t\t\n",
       " \t\t\t\t<a class=\"report\" href=\"#\" onclick=\"report('0211****', 'h4IUy5+sWI5qkbOmzK8fnKKKN2vkWjD+nBTvO4oNHwE=', '현빈이랑 결혼할까 다니엘 헤니랑 결혼할까.. 그리고 윤아의 정말 ‘소싯적’ 모습이 나와서 너무 좋았움 ㅠ.ㅠ ', '18441643', 'point_after');\" style=\"color:#8F8F8F\" title=\"새 창\">신고</a>\n",
       " </td>,\n",
       " <td class=\"title\">\n",
       " <a class=\"movie color_b\" href=\"?st=mcode&amp;sword=81888&amp;target=after\">탑건: 매버릭</a>\n",
       " <div class=\"list_netizen_score\">\n",
       " <span class=\"st_off\"><span class=\"st_on\" style=\"width:100%\">별점 - 총 10점 중</span></span><em>10</em>\n",
       " </div>\n",
       " <br/>역시 최고 영화 매버릭 최고 \n",
       " \t\t\t\n",
       " \t\t\t\n",
       " \t\t\t\n",
       " \t\t\t\t\n",
       " \t\t\t\t\n",
       " \t\t\t\t\n",
       " \t\t\t\t<a class=\"report\" href=\"#\" onclick=\"report('lemo****', 'I9lwmgnffAMh0n5BNtz0nWl+BtUNOIz8w09tWqxbRiA=', '역시 최고 영화 매버릭 최고', '18441641', 'point_after');\" style=\"color:#8F8F8F\" title=\"새 창\">신고</a>\n",
       " </td>]"
      ]
     },
     "execution_count": 51,
     "metadata": {},
     "output_type": "execute_result"
    }
   ],
   "source": [
    "review = soup.select('td.title')\n",
    "review"
   ]
  },
  {
   "cell_type": "code",
   "execution_count": 57,
   "metadata": {},
   "outputs": [],
   "source": [
    "view_list = []\n",
    "for i in review:\n",
    "    view_list.append(i.text)"
   ]
  },
  {
   "cell_type": "code",
   "execution_count": 54,
   "metadata": {},
   "outputs": [
    {
     "data": {
      "text/plain": [
       "'웃음타율도 괜찮고 액션도 괜찮았습니다 \\n\\t\\t\\t\\n\\t\\t\\t\\n\\t\\t\\t\\n\\t\\t\\t\\t\\n\\t\\t\\t\\t\\n\\t\\t\\t\\t\\n\\t\\t\\t\\t신고\\n'"
      ]
     },
     "execution_count": 54,
     "metadata": {},
     "output_type": "execute_result"
    }
   ],
   "source": [
    "test = view_list[0].split('\\n\\n')[2]\n",
    "test"
   ]
  },
  {
   "cell_type": "code",
   "execution_count": 55,
   "metadata": {},
   "outputs": [],
   "source": [
    "test = test.replace('\\n','')\n",
    "test = test.replace('\\t','')\n",
    "test = test.replace('신고','')"
   ]
  },
  {
   "cell_type": "code",
   "execution_count": 56,
   "metadata": {},
   "outputs": [
    {
     "data": {
      "text/plain": [
       "'웃음타율도 괜찮고 액션도 괜찮았습니다 '"
      ]
     },
     "execution_count": 56,
     "metadata": {},
     "output_type": "execute_result"
    }
   ],
   "source": [
    "test"
   ]
  },
  {
   "cell_type": "code",
   "execution_count": 59,
   "metadata": {},
   "outputs": [],
   "source": [
    "review = soup.select('td.title')\n",
    "view_list = []\n",
    "for i in review:\n",
    "    view = i.text\n",
    "    view = view.split('\\n\\n')[2]\n",
    "    view = view.replace('\\n','')\n",
    "    view = view.replace('\\t','')\n",
    "    view = view.replace('신고','')\n",
    "    \n",
    "    view_list.append(view)"
   ]
  },
  {
   "cell_type": "code",
   "execution_count": 61,
   "metadata": {},
   "outputs": [
    {
     "data": {
      "text/plain": [
       "['웃음타율도 괜찮고 액션도 괜찮았습니다 ',\n",
       " '사실 현빈 다니엘헤니로 눈호강 하려고 갔는데 간만에 엄청 웃으며 재밌게 본 영화네요. ',\n",
       " '전국민 애국자 만들기 가능 ',\n",
       " '기수가 종대를 대체...어릴때 그 죄책감때문에 계속 챙기는건줄 알았는데 막판에 대사들은 뭔가 사랑..?내 착각인가ㅎㅎ솔직히 이 영화가 뭘 말하고 싶은건지 의문이네요 ',\n",
       " '5년전에 엄마와 공조 보고 이렇게 공조2를 엄마와 심플하고 편하게 즐길수 있어서 너무 좋았네요 연기도 좋고 과하지 않게 편안하게 엄마와 잘 보고 왔어요! ',\n",
       " '와 이런 새빨간 영화를 봤나;; 중국 넣으면 욕 씨게 먹을것같아서 중국은 빼놓고 미국이랑 일본 이미지는 타락시키는거 돌려까는거 잘 봤습니다. 그리고 대사중에 우리는 공무원이니까 라는 말이있는데 한국 공무원들이 저렇게 열심히 하는거 봤나요? 전 단 한명도 공무원들중에 저렇게 의무감 가지고 일하는사람 한명도 못봤는데요 돈 적다고 땡깡이나 부릴줄 알지;; 장르를 바꾸시는게 좋을것같아요 SF, 공상과학으로 ',\n",
       " '15분보고 끈 내가 승자군 ㅎㅎ ',\n",
       " '공조가 일냈다! 전편보다 5배는 재밌음! 3편도 원츄!!♡ ',\n",
       " '현빈이랑 결혼할까 다니엘 헤니랑 결혼할까.. 그리고 윤아의 정말 ‘소싯적’ 모습이 나와서 너무 좋았움 ㅠ.ㅠ ',\n",
       " '역시 최고 영화 매버릭 최고 ']"
      ]
     },
     "execution_count": 61,
     "metadata": {},
     "output_type": "execute_result"
    }
   ],
   "source": [
    "view_list"
   ]
  },
  {
   "cell_type": "markdown",
   "metadata": {},
   "source": [
    "## 10페이지까지 크롤링하기"
   ]
  },
  {
   "cell_type": "code",
   "execution_count": 62,
   "metadata": {},
   "outputs": [],
   "source": [
    "page = range(1,11)"
   ]
  },
  {
   "cell_type": "code",
   "execution_count": 83,
   "metadata": {},
   "outputs": [
    {
     "data": {
      "application/vnd.jupyter.widget-view+json": {
       "model_id": "ab7898b4a94e4564be94463c39f61f74",
       "version_major": 2,
       "version_minor": 0
      },
      "text/plain": [
       "  0%|          | 0/10 [00:00<?, ?it/s]"
      ]
     },
     "metadata": {},
     "output_type": "display_data"
    }
   ],
   "source": [
    "total_title_list = []\n",
    "total_review_list = []\n",
    "total_score_list = []\n",
    "for i in tqdm(page):\n",
    "    url = 'https://movie.naver.com/movie/point/af/list.naver?&page={}'.format(i)\n",
    "    \n",
    "    res = req.get(url)\n",
    "    soup = bs(res.text,'html.parser')\n",
    "    #평점\n",
    "    score = soup.select('div.list_netizen_score>em')\n",
    "    for i in score:\n",
    "        total_score_list.append(i.text)\n",
    "    #리뷰    \n",
    "    review = soup.select('td.title')\n",
    "    for i in review:\n",
    "        view = i.text\n",
    "        view = view.split('\\n\\n')[2]\n",
    "        view = view.replace('\\n','')\n",
    "        view = view.replace('\\t','')\n",
    "        view = view.replace('신고','')\n",
    "    \n",
    "        total_review_list.append(view)\n",
    "    #타이틀    \n",
    "    title = soup.select('td.title > a.movie.color_b')\n",
    "    for i  in title:\n",
    "        total_title_list.append(i.text)\n",
    "\n",
    "    \n",
    "    "
   ]
  },
  {
   "cell_type": "code",
   "execution_count": 75,
   "metadata": {},
   "outputs": [],
   "source": [
    "movDB = {'제목': total_title_list ,'평점' : total_score_list ,'리뷰' : total_review_list}"
   ]
  },
  {
   "cell_type": "code",
   "execution_count": 76,
   "metadata": {},
   "outputs": [],
   "source": [
    "movs = pd.DataFrame(movDB)"
   ]
  },
  {
   "cell_type": "code",
   "execution_count": 77,
   "metadata": {},
   "outputs": [],
   "source": [
    "movs.to_excel('영화평점.xlsx', encoding = 'utf-8-sig')"
   ]
  }
 ],
 "metadata": {
  "kernelspec": {
   "display_name": "Python 3.9.12 ('base')",
   "language": "python",
   "name": "python3"
  },
  "language_info": {
   "codemirror_mode": {
    "name": "ipython",
    "version": 3
   },
   "file_extension": ".py",
   "mimetype": "text/x-python",
   "name": "python",
   "nbconvert_exporter": "python",
   "pygments_lexer": "ipython3",
   "version": "3.9.12"
  },
  "orig_nbformat": 4,
  "vscode": {
   "interpreter": {
    "hash": "39a34cc34fa105d8ec3534aa54504572aead214367e412b05dc49f32cf35b4ec"
   }
  }
 },
 "nbformat": 4,
 "nbformat_minor": 2
}
