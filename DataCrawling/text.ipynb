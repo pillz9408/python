{
 "cells": [
  {
   "cell_type": "code",
   "execution_count": 33,
   "metadata": {},
   "outputs": [],
   "source": [
    "import numpy as np\n",
    "from PIL import Image\n",
    "from os import path\n",
    "import matplotlib.pyplot as plt\n",
    "import os\n",
    "import random\n",
    "from wordcloud import WordCloud, STOPWORDS\n",
    "from wordcloud import WordCloud\n"
   ]
  },
  {
   "cell_type": "code",
   "execution_count": 34,
   "metadata": {},
   "outputs": [
    {
     "name": "stdout",
     "output_type": "stream",
     "text": [
      "Okt 결과\n",
      "['나', '는', '집', '에', '갑니다', '.']\n",
      "morphs :  ['나', '는', '집', '에', '갑니다', '.']\n",
      "nouns :  ['나', '집']\n",
      "pos :  [('나', 'Noun'), ('는', 'Josa'), ('집', 'Noun'), ('에', 'Josa'), ('갑니다', 'Verb'), ('.', 'Punctuation')]\n",
      "Hannanum 결과\n",
      "morphs :  ['나', '는', '집', '에', '가', 'ㅂ니다', '.']\n",
      "nouns :  ['나', '집']\n",
      "pos :  [('나', 'N'), ('는', 'J'), ('집', 'N'), ('에', 'J'), ('가', 'P'), ('ㅂ니다', 'E'), ('.', 'S')]\n",
      "Komoran 결과\n",
      "['나', '는', '집', '에', '가', 'ㅂ니다', '.']\n",
      "morphs :  ['나', '는', '집', '에', '가', 'ㅂ니다', '.']\n",
      "nouns :  ['집']\n",
      "pos :  [('나', 'NP'), ('는', 'JX'), ('집', 'NNG'), ('에', 'JKB'), ('가', 'VV'), ('ㅂ니다', 'EF'), ('.', 'SF')]\n",
      "Kkma 결과\n",
      "['나', '는', '집', '에', '가', 'ㅂ니다', '.']\n",
      "morphs :  ['나', '는', '집', '에', '가', 'ㅂ니다', '.']\n",
      "nouns :  ['나', '집']\n",
      "pos :  [('나', 'NP'), ('는', 'JX'), ('집', 'NNG'), ('에', 'JKM'), ('가', 'VV'), ('ㅂ니다', 'EFN'), ('.', 'SF')]\n"
     ]
    }
   ],
   "source": [
    "text = \"나는 집에 갑니다.\"\n",
    "from konlpy.tag import Okt\n",
    "okt = Okt()\n",
    "print(\"Okt 결과\")\n",
    "print(okt.morphs(text))\n",
    "print(\"morphs : \", okt.morphs(text))\n",
    "print(\"nouns : \", okt.nouns(text))\n",
    "print(\"pos : \", okt.pos(text))\n",
    "\n",
    "\n",
    "from konlpy.tag import Hannanum\n",
    "hannanum = Hannanum()\n",
    "print(\"Hannanum 결과\")\n",
    "print(\"morphs : \", hannanum.morphs(text))\n",
    "print(\"nouns : \", hannanum.nouns(text))\n",
    "print(\"pos : \", hannanum.pos(text))\n",
    "\n",
    "\n",
    "from konlpy.tag import Komoran\n",
    "komoran = Komoran()\n",
    "print(\"Komoran 결과\")\n",
    "print(komoran.morphs(text))\n",
    "print(\"morphs : \", komoran.morphs(text))\n",
    "print(\"nouns : \", komoran.nouns(text))\n",
    "print(\"pos : \", komoran.pos(text))\n",
    "\n",
    "\n",
    "from konlpy.tag import Kkma\n",
    "kkma = Kkma()\n",
    "print(\"Kkma 결과\")\n",
    "print(kkma.morphs(text))\n",
    "print(\"morphs : \", kkma.morphs(text))\n",
    "print(\"nouns : \", kkma.nouns(text))\n",
    "print(\"pos : \", kkma.pos(text))\n"
   ]
  },
  {
   "cell_type": "code",
   "execution_count": 35,
   "metadata": {},
   "outputs": [
    {
     "name": "stdout",
     "output_type": "stream",
     "text": [
      "Okt 결과\n",
      "norm 결과 :  ['ㅋㅋㅋ', '집', '가자', 'ㅋㅋㅋ']\n",
      "stem 결과 :  ['ㅋㅋㅋㅋ', '집', '가잨', 'ㅋㅋㅋ']\n",
      "stem, norm 결과 :  ['ㅋㅋㅋ', '집', '가다', 'ㅋㅋㅋ']\n",
      "\n",
      "norm 결과 :  ['ㅋㅋㅋ', '집', '가', '짖', 'ㅋㅋㅋ']\n",
      "stem 결과 :  ['ㅋㅋㅋㅋ', '집', '가다', '짖다', 'ㅋㅋㅋ']\n",
      "stem, norm 결과 :  ['ㅋㅋㅋ', '집', '가다', '짖다', 'ㅋㅋㅋ']\n",
      "\n",
      "norm 결과 :  [('ㅋㅋㅋ', 'KoreanParticle'), ('집', 'Noun'), ('가', 'Verb'), ('짖', 'Verb'), ('ㅋㅋㅋ', 'KoreanParticle')]\n",
      "stem 결과 :  [('ㅋㅋㅋㅋ', 'KoreanParticle'), ('집', 'Noun'), ('가다', 'Verb'), ('짖다', 'Verb'), ('ㅋㅋㅋ', 'KoreanParticle')]\n",
      "stem, norm 결과 :  [('ㅋㅋㅋ', 'KoreanParticle'), ('집', 'Noun'), ('가다', 'Verb'), ('짖다', 'Verb'), ('ㅋㅋㅋ', 'KoreanParticle')]\n"
     ]
    }
   ],
   "source": [
    "text = \"ㅋㅋㅋㅋ집 가잨ㅋㅋㅋ\"\n",
    "\n",
    "text2 = \"ㅋㅋㅋㅋ집 가짖ㅋㅋㅋ\"\n",
    "\n",
    "from konlpy.tag import Okt\n",
    "okt = Okt()\n",
    "print(\"Okt 결과\")\n",
    "print(\"norm 결과 : \" , okt.morphs(text, norm=True))\n",
    "print(\"stem 결과 : \" , okt.morphs(text, stem=True))\n",
    "print(\"stem, norm 결과 : \" , okt.morphs(text, norm=True, stem=True))\n",
    "print(\"\")\n",
    "print(\"norm 결과 : \" , okt.morphs(text2, norm=True))\n",
    "print(\"stem 결과 : \" , okt.morphs(text2, stem=True))\n",
    "print(\"stem, norm 결과 : \" , okt.morphs(text2, norm=True, stem=True))\n",
    "print(\"\")\n",
    "print(\"norm 결과 : \" , okt.pos(text2, norm=True))\n",
    "print(\"stem 결과 : \" , okt.pos(text2, stem=True))\n",
    "print(\"stem, norm 결과 : \" , okt.pos(text2, norm=True, stem=True))"
   ]
  },
  {
   "cell_type": "code",
   "execution_count": 36,
   "metadata": {},
   "outputs": [],
   "source": [
    "a = okt.pos(text2, norm=True, stem=True)\n",
    "a_list = []\n",
    "for i in range(len(a)):\n",
    "    a_list.append(a[i][1])\n"
   ]
  },
  {
   "cell_type": "markdown",
   "metadata": {},
   "source": [
    "def extract_nouns(string):\n",
    "    #명사를 뺀 리스트를 nouns에 저장\n",
    "    nouns = okt.nouns(string)\n",
    "    return nouns\n",
    "\n",
    "def extract_tag(values):\n",
    "    values_pos_list = []\n",
    "    values_pos = okt.pos(values)\n",
    "    \n",
    "    for i in range(len(values_pos))\n",
    "        values_pos_list.append(values_pos[i][1])\n",
    "    set(values_pos_list)\n",
    "    \n",
    "    for x in values_pos:\n",
    "        for x in values_pos_list:\n",
    "        i[1]\n",
    "\n"
   ]
  },
  {
   "cell_type": "code",
   "execution_count": 37,
   "metadata": {},
   "outputs": [],
   "source": [
    "text = \"빨간 국립중앙박물관은 중국 국가박물관이 한·중·일 고대 유물 전시회에서 고구려와 발해 내용을 뺀 연표를 공개한 것과 관련해 시정 조치가 없으면 전시품을 철수하겠다고 밝혔습니다.\"\n",
    "\n",
    "def extract_nouns(string):\n",
    "    #명사를 뺀 리스트를 nouns에 저장\n",
    "    nouns = okt.nouns(string)\n",
    "    return nouns\n",
    "\n",
    "def extract_tag(values):\n",
    "    result_list = []\n",
    "    result = okt.pos(values, norm=True, stem=True)\n",
    "\n",
    "    for word, tag in result:\n",
    "        if tag in [\"Verb\", \"Noun\", \"Adjective\"]:\n",
    "            result_list.append(word)\n",
    "    return result_list\n",
    "\n",
    "def delet_word(string):\n",
    "    result_words=[]\n",
    "    result = okt.pos(string, stem=True, norm=True)\n",
    "    StopWord = [\"하다\", \"되다\", \"하겠다고\", \"하는\", \"되다\", \"있다\", \"것\", \"은\", \"는\", \"이\", \"가\", \"해\", \"씨\"]\n",
    "    for word, tag in result:\n",
    "        if tag in['Verb', 'Noun', 'Adjective']:\n",
    "            if word not in StopWord:\n",
    "                result_words.append(word)\n",
    "    return result_words\n",
    "\n",
    "# def delet_word(string):\n",
    "#     result_list = []\n",
    "#     result = okt.pos(string)\n",
    "\n",
    "#     for word, tag in result:\n",
    "#         if tag in [\"Verb\", \"Noun\", \"Adjective\"]:\n",
    "#             result_list.append(word)\n",
    "\n",
    "#     \n",
    "#     for x in result_list:\n",
    "#         if x in StopWord:\n",
    "#             result_list.remove(x)\n",
    "#         else:\n",
    "#             pass\n",
    "#     return result_list\n"
   ]
  },
  {
   "cell_type": "code",
   "execution_count": 38,
   "metadata": {},
   "outputs": [
    {
     "name": "stdout",
     "output_type": "stream",
     "text": [
      "['빨갛다', '국립', '중앙', '박물관', '중국', '국가', '박물관', '하다', '중', '일', '고대', '유물', '전시회', '고구려', '발해', '내용', '빼다', '연표', '공개', '것', '관련', '하다', '시정', '조치', '없다', '전시품', '철수', '하다', '밝히다']\n"
     ]
    }
   ],
   "source": [
    "print(extract_tag(text))"
   ]
  },
  {
   "cell_type": "code",
   "execution_count": null,
   "metadata": {},
   "outputs": [],
   "source": []
  },
  {
   "cell_type": "markdown",
   "metadata": {},
   "source": [
    "영어 추출하기"
   ]
  },
  {
   "cell_type": "markdown",
   "metadata": {},
   "source": [
    "1. nltk설치 및 실행\n",
    "- !pip install nltk"
   ]
  },
  {
   "cell_type": "code",
   "execution_count": 39,
   "metadata": {},
   "outputs": [],
   "source": [
    "import nltk\n",
    "from nltk import pos_tag"
   ]
  },
  {
   "cell_type": "markdown",
   "metadata": {},
   "source": []
  },
  {
   "cell_type": "code",
   "execution_count": 40,
   "metadata": {},
   "outputs": [
    {
     "name": "stderr",
     "output_type": "stream",
     "text": [
      "[nltk_data] Downloading package punkt to\n",
      "[nltk_data]     C:\\Users\\user\\AppData\\Roaming\\nltk_data...\n",
      "[nltk_data]   Package punkt is already up-to-date!\n"
     ]
    },
    {
     "data": {
      "text/plain": [
       "True"
      ]
     },
     "execution_count": 40,
     "metadata": {},
     "output_type": "execute_result"
    }
   ],
   "source": [
    "nltk.download(\"punkt\")"
   ]
  },
  {
   "cell_type": "code",
   "execution_count": 41,
   "metadata": {},
   "outputs": [
    {
     "name": "stderr",
     "output_type": "stream",
     "text": [
      "[nltk_data] Downloading package averaged_perceptron_tagger to\n",
      "[nltk_data]     C:\\Users\\user\\AppData\\Roaming\\nltk_data...\n",
      "[nltk_data]   Package averaged_perceptron_tagger is already up-to-\n",
      "[nltk_data]       date!\n"
     ]
    },
    {
     "data": {
      "text/plain": [
       "True"
      ]
     },
     "execution_count": 41,
     "metadata": {},
     "output_type": "execute_result"
    }
   ],
   "source": [
    "nltk.download('averaged_perceptron_tagger')"
   ]
  },
  {
   "cell_type": "code",
   "execution_count": 42,
   "metadata": {},
   "outputs": [
    {
     "name": "stdout",
     "output_type": "stream",
     "text": [
      "['i', 'Empty', 'markdown', 'cell', ',', 'a', 'the', 'double', 'click', 'or', 'press', 'enter', 'to', 'edit']\n"
     ]
    }
   ],
   "source": [
    "text5 = \"i Empty markdown cell, a the double click or press enter to edit\"\n",
    "split_text = nltk.word_tokenize(text5)\n",
    "print(split_text)"
   ]
  },
  {
   "cell_type": "code",
   "execution_count": 43,
   "metadata": {},
   "outputs": [
    {
     "name": "stdout",
     "output_type": "stream",
     "text": [
      "[('i', 'NN'), ('Empty', 'NNP'), ('markdown', 'NN'), ('cell', 'NN'), (',', ','), ('a', 'DT'), ('the', 'DT'), ('double', 'JJ'), ('click', 'NN'), ('or', 'CC'), ('press', 'NN'), ('enter', 'NN'), ('to', 'TO'), ('edit', 'VB')]\n"
     ]
    }
   ],
   "source": [
    "pos_text = nltk.pos_tag(split_text)\n",
    "print(pos_text)"
   ]
  },
  {
   "cell_type": "code",
   "execution_count": 44,
   "metadata": {},
   "outputs": [
    {
     "name": "stderr",
     "output_type": "stream",
     "text": [
      "[nltk_data] Downloading package stopwords to\n",
      "[nltk_data]     C:\\Users\\user\\AppData\\Roaming\\nltk_data...\n",
      "[nltk_data]   Package stopwords is already up-to-date!\n"
     ]
    },
    {
     "data": {
      "text/plain": [
       "True"
      ]
     },
     "execution_count": 44,
     "metadata": {},
     "output_type": "execute_result"
    }
   ],
   "source": [
    "nltk.download(\"stopwords\")"
   ]
  },
  {
   "cell_type": "code",
   "execution_count": 45,
   "metadata": {},
   "outputs": [
    {
     "name": "stdout",
     "output_type": "stream",
     "text": [
      "['i', 'me', 'my', 'myself', 'we', 'our', 'ours', 'ourselves', 'you', \"you're\", \"you've\", \"you'll\", \"you'd\", 'your', 'yours', 'yourself', 'yourselves', 'he', 'him', 'his', 'himself', 'she', \"she's\", 'her', 'hers', 'herself', 'it', \"it's\", 'its', 'itself', 'they', 'them', 'their', 'theirs', 'themselves', 'what', 'which', 'who', 'whom', 'this', 'that', \"that'll\", 'these', 'those', 'am', 'is', 'are', 'was', 'were', 'be', 'been', 'being', 'have', 'has', 'had', 'having', 'do', 'does', 'did', 'doing', 'a', 'an', 'the', 'and', 'but', 'if', 'or', 'because', 'as', 'until', 'while', 'of', 'at', 'by', 'for', 'with', 'about', 'against', 'between', 'into', 'through', 'during', 'before', 'after', 'above', 'below', 'to', 'from', 'up', 'down', 'in', 'out', 'on', 'off', 'over', 'under', 'again', 'further', 'then', 'once', 'here', 'there', 'when', 'where', 'why', 'how', 'all', 'any', 'both', 'each', 'few', 'more', 'most', 'other', 'some', 'such', 'no', 'nor', 'not', 'only', 'own', 'same', 'so', 'than', 'too', 'very', 's', 't', 'can', 'will', 'just', 'don', \"don't\", 'should', \"should've\", 'now', 'd', 'll', 'm', 'o', 're', 've', 'y', 'ain', 'aren', \"aren't\", 'couldn', \"couldn't\", 'didn', \"didn't\", 'doesn', \"doesn't\", 'hadn', \"hadn't\", 'hasn', \"hasn't\", 'haven', \"haven't\", 'isn', \"isn't\", 'ma', 'mightn', \"mightn't\", 'mustn', \"mustn't\", 'needn', \"needn't\", 'shan', \"shan't\", 'shouldn', \"shouldn't\", 'wasn', \"wasn't\", 'weren', \"weren't\", 'won', \"won't\", 'wouldn', \"wouldn't\"]\n"
     ]
    }
   ],
   "source": [
    "print(nltk.corpus.stopwords.words(\"english\")) # 이미 설정되어 있음 & 소문자만 가능함"
   ]
  },
  {
   "cell_type": "code",
   "execution_count": 46,
   "metadata": {},
   "outputs": [
    {
     "name": "stdout",
     "output_type": "stream",
     "text": [
      "['i', 'markdown', 'cell', 'double', 'click', 'press', 'enter', 'edit']\n",
      "['empty', 'markdown', 'cell', 'double', 'click', 'press', 'enter', 'edit']\n"
     ]
    }
   ],
   "source": [
    "def extract_tag_eglish(string):\n",
    "    result_list = []\n",
    "    split_text = nltk.word_tokenize(string) # 형태소별로 나누기\n",
    "    result = nltk.pos_tag(split_text)  # 태그 달아서 튜플을 가진 리스트 형태로 바꿔줌(예 : [('Empty', 'NNP'), ('markdown', 'NN')] )\n",
    "\n",
    "    for word, tag in result:\n",
    "        if tag in [\"VB\", \"JJ\", \"NN\"]:\n",
    "            result_list.append(word)\n",
    "    return result_list\n",
    "\n",
    "def delet_word_eglish(string):\n",
    "    result_words=[]\n",
    "    string  = string.lower() # 소문자로 바꿔주기\n",
    "    split_text = nltk.word_tokenize(string)\n",
    "    result = nltk.pos_tag(split_text)\n",
    "    for word, tag in result:\n",
    "        if tag in[\"VB\", \"VBD\", \"VBG\", \"VBN\", \"VBZ\", \"VBP\",\n",
    "                  \"JJ\", \"JJR\", \"JJS\", \"NN\", \"NNS\", \"NNP\", \"NNPS\"]:\n",
    "            stopwords = nltk.corpus.stopwords.words(\"english\")\n",
    "            if word not in stopwords:\n",
    "                result_words.append(word)\n",
    "    return result_words\n",
    "\n",
    "print(extract_tag_eglish(text5))\n",
    "print(delet_word_eglish(text5))"
   ]
  },
  {
   "cell_type": "markdown",
   "metadata": {},
   "source": [
    "Pickle 사용하기"
   ]
  },
  {
   "cell_type": "code",
   "execution_count": 47,
   "metadata": {},
   "outputs": [],
   "source": [
    "import pickle"
   ]
  },
  {
   "cell_type": "code",
   "execution_count": 48,
   "metadata": {},
   "outputs": [],
   "source": [
    "result = delet_word_eglish(text5)\n",
    "with open(\"save_data.pkl\", \"wb\") as f: #as f : 파일로 저장한다\n",
    "    pickle.dump(result, f)"
   ]
  },
  {
   "cell_type": "code",
   "execution_count": 49,
   "metadata": {},
   "outputs": [],
   "source": [
    "with open(\"save_data.pkl\", \"rb\") as f: #as f : 파일을 불러온다\n",
    "    data = pickle.load(f)"
   ]
  },
  {
   "cell_type": "code",
   "execution_count": 50,
   "metadata": {},
   "outputs": [
    {
     "data": {
      "text/plain": [
       "['empty', 'markdown', 'cell', 'double', 'click', 'press', 'enter', 'edit']"
      ]
     },
     "execution_count": 50,
     "metadata": {},
     "output_type": "execute_result"
    }
   ],
   "source": [
    "data"
   ]
  },
  {
   "cell_type": "markdown",
   "metadata": {},
   "source": [
    "빈도를 활용한 빈도에 대한 시각화"
   ]
  },
  {
   "cell_type": "code",
   "execution_count": 51,
   "metadata": {},
   "outputs": [
    {
     "name": "stdout",
     "output_type": "stream",
     "text": [
      "Requirement already satisfied: wordcloud in c:\\users\\user\\anaconda\\lib\\site-packages (1.8.2.2)\n",
      "Requirement already satisfied: pillow in c:\\users\\user\\anaconda\\lib\\site-packages (from wordcloud) (9.0.1)\n",
      "Requirement already satisfied: numpy>=1.6.1 in c:\\users\\user\\anaconda\\lib\\site-packages (from wordcloud) (1.21.5)\n",
      "Requirement already satisfied: matplotlib in c:\\users\\user\\anaconda\\lib\\site-packages (from wordcloud) (3.5.1)\n",
      "Requirement already satisfied: fonttools>=4.22.0 in c:\\users\\user\\anaconda\\lib\\site-packages (from matplotlib->wordcloud) (4.25.0)\n",
      "Requirement already satisfied: pyparsing>=2.2.1 in c:\\users\\user\\anaconda\\lib\\site-packages (from matplotlib->wordcloud) (3.0.4)\n",
      "Requirement already satisfied: cycler>=0.10 in c:\\users\\user\\anaconda\\lib\\site-packages (from matplotlib->wordcloud) (0.11.0)\n",
      "Requirement already satisfied: packaging>=20.0 in c:\\users\\user\\anaconda\\lib\\site-packages (from matplotlib->wordcloud) (21.3)\n",
      "Requirement already satisfied: python-dateutil>=2.7 in c:\\users\\user\\anaconda\\lib\\site-packages (from matplotlib->wordcloud) (2.8.2)\n",
      "Requirement already satisfied: kiwisolver>=1.0.1 in c:\\users\\user\\anaconda\\lib\\site-packages (from matplotlib->wordcloud) (1.3.2)\n",
      "Requirement already satisfied: six>=1.5 in c:\\users\\user\\anaconda\\lib\\site-packages (from python-dateutil>=2.7->matplotlib->wordcloud) (1.16.0)\n"
     ]
    }
   ],
   "source": [
    "!pip install wordcloud"
   ]
  },
  {
   "cell_type": "code",
   "execution_count": 52,
   "metadata": {},
   "outputs": [],
   "source": [
    "from wordcloud import WordCloud\n",
    "from collections import Counter\n",
    "import matplotlib.pyplot as plt"
   ]
  },
  {
   "cell_type": "code",
   "execution_count": null,
   "metadata": {},
   "outputs": [],
   "source": []
  },
  {
   "cell_type": "code",
   "execution_count": 53,
   "metadata": {},
   "outputs": [],
   "source": [
    "import pickle\n",
    "\n",
    "with open(\"news_data_title.pkl\", \"rb\") as f: #as f : 파일로 저장한다\n",
    "    title_list = pickle.load(f)\n",
    "    \n",
    "with open(\"news_data_content.pkl\", \"rb\") as f: #as f : 파일로 저장한다\n",
    "    content_list = pickle.load(f)[0:3]\n",
    "    \n",
    "with open(\"news_data_person.pkl\", \"rb\") as f: #as f : 파일로 저장한다\n",
    "    person_list = pickle.load(f)\n",
    "\n",
    "# title_list\n",
    "# content_list\n",
    "# person_list"
   ]
  },
  {
   "cell_type": "code",
   "execution_count": 54,
   "metadata": {},
   "outputs": [
    {
     "data": {
      "text/plain": [
       "['\\n  뉴질랜드 \\'가방 속 어린이 시신 사건\\'의 용의자인 현지 국적 여성이 울산에서 검거된 후 취재진 질문에 혐의를 부인했습니다.\\n  \\n 검거 직후 울산 중부서에서 대기하다가 오늘(15일) 낮 12시쯤 서울중앙지검으로 인계된 A씨는 혐의 인정 여부와 범행 이유 등을 묻는 취재진에게 \"안 했어요.\"라고 답하며 혐의를 부인했습니다.\\n  \\n 앞서 울산 중부경찰서는 오늘 오전 0시 45분쯤 울산의 한 아파트에서 해당 사건 용의자인 40대 여성 A씨를 붙잡았습니다.\\n  \\n A씨는 2018년께 뉴질랜드 오클랜드에서 각각 7살과 10살의 친자녀 2명을 살해한 혐의를 받고 있습니다.\\n  \\n 이 사건은 올해 8월 11일 뉴질랜드 현지에서 창고 경매로 판매된 여행 가방 속에 아동 2명의 시신이 발견되면서 드러났습니다.\\n  \\n 현지 경찰은 죽은 아동들의 친모이자 한국에서 뉴질랜드에 이민 와 국적을 취득한 A씨를 용의자로 보고 수사를 해왔습니다.\\n  \\n 경찰은 \\'A씨가 용의자와 비슷하다\\'는 첩보를 받고 조사하던 중 A씨가 뉴질랜드에서 한국으로 온 시기와 가족 관련 특이사항 등을 확인하고 잠복근무 끝에 검거했습니다.\\n  \\n 검거 당시 A씨는 별다른 저항 없이 자신의 신원을 말한 것으로 알려졌습니다.\\n  \\n A씨는 입국 후 서울 등지에서 생활하다가 올해 초 울산에 왔으며, 지인 집에서 살고 있던 것으로 추정됩니다.\\n ',\n",
       " '\\n  국민의힘 정진석 비상대책위원장은 오늘(15일) \"한일 양국이 올바른 미래지향적 관계로 발전해 나가야 한다\"며 \"양국이 처한 엄중한 상황에 대해 성찰하고 \\'윈윈\\'하는 관계로 거듭나야 한다\"고 말했습니다.\\n  \\n 정 위원장은 제주국제컨벤션센터에서 열린 제17회 \\'평화와 번영을 위한 제주포럼\\'에서 한일의원연맹 회장 자격으로 한 한일의원특별세션 개회사를 통해 이같이 밝혔습니다.\\n  \\n 정 위원장은 동북아를 비롯한 국제 정세와 관련해 \"미·중 간의 대립과 러시아-우크라이나 간 전쟁 등으로 국제정세가 꽁꽁 얼어붙고 전 세계적 물가상승 압력 등 경제 불황이 지속되고 있으며, 강대국들은 저마다 내셔널리즘(국가주의)과 자국 실리추구에 여념이 없다\"고 전했습니다.\\n  \\n 특히 \"이런 가운데 북한의 핵과 미사일 위협은 이제 한반도뿐만 아니라 국제적 불안 요소로 다가오고 있는 게 엄연한 현실이다. 북한 김정은은 며칠 전 핵보유국을 법제화했고, 무슨 일이 있어도 핵을 포기하지 않겠다면서 핵 선제공격을 공언했다\"며 \"한일 양국 안보의 큰 틀이 흔들리고 있다\"고 말했습니다.\\n  \\n 정 위원장은 개회사를 시작하면서 \"양국의 국회의원과 전문가들이 머리를 맞대는 장이 마련된 것만으로도 고무적이다. 불과 1년 전만 해도 상상하기 어려운 광경\"이라고 언급, 전임 정부 시절 양국관계를 에둘러 비판하기도 했습니다.\\n ',\n",
       " '\\n  뉴질랜드 \\'가방 속 어린이 시신 사건\\'의 용의자인 현지 국적 여성이 울산에서 검거된 후 취재진 질문에 혐의를 부인했습니다.\\n  \\n 검거 직후 울산 중부서에서 대기하다가 오늘(15일) 낮 12시쯤 서울중앙지검으로 인계된 A씨는 혐의 인정 여부와 범행 이유 등을 묻는 취재진에게 \"안 했어요.\"라고 답하며 혐의를 부인했습니다.\\n  \\n 앞서 울산 중부경찰서는 오늘 오전 0시 45분쯤 울산의 한 아파트에서 해당 사건 용의자인 40대 여성 A씨를 붙잡았습니다.\\n  \\n A씨는 2018년께 뉴질랜드 오클랜드에서 각각 7살과 10살의 친자녀 2명을 살해한 혐의를 받고 있습니다.\\n  \\n 이 사건은 올해 8월 11일 뉴질랜드 현지에서 창고 경매로 판매된 여행 가방 속에 아동 2명의 시신이 발견되면서 드러났습니다.\\n  \\n 현지 경찰은 죽은 아동들의 친모이자 한국에서 뉴질랜드에 이민 와 국적을 취득한 A씨를 용의자로 보고 수사를 해왔습니다.\\n  \\n 경찰은 \\'A씨가 용의자와 비슷하다\\'는 첩보를 받고 조사하던 중 A씨가 뉴질랜드에서 한국으로 온 시기와 가족 관련 특이사항 등을 확인하고 잠복근무 끝에 검거했습니다.\\n  \\n 검거 당시 A씨는 별다른 저항 없이 자신의 신원을 말한 것으로 알려졌습니다.\\n  \\n A씨는 입국 후 서울 등지에서 생활하다가 올해 초 울산에 왔으며, 지인 집에서 살고 있던 것으로 추정됩니다.\\n ']"
      ]
     },
     "execution_count": 54,
     "metadata": {},
     "output_type": "execute_result"
    }
   ],
   "source": [
    "content_list"
   ]
  },
  {
   "cell_type": "markdown",
   "metadata": {},
   "source": [
    "개행문자 없애기"
   ]
  },
  {
   "cell_type": "code",
   "execution_count": 55,
   "metadata": {},
   "outputs": [
    {
     "data": {
      "text/plain": [
       "'  뉴질랜드 가방 속 어린이 시신 사건의 용의자인 현지 국적 여성이 울산에서 검거된 후 취재진 질문에 혐의를 부인했습니다.   검거 직후 울산 중부서에서 대기하다가 오늘(15일) 낮 12시쯤 서울중앙지검으로 인계된 A씨는 혐의 인정 여부와 범행 이유 등을 묻는 취재진에게 \"안 했어요.\"라고 답하며 혐의를 부인했습니다.   앞서 울산 중부경찰서는 오늘 오전 0시 45분쯤 울산의 한 아파트에서 해당 사건 용의자인 40대 여성 A씨를 붙잡았습니다.   A씨는 2018년께 뉴질랜드 오클랜드에서 각각 7살과 10살의 친자녀 2명을 살해한 혐의를 받고 있습니다.   이 사건은 올해 8월 11일 뉴질랜드 현지에서 창고 경매로 판매된 여행 가방 속에 아동 2명의 시신이 발견되면서 드러났습니다.   현지 경찰은 죽은 아동들의 친모이자 한국에서 뉴질랜드에 이민 와 국적을 취득한 A씨를 용의자로 보고 수사를 해왔습니다.   경찰은 A씨가 용의자와 비슷하다는 첩보를 받고 조사하던 중 A씨가 뉴질랜드에서 한국으로 온 시기와 가족 관련 특이사항 등을 확인하고 잠복근무 끝에 검거했습니다.   검거 당시 A씨는 별다른 저항 없이 자신의 신원을 말한 것으로 알려졌습니다.   A씨는 입국 후 서울 등지에서 생활하다가 올해 초 울산에 왔으며, 지인 집에서 살고 있던 것으로 추정됩니다.   국민의힘 정진석 비상대책위원장은 오늘(15일) \"한일 양국이 올바른 미래지향적 관계로 발전해 나가야 한다\"며 \"양국이 처한 엄중한 상황에 대해 성찰하고 윈윈하는 관계로 거듭나야 한다\"고 말했습니다.   정 위원장은 제주국제컨벤션센터에서 열린 제17회 평화와 번영을 위한 제주포럼에서 한일의원연맹 회장 자격으로 한 한일의원특별세션 개회사를 통해 이같이 밝혔습니다.   정 위원장은 동북아를 비롯한 국제 정세와 관련해 \"미·중 간의 대립과 러시아-우크라이나 간 전쟁 등으로 국제정세가 꽁꽁 얼어붙고 전 세계적 물가상승 압력 등 경제 불황이 지속되고 있으며, 강대국들은 저마다 내셔널리즘(국가주의)과 자국 실리추구에 여념이 없다\"고 전했습니다.   특히 \"이런 가운데 북한의 핵과 미사일 위협은 이제 한반도뿐만 아니라 국제적 불안 요소로 다가오고 있는 게 엄연한 현실이다. 북한 김정은은 며칠 전 핵보유국을 법제화했고, 무슨 일이 있어도 핵을 포기하지 않겠다면서 핵 선제공격을 공언했다\"며 \"한일 양국 안보의 큰 틀이 흔들리고 있다\"고 말했습니다.   정 위원장은 개회사를 시작하면서 \"양국의 국회의원과 전문가들이 머리를 맞대는 장이 마련된 것만으로도 고무적이다. 불과 1년 전만 해도 상상하기 어려운 광경\"이라고 언급, 전임 정부 시절 양국관계를 에둘러 비판하기도 했습니다.   뉴질랜드 가방 속 어린이 시신 사건의 용의자인 현지 국적 여성이 울산에서 검거된 후 취재진 질문에 혐의를 부인했습니다.   검거 직후 울산 중부서에서 대기하다가 오늘(15일) 낮 12시쯤 서울중앙지검으로 인계된 A씨는 혐의 인정 여부와 범행 이유 등을 묻는 취재진에게 \"안 했어요.\"라고 답하며 혐의를 부인했습니다.   앞서 울산 중부경찰서는 오늘 오전 0시 45분쯤 울산의 한 아파트에서 해당 사건 용의자인 40대 여성 A씨를 붙잡았습니다.   A씨는 2018년께 뉴질랜드 오클랜드에서 각각 7살과 10살의 친자녀 2명을 살해한 혐의를 받고 있습니다.   이 사건은 올해 8월 11일 뉴질랜드 현지에서 창고 경매로 판매된 여행 가방 속에 아동 2명의 시신이 발견되면서 드러났습니다.   현지 경찰은 죽은 아동들의 친모이자 한국에서 뉴질랜드에 이민 와 국적을 취득한 A씨를 용의자로 보고 수사를 해왔습니다.   경찰은 A씨가 용의자와 비슷하다는 첩보를 받고 조사하던 중 A씨가 뉴질랜드에서 한국으로 온 시기와 가족 관련 특이사항 등을 확인하고 잠복근무 끝에 검거했습니다.   검거 당시 A씨는 별다른 저항 없이 자신의 신원을 말한 것으로 알려졌습니다.   A씨는 입국 후 서울 등지에서 생활하다가 올해 초 울산에 왔으며, 지인 집에서 살고 있던 것으로 추정됩니다. '"
      ]
     },
     "execution_count": 55,
     "metadata": {},
     "output_type": "execute_result"
    }
   ],
   "source": [
    "All_content = \"\"\n",
    "for i in range(len(content_list)):\n",
    "    content_list[i] = content_list[i].replace(\"\\'\",\"\").replace(\"\\n\",\"\")\n",
    "    All_content += content_list[i].replace(\"\\'\",\"\").replace(\"\\n\",\"\")\n",
    "\n",
    "All_content"
   ]
  },
  {
   "cell_type": "code",
   "execution_count": 56,
   "metadata": {},
   "outputs": [
    {
     "name": "stdout",
     "output_type": "stream",
     "text": [
      "[('뉴질랜드', 10), ('울산', 10), ('용의자', 8), ('검거', 8), ('혐의', 8), ('사건', 6), ('현지', 6), ('등', 6), ('오늘', 5), ('양국', 5), ('가방', 4), ('속', 4), ('시신', 4), ('국적', 4), ('여성', 4), ('후', 4), ('취재', 4), ('진', 4), ('부인', 4), ('중부', 4), ('살', 4), ('받다', 4), ('올해', 4), ('아동', 4), ('경찰', 4), ('한국', 4), ('오다', 4), ('말', 4), ('위원장', 4), ('국제', 4)]\n"
     ]
    }
   ],
   "source": [
    "final = delet_word(All_content)\n",
    "count = Counter(final)\n",
    "print(count.most_common(30))"
   ]
  },
  {
   "cell_type": "code",
   "execution_count": 57,
   "metadata": {},
   "outputs": [],
   "source": [
    "font_path = \"C:\\Windows\\Fonts\\batang.ttc\""
   ]
  },
  {
   "cell_type": "code",
   "execution_count": 64,
   "metadata": {},
   "outputs": [],
   "source": [
    "from PIL import Image\n",
    "import numpy as np"
   ]
  },
  {
   "cell_type": "code",
   "execution_count": 65,
   "metadata": {},
   "outputs": [
    {
     "data": {
      "text/plain": [
       "array([[[255, 255, 255],\n",
       "        [255, 255, 255],\n",
       "        [255, 255, 255],\n",
       "        ...,\n",
       "        [255, 255, 255],\n",
       "        [255, 255, 255],\n",
       "        [255, 255, 255]],\n",
       "\n",
       "       [[255, 255, 255],\n",
       "        [255, 255, 255],\n",
       "        [255, 255, 255],\n",
       "        ...,\n",
       "        [255, 255, 255],\n",
       "        [255, 255, 255],\n",
       "        [255, 255, 255]],\n",
       "\n",
       "       [[255, 255, 255],\n",
       "        [255, 255, 255],\n",
       "        [255, 255, 255],\n",
       "        ...,\n",
       "        [255, 255, 255],\n",
       "        [255, 255, 255],\n",
       "        [255, 255, 255]],\n",
       "\n",
       "       ...,\n",
       "\n",
       "       [[255, 255, 255],\n",
       "        [255, 255, 255],\n",
       "        [255, 255, 255],\n",
       "        ...,\n",
       "        [255, 255, 255],\n",
       "        [255, 255, 255],\n",
       "        [255, 255, 255]],\n",
       "\n",
       "       [[255, 255, 255],\n",
       "        [255, 255, 255],\n",
       "        [255, 255, 255],\n",
       "        ...,\n",
       "        [255, 255, 255],\n",
       "        [255, 255, 255],\n",
       "        [255, 255, 255]],\n",
       "\n",
       "       [[255, 255, 255],\n",
       "        [255, 255, 255],\n",
       "        [255, 255, 255],\n",
       "        ...,\n",
       "        [255, 255, 255],\n",
       "        [255, 255, 255],\n",
       "        [255, 255, 255]]], dtype=uint8)"
      ]
     },
     "execution_count": 65,
     "metadata": {},
     "output_type": "execute_result"
    }
   ],
   "source": [
    "mask_img = np.array(Image.open(r'C:\\Users\\user\\Downloads\\hischoolfish.jpg'))\n",
    "\n",
    "mask_img"
   ]
  },
  {
   "cell_type": "code",
   "execution_count": 66,
   "metadata": {},
   "outputs": [],
   "source": [
    "wordcloud = WordCloud(font_path = r\"C:\\Windows\\Fonts\\batang.ttc\", \n",
    "                      width = 700, \n",
    "                      height = 700, \n",
    "                      background_color = 'white', \n",
    "                      colormap = 'spring',\n",
    "                      mask= mask_img , \n",
    "                      random_state = 1).generate_from_frequencies(count)"
   ]
  },
  {
   "cell_type": "code",
   "execution_count": 67,
   "metadata": {},
   "outputs": [
    {
     "data": {
      "text/plain": [
       "<function matplotlib.pyplot.show(close=None, block=None)>"
      ]
     },
     "execution_count": 67,
     "metadata": {},
     "output_type": "execute_result"
    },
    {
     "data": {
      "image/png": "[encoded data removed]",
      "text/plain": [
       "<Figure size 720x720 with 1 Axes>"
      ]
     },
     "metadata": {
      "needs_background": "light"
     },
     "output_type": "display_data"
    }
   ],
   "source": [
    "plt.figure(figsize=(10,10))\n",
    "plt.imshow(wordcloud)\n",
    "plt.axis(\"off\")\n",
    "plt.title(\"Word Frequency\", size = 13)\n",
    "plt.show"
   ]
  }
 ],
 "metadata": {
  "kernelspec": {
   "display_name": "Python 3.9.12 ('base')",
   "language": "python",
   "name": "python3"
  },
  "language_info": {
   "codemirror_mode": {
    "name": "ipython",
    "version": 3
   },
   "file_extension": ".py",
   "mimetype": "text/x-python",
   "name": "python",
   "nbconvert_exporter": "python",
   "pygments_lexer": "ipython3",
   "version": "3.9.12"
  },
  "orig_nbformat": 4,
  "vscode": {
   "interpreter": {
    "hash": "39a34cc34fa105d8ec3534aa54504572aead214367e412b05dc49f32cf35b4ec"
   }
  }
 },
 "nbformat": 4,
 "nbformat_minor": 2
}
