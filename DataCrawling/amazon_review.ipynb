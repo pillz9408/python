{
 "cells": [
  {
   "cell_type": "markdown",
   "metadata": {},
   "source": [
    "# Amazon 크롤러\n",
    " - 네이처리퍼블릭 알로에수딩젤 리뷰 10개 페이지 크롤링\n"
   ]
  },
  {
   "cell_type": "code",
   "execution_count": 298,
   "metadata": {},
   "outputs": [],
   "source": [
    "from selenium import webdriver\n",
    "from webdriver_manager.chrome import ChromeDriverManager\n",
    "import pandas as pd\n",
    "import time\n",
    "from tqdm.notebook import tqdm\n",
    "from selenium.webdriver.common.keys import Keys\n",
    "from selenium.webdriver.common.action_chains import ActionChains\n",
    "from bs4 import BeautifulSoup as bs\n",
    "import requests as req\n",
    "import numpy as np\n",
    "from PIL import Image\n",
    "from os import path\n",
    "import matplotlib.pyplot as plt\n",
    "import os\n",
    "import random\n",
    "from wordcloud import WordCloud, STOPWORDS\n",
    "from wordcloud import WordCloud\n"
   ]
  },
  {
   "cell_type": "code",
   "execution_count": 299,
   "metadata": {},
   "outputs": [],
   "source": [
    "driver = webdriver.Chrome(ChromeDriverManager().install())"
   ]
  },
  {
   "cell_type": "code",
   "execution_count": 300,
   "metadata": {},
   "outputs": [],
   "source": [
    "driver.get('https://www.amazon.com/Republic-Soothing-Moisture-Percent-Cosmetics/dp/B00DTFJA54/ref=sr_1_1_sspa?crid=2NU2I3BYB881M&keywords=nature+republic&qid=1663291278&sprefix=nature+republic%2Caps%2C254&sr=8-1-spons&psc=1&smid=A6EG8SMK49TTD&spLa=ZW5jcnlwdGVkUXVhbGlmaWVyPUFTSlZUODk0RVJRSEsmZW5jcnlwdGVkSWQ9QTA5MDk1MDAxVkVOT1JZQk9TN0YmZW5jcnlwdGVkQWRJZD1BMDYzMDU2OTJLUVZNNTZFN05WRFImd2lkZ2V0TmFtZT1zcF9hdGYmYWN0aW9uPWNsaWNrUmVkaXJlY3QmZG9Ob3RMb2dDbGljaz10cnVl')\n",
    "driver.maximize_window()\n",
    "time.sleep(2)"
   ]
  },
  {
   "cell_type": "code",
   "execution_count": 301,
   "metadata": {},
   "outputs": [],
   "source": [
    "actions = ActionChains(driver)\n",
    "all = driver.find_element_by_xpath('//*[@id=\"cr-pagination-footer-0\"]/a')\n",
    "actions.move_to_element(all)\n",
    "actions.click(all)\n",
    "actions.perform()\n",
    "time.sleep(2)"
   ]
  },
  {
   "cell_type": "code",
   "execution_count": 302,
   "metadata": {},
   "outputs": [],
   "source": [
    "actions = ActionChains(driver)\n",
    "list = driver.find_element_by_css_selector('#sort-order-dropdown')\n",
    "recent = driver.find_element_by_css_selector('#a-autoid-3-announce > span')\n",
    "actions.move_to_element(list)\n",
    "actions.click(list)\n",
    "time.sleep(2)\n",
    "actions.move_to_element(recent)\n",
    "time.sleep(2)\n",
    "actions.click(recent)\n",
    "actions.perform()\n",
    "time.sleep(1)"
   ]
  },
  {
   "cell_type": "code",
   "execution_count": 303,
   "metadata": {},
   "outputs": [],
   "source": [
    "star_list =[]\n",
    "rev_list = []\n",
    "\n",
    "n = 0\n",
    "while n <= 10:\n",
    "    n = n+1\n",
    "    next = driver.find_element_by_css_selector('li.a-last > a')\n",
    "    next.click()\n",
    "    time.sleep(3)\n",
    "    driver.refresh()\n",
    "    time.sleep(3)\n",
    "    \n",
    "    soup = bs(driver.page_source,'html.parser')\n",
    "    star = soup.select('div:nth-child(2) > a:nth-child(1) > i > span')\n",
    "    for i in star:\n",
    "        string = i.text\n",
    "        string = string.replace('out','')\n",
    "        string = string.replace('of','')\n",
    "        string = string.replace('5 stars','')\n",
    "        string = string.replace(' ', '')\n",
    "        star_list.append(string)\n",
    "    review = soup.select('div.a-row.a-spacing-small.review-data')\n",
    "    for i in review:\n",
    "        str = i.text\n",
    "        str = str.replace('\\n','')\n",
    "        rev_list.append(str)\n",
    "    \n",
    "    \n",
    "    "
   ]
  },
  {
   "cell_type": "code",
   "execution_count": 304,
   "metadata": {},
   "outputs": [
    {
     "name": "stdout",
     "output_type": "stream",
     "text": [
      "['5.0', '3.0', '3.0', '5.0', '3.0', '5.0', '5.0', '5.0', '1.0', '5.0', '3.0', '1.0', '5.0', '5.0', '5.0', '5.0', '5.0', '5.0', '5.0', '5.0', '3.0', '5.0', '1.0', '5.0', '5.0', '5.0', '5.0', '5.0', '1.0', '5.0', '5.0', '5.0', '5.0', '4.0', '5.0', '5.0', '5.0', '5.0', '5.0', '5.0', '5.0', '5.0', '5.0', '1.0', '1.0', '5.0', '5.0', '5.0', '5.0', '5.0', '5.0', '5.0', '5.0', '5.0', '5.0', '5.0', '5.0', '5.0', '5.0', '5.0', '5.0', '5.0', '5.0', '5.0', '5.0', '5.0', '5.0', '5.0', '5.0', '2.0', '5.0', '5.0', '5.0', '3.0', '5.0', '5.0', '5.0', '5.0', '1.0', '5.0', '5.0', '5.0', '2.0', '5.0', '5.0', '4.0', '5.0', '4.0', '5.0', '5.0', '5.0', '5.0', '5.0', '2.0', '2.0', '5.0', '5.0', '5.0', '5.0', '5.0', '5.0', '4.0', '4.0', '5.0', '5.0', '5.0', '5.0', '3.0', '5.0', '5.0']\n"
     ]
    }
   ],
   "source": [
    "print(star_list)"
   ]
  },
  {
   "cell_type": "code",
   "execution_count": 305,
   "metadata": {},
   "outputs": [
    {
     "name": "stdout",
     "output_type": "stream",
     "text": [
      "['Straight aloe, cool feeling after a hard day of being outside! Not the alcohol scent the others have.', 'It very light weighted, it alone isn’t enough to moisturize my face. May have to add serum and other products for it not to feel dry on my face after a few minutes. No strong scent, the scent goes away quickly too. I prefer to use this as a facial on the rest of my face while I’m doing a nose peel then afterwards either rinse it off or layer something more moisturizing on top.', 'I used this product with hopes to clear and smooth my skin. I woke up with itchy patches all over where I applied the product. Definitely had a bad reaction.', 'works fine for me', 'It should not include scent', 'Use this in the morning on top of my moisturizer and it is not sticky nor shiny. It hydrates my skin for the rest of the day. I also use before putting foundation on and it is awesome!', 'Simply aloe. No funky odor. I apply it to my face daily. I live in Colorado so the air is very dry. My skin was so dry and flakey. This definitely helps moisturize without clogging pores', 'works good for a small amount', 'Only received 1 not 3 as it should be', 'When it comes to moisturizing the skin on my face, very few items have worked for me, and almost everything clogs my pores and causes breakouts, no matter the brand or how clean the ingredients are. This aloe is one the few things that doesn’t cause those problems!It’s cooling, it’s lightweight, and it works great under makeup. Literally so affordable and will forever be a staple in my skincare routine.Can’t get enough of this stuff!!', 'I used one tub of this and I liked it but once I ran out, I decided to try a different brand and absolutely fell In love with it. This one is only 92% aloe Vera where the Aloderma brand is 96% and I noticed a tremendous difference. Yes, the Aloderma is slightly more $ than this one but it IS WORTH IT! This one made my face feel moisturized for a hot few minutes where the Aloderma brand feels like it moisturizes a lot better! Also, this one feels more watered down than the Aloderma brand. Like I said, it is ok, but the Aloderma brand is MUCH better!', \"Don't bother. Get yourself some pure 100% aloe. This stuff smells awful and is full of random crap.\", 'This is the real deal. Most aloe products don’t contain 100% aloe. I watched a video about this one and was impressed in the way it was harvested and packaged. It didn’t disappoint.', \"Ok, I have had red spots on my forearms for years.  Not sure whether it was eczema or posarius.  As I am not into chemicals I always research for natural products to handle any issues.  I started using Cortizone-10.  It helped some but the spots were still there, on my forearms.  Then I started using Cerave moisturizing cream.  It took awhile but the spots had reduced some but were still there.  I used this twice a day for several months.Another issue I had was easy bruising on my forearms and the back of my hands.  The slightest bump would give me a bruise.  When that happened I started using DerMend bruise formula.  It worked but it would take about a week, to get rid of the bruise.One day I was doing research on Amazon to see if there was anything else that was better for my issues.  I ran across Nature Republic Aloe Vera 92% Soothing Gel.  I read several of the reviews and decided I would give it a try.I started using the product on July 3rd.  Twice a day for two weeks.  In the morning when I first got up and at night before I went to bed.After the first week my spots started reducing and the redness was disappearing.  I was really surprised that it started happening so quickly.  It is so easy to apply and dries quickly. I dab one finger in the Gel and start to rub it on my arm with my hand.  A small amount goes a long way.  You don't need a lot.  After 3 weeks all the redness was gone and so were the spots.  I was amazed.  I now use it once a day, first thing in the morning, when I get up.  I also apply it to my face, like I said a little goes a long way.Something I was not expecting.  I'm 85 and as I said I bruise very easily on my forearms.  Slightest brush on a arm and I had a bruise.  No more, I have not had a bruise since I started using this product.  I was not expecting that at all.  I got out of my truck this morning and I banged my left forearm pretty hard on the door jam.  I thought ok, that is going to bruise.  Now we'll see.  Two hours later and nothing.  In the past it would appear in minutes after the contact.My wife is totally amazed at how young my skin is looking.  She just ordered some for herself.This is the first time I have used Aloe Vera and I am totally convinced that I will continue using this product for the rest of my life.For your info nobody has paid me for this review.  I typically don't write that many reviews but I had to do this one.  This product is amazing.\", 'Pure aloe Vera at a great price, nice packaging. Soothes and hydrates', 'This is absolutely one of the best moisturizers for oily skin. It’s very light weight and you don’t need much to put on. I use it in the morning and at night. My face feel very smooth and less oily. A dermatologist recommended it.', 'I like the scent not too strong. Natural scent.', 'My skin is sensitive so if I ever have red patches from washing my face too much I always use this and it makes it completely better. And I use it every time I have a sun burn and my skin feels great. Will def purchase again👍', 'You can apply it for any part of you body )) it feels moisture and smooth. For men and women.', 'Perfect for my skin', 'the price is good', 'Lasts a long time. Smells great.', \"Very disappointed in this product it contains alcohol (it's the second ingredient) which is extremely drying and I could feel the irritation on my cheeks. I will not be using this on my face.\", 'I order this Aloe Vera gel A WHOLE ton. It is very soothing and makes my face glow. I have seen a HUGE change in my face ever since I used it.', 'These are so good that I have recommended this to other family members and I just bought my second jar.', 'Like it', 'I shave my face and eyebrows with it it’s very good and doesn’t mess up my sensitive skin or make me break out', 'This is a high quality product and I highly recommend it. My last jar lasted awhile but I was happy to buy more! This does not have any crappy chemicals in it and feels amazing on your skin!', 'I have received a damaged product and the envelope was full of the gel... I found the product in a very bad condition... There is nothing left to use.', 'Even though I don’t really prefer the packing because it’s a little inconvenient to use! I still find this to be the best brand for their quality! So it’s like my 4th time buying this amazing product! Does wonders', 'I mix it with organic coconut oil ( 1 to 1 ratio ) for a fantastic moisturizer for skin.', 'Video Player is loading.Play VideoPlayMuteCurrent Time\\xa00:00/Duration\\xa00:08Loaded: 75.08%Stream Type\\xa0LIVESeek to live, currently behind liveLIVERemaining Time\\xa0-0:08\\xa01xPlayback RateChaptersChaptersDescriptionsdescriptions off, selectedCaptionsCaptions off, selectedAudio Trackdefault, selectedFullscreenThis is a modal window.\\xa0So refreshing when i use it out of the fridge, moisturizing isn’t even the word !!!! Absolutely amazing for all over the body for soft refreshing and glowing skin 😍😍', 'This product is fantastic for dealing with burns.  Last week I had hot grease spill on my hand (approximately 1 inch by 1.5 inch area on my hand).  I used this product immediately after the burn.  The gel helped to cool the area and the next day, the area was pain free.', 'been using HA for at least two years. never saw “proof” of its pluming capabilities. was looking for a light summertime moisturizer & stumbled upon this.i use this exclusively in the AM before sunscreen. i honestly believe that within the three weeks i’ve been using this aloe product, my old lady wrinkles are less deep & are softened around the edges.it feels so nice in my skin, too. i’m sold.', '', 'I was always looking for a product to get rid of my little bumps on my shoulder and back.  This did the job in 2 days.  Once I used the Aloe Vera morning and night my skin was very smooth to the touch and had a nice glow.  Definitely will use this product again in the future.', 'After a day in the sun, got all the moisture back to my skinSuper cooling feeling', 'I used this all over. It feels good. . The tub is now emty . I would maybe buy again. I would go to a drug store if i did and buy for the £5 00 i have seen it sold for', 'I use this in my hair and I love it.  Its also cooling on the skin.  The scent is a lovely fresh fragrance.', 'Very satisfied, skin helpful', \"Got this for scalp (fine hair) but use it more on my face and sunburn areas. I'm ultra sensitive and allergic so hard to find something that doesn't irritate. Love this!\", 'At first, I wanted to return it because it kinda smells like it has alcohol in it. Alcohol shouldn’t be anywhere near sensitive skin. I was initially going to use it in my face but I definitely DO NOT RECOMMEND THAT. I didn’t have any serious reaction but I wouldn’t recommend putting this on your face. I have sensitive skin and my skin felt slightly irritated after putting it on.However, I put it on my legs after shaving and it felt so nice and dewy! My legs felt moisturized for a long time even after walking in the Vegas sun all day.Overall, a good product!', 'Es un producto que lo seguiré comprando.. me fascino!!', 'Couldn’t see the ingredient list on Amazon, but this product does contain alcohol and invalidates it’s use for my purpose.', \"It's very watery just like a hand sanitizer. Contains alcohol and little aloe Vera. I've tested other aloe Vera based Moisturizer and are nothing like this one.\", 'TODO MUY BUENO', 'My friend bought this for me a few months ago, and I used it on both my skin and hair (as a mask). It is a nice consistency for rubbing on my skin. It smells very nice and it works great on my very sensitive facial skin (sensitive to the point it will turn red with any kind of touch, much less washing). In fact, it helps calm down the inflammation a bit.', 'Love this product. I use it after washing my face. I leave my face humid and and this product and leaves my face soft. The scent is too strong,  but it smell good. The smell goes when the product dried.', \"When I get my brows waxed, the beauticians usually have baby oil or vaseline or neosporin, all of which have irritated my skin. I now carry this with me when I get waxed to avoid the irritation. I think one container will last me awhile, but once I run out, I'll be buying again. Thank you!\", 'The product works as promised....I will highly recommend', 'Gel texture, very soothing and cools burned skin. I put it in the fridge to make it even cooler. Like the smell a lot, refreshing.', 'Video Player is loading.Play VideoPlayMuteCurrent Time\\xa00:00/Duration\\xa00:04Loaded: 100.00%0:00Stream Type\\xa0LIVESeek to live, currently behind liveLIVERemaining Time\\xa0-0:04\\xa01xPlayback RateChaptersChaptersDescriptionsdescriptions off, selectedCaptionsCaptions off, selectedAudio Trackdefault, selectedFullscreenThis is a modal window.\\xa0I absolutely love this and so glad I purchased it! I mix this up with another product after I’ve finished the rest of my skin care and I use it as my night mask. It has done wonders to my face. I recently went through my first and worst allergic reaction on my face due to a cream I had bought and it had completely burned the lower half of my face which caused itchiness, inflammation, horrible redness, ofc burning sensation 24/7, little bumps on the affected area and this helped me so, so much. It helped make the healing process quicker and also helped so the itchiness and burning I was feeling. Granted I used this with another the other product I use to mix it with and it did wonders. My face was back to normal/ better in a 1-2 weeks! Helped prevent scaring and got rid of all the bumps!! This product and maybe with the others I’ve been using have shrunk my pores and cleared up my (what was horrible) uneven skin tone and the redness I would get.', 'It leaves the skin super soft and smells very good. I liked it', 'I originally bought this for my young child who suffers from eczema and has bad flare ups during the summer. WELL fast forward to my getting sunburn on my face and now BOTH mother and daughter are enjoying the benefits of this awesome product!! My new fave skin product for real!!', \"After reading the reviews, I bought this for a family trip to Hawaii. Everyone loved it - even my husband (and he hates using anything). It’s lightweight, yet moisturizing. It doesn't leave your skin feeling sticky and has the lightest scent of cucumbers.The container is a good size - my family of four applied it everyday for 12 days, and it nearly lasted our entire trip. (My MIL, SIL, and two nephews used it for a few days as well.)Our vacation is over, But I will definitely be buying more of this aloe to use as my moisturizer.\", 'I use the product to make a hair mask (I use the product and add Jamaican black castor oil) it leaves my hair feeling so soft and manageable and I use the hair mask as a detangler and it literally cuts my detangling time by half. Also even after you was the mask out you hair will stay soft and super manageable. Would highly recommend for hair.', \"I like the fact that you can apply this anywhere on your body even your hair! Your skin absorbs it quickly. Apply it under your eyes in the morning or evening to refresh and avoid bags from forming. After the shower apply it all over and even after shaving. It's truly a miracle🙂\", 'this aloe vera gel has worked wonders when itcomes to razor bumps or stretch marks. Put this on everytime you get out the shower and in the mean time this aleo vera should help heal any redness !', 'Quality product and good excellent service', 'Pleasantly pleased with this product. Decided to try aloe on my face after seeing various Tik toks about how good it is. This is authentic. Quality. Feels great and is also super soothing. The slight fragrance is also pleasant but not at all irritating. Have used it for only a few days since receiving but already feel softer skin and less breakouts!! Would definitely purchase again.. but that may be a while as I have a feeling this jar will last me quite a bit of time. You only need a little bit to feel super dewy and hydrated. 👍🏼My only question is... where is the expiration date? Does anyone know? 🤔', 'instant relief and very cooling', '👍', 'Very smooth and feels good on skin', 'This is more pure than most aloe vera gels I have tried. No scent. Great after sun burns.  Highly recommend', 'I like it', 'Only used a few days and I like it so far', \"My dad uses this after years of working in the hot sun and having cancer spots on his face.  He says it works better than any thing he's tried.\", 'Very good!', '                    The media could not be loaded.                ', \"I thought that this was a natural mostly aloe product but the ingredients list is long and full of stuff I can't pronounce. So It being 92% aloe is hard to believe.\", 'Good gel cream !It’s smell good !It worth the money!', 'I rarely write reviews, but I wanted to because I love this stuff!  It makes my face feel so clean and baby soft. I actually look forward to washing my face so I can put more on. I absolutely love the scent!  Highly recommend!', \"This product is great for my skin, especially as a moisture. It has helped me maintain clearer skin. I apply this everyday and night. It's rejuvenating. This is also great for my hair, especially because it's so dry. I recommend trying this product out for yourself!\", \"no stickiness at all  However, it disappears after 1 minute after application.  It just seems to dry after applying water.  You shouldn't want functionality with this product.  I will give it to my 13-year-old son who has acne.. Maybe something like water that doesn't feel anything like this is suitable for this age?\", 'Te deja la piel bien suave', 'This products it’s so underrated it helps me stay moist and helps a lot with pimples I also like to do facial massages whike having it on recommend for people with acne', 'I have sensitive skin and love using this coupled with my moisturizer.', 'Skin Type: combination (slight case of pcos bumps)Ive been using this product for a few days now and WOW my skin has improved. Above my eyes, there was a dry and slightly sore patch. After using this product its cleared up along with giving my skin a glow. It pairs well with other products to help clear my hyperpigmentation, greatly reduce the size of my pimples, and moisturizes. Considering this is aloe gel, itll great to cool down my face after a waxing session.As for the size, its quiet large and at a very affordable price in comparison to most serums. Honestly, I wish I found out that my skin loves aloe vera sooner. Ive spent too much money on serums that has charged way too much for one little bottle. Also doesnt work as good in comparison to aloe gel.  This product has definetly reduced the cost of my skincare stash, and replaced two products which was previously my previous serum and my post waxing calming cream.The only problem I have with this product is the ingredient \"parfum\". As soon as you open it right off the bat I smelled the strong fragrance emitting from this product. I personally, am not a fan of parfum added in my skincare products. Other than that I have no problems.', 'I think ur item sent to me is fake because when I used it my skin turn red and itchy also bump the ance. I can believe your item is so bad', 'Well worth the cost.', 'I’ve been using this product for many years and it always leaves my skin so soft and amazing', 'I purchased this to use in making my homemade face cream.  It works well with sensitive skin (which I have) and it does not have an offensive smell.  It is also good for burns to the skin.', 'Only one pc was sent. Had to return. Waste time.', 'Liked everything about the product. Exactly as advertised.', 'Al usarla la textura es perfecta, es muy hidratante y también calmante.. se absorbe de inmediato y no deja una sensación grasosa. El aroma es espectacular aunque no dura por mucho tiempo, lo cual no es un inconveniente. Sin duda la volveré a comprar.', 'Seem effective to skin (including facial skin and foot skin)', 'Got the product in perfect condition. I use it in the mornings since I have oily skin, my skin feels fresh and hydrated after applying it. It doesn’t have a strong scent, and it doesn’t irritate my skin. The product is bigger than I expected which is a good thing. Over all a 12/10.', 'Good moisturizer for dry skin', \"I wish it was in a dispenser bottle, but not really right for this since its 100% Aloe.  I open it and barely touch the top of the product and it's more than enough for my face.  This is going to last forever.  Buying another for our boat.  If you searched for this, then this is exactly what you wanted - I know nobody there and get nothing for this. FYI\", \"This aloe  vera is very soothing  to the skin. I have very sensitive skin and it didn't  make me break out , or rash or anything. For those who don't  like any  type of smell and are looking  for a neutral scent this is not for you.  It smells delicious in my opinion,  but it's  definitely scented,  not neutral. As far as helping  for acne not sure about  that. I have hormonal acne when my menstrual cycle is about to start and have applied the aloe, but haven't  noticed any change in that part. It does keep your skin looking  healthy and fresh.\", 'Bom', 'Had an allergic reaction to some gel polish and this goo has been very soothing, more so than the over-priced cream I bought. Keep in mind it dries sticky, but so does real aloe vera. Plus it smells AMAZING, it smells like what I wish everything that claimed to smell “fresh” and “clean” smelled like.', 'Have been using this for a strong Skin Rash. Didn’t want to use Chemical based products. Started using this Aloe Vera Gel about 4 months back. I can now confidently say that the rash has almost disappeared. For better results apply before going to Bed. I realized this trick very late.', 'I dislike it. Never suggested to buy.', 'Not a fan, broke me out badly', 'I use it to my face.', 'I love this aloe so much it’s amazing, I love the amazing smell as well. I have dry skin, it makes my skin feel so soft .', 'I like the amount that they give. Smells nice. Very nice for my skin. I would definitely recommend this.', 'I use this aloe as a base for my own hand sanitizer recipe. Works great.', 'My wife loves this product.', \"I absolutely love Nature Republic's Aloe Vera - Soothing Gel.My skin is very smooth and keeps areas applied - cool.Must get - daily use...\", 'idk how real this is tbh; my product sticker label was literally crossed out with sharpie & another label stuck on. it was a nice & soothing gel-like moisturizer, but NOT for the face (it kinda advertised for body & face). it dries out rly quick, so you’d need another layer of another moisturizer if you use it. my oily combo skin didn’t rly like it, so it may be less suitable for dry skin.', 'I like to keep this on hand as it is a great alternative to buying an aloe vera plant and squeezing the gel out every time.', 'My holy grail! It is good for sensitive skin. It leaves my skin moisturize all day! I always put mine in the fridge for cool effects when I put it on my face. I usually mix it with my bb cream! I will definitely recommend this!', 'Great!', 'NICE PRODUCT', 'Quality Was really very great and effective', \"Cooling gel, the scent i believe is too strong.  You get a great amount.  I have super dry skin so mu face wasn't moisturized enough from it and my skin broke out everytime I used it. My 11 year old daughter loves it and it works fine for her. She gets acne but her skin doesn't break out from it.\", 'Use it as facial mask with V-E and cream together. It’s thick and No odd smell. Good to have it!', \"I always have to have this on hand. I've been using it for the past year and my skin is significantly healthier, prettier, softer, and has a glow. It moisturizes without making your face oily, doesn't break you out, and I swear since using this and drinking more water, I get compliments on my skin constantly. I was mistaken for a teenager when I went to open a bank account and I'm pushing 30 so that was quite the compliment. I know it was because of my skin.\"]\n"
     ]
    }
   ],
   "source": [
    "print(rev_list)"
   ]
  },
  {
   "cell_type": "code",
   "execution_count": 306,
   "metadata": {},
   "outputs": [
    {
     "data": {
      "text/plain": [
       "(110, 110)"
      ]
     },
     "execution_count": 306,
     "metadata": {},
     "output_type": "execute_result"
    }
   ],
   "source": [
    "len(star_list),len(rev_list)"
   ]
  },
  {
   "cell_type": "code",
   "execution_count": 307,
   "metadata": {},
   "outputs": [],
   "source": [
    "data = {'평점': star_list, '리뷰' : rev_list}"
   ]
  },
  {
   "cell_type": "code",
   "execution_count": 308,
   "metadata": {},
   "outputs": [
    {
     "data": {
      "text/html": [
       "<div>\n",
       "<style scoped>\n",
       "    .dataframe tbody tr th:only-of-type {\n",
       "        vertical-align: middle;\n",
       "    }\n",
       "\n",
       "    .dataframe tbody tr th {\n",
       "        vertical-align: top;\n",
       "    }\n",
       "\n",
       "    .dataframe thead th {\n",
       "        text-align: right;\n",
       "    }\n",
       "</style>\n",
       "<table border=\"1\" class=\"dataframe\">\n",
       "  <thead>\n",
       "    <tr style=\"text-align: right;\">\n",
       "      <th></th>\n",
       "      <th>평점</th>\n",
       "      <th>리뷰</th>\n",
       "    </tr>\n",
       "  </thead>\n",
       "  <tbody>\n",
       "    <tr>\n",
       "      <th>0</th>\n",
       "      <td>5.0</td>\n",
       "      <td>Straight aloe, cool feeling after a hard day o...</td>\n",
       "    </tr>\n",
       "    <tr>\n",
       "      <th>1</th>\n",
       "      <td>3.0</td>\n",
       "      <td>It very light weighted, it alone isn’t enough ...</td>\n",
       "    </tr>\n",
       "    <tr>\n",
       "      <th>2</th>\n",
       "      <td>3.0</td>\n",
       "      <td>I used this product with hopes to clear and sm...</td>\n",
       "    </tr>\n",
       "    <tr>\n",
       "      <th>3</th>\n",
       "      <td>5.0</td>\n",
       "      <td>works fine for me</td>\n",
       "    </tr>\n",
       "    <tr>\n",
       "      <th>4</th>\n",
       "      <td>3.0</td>\n",
       "      <td>It should not include scent</td>\n",
       "    </tr>\n",
       "    <tr>\n",
       "      <th>...</th>\n",
       "      <td>...</td>\n",
       "      <td>...</td>\n",
       "    </tr>\n",
       "    <tr>\n",
       "      <th>105</th>\n",
       "      <td>5.0</td>\n",
       "      <td>NICE PRODUCT</td>\n",
       "    </tr>\n",
       "    <tr>\n",
       "      <th>106</th>\n",
       "      <td>5.0</td>\n",
       "      <td>Quality Was really very great and effective</td>\n",
       "    </tr>\n",
       "    <tr>\n",
       "      <th>107</th>\n",
       "      <td>3.0</td>\n",
       "      <td>Cooling gel, the scent i believe is too strong...</td>\n",
       "    </tr>\n",
       "    <tr>\n",
       "      <th>108</th>\n",
       "      <td>5.0</td>\n",
       "      <td>Use it as facial mask with V-E and cream toget...</td>\n",
       "    </tr>\n",
       "    <tr>\n",
       "      <th>109</th>\n",
       "      <td>5.0</td>\n",
       "      <td>I always have to have this on hand. I've been ...</td>\n",
       "    </tr>\n",
       "  </tbody>\n",
       "</table>\n",
       "<p>110 rows × 2 columns</p>\n",
       "</div>"
      ],
      "text/plain": [
       "      평점                                                 리뷰\n",
       "0    5.0  Straight aloe, cool feeling after a hard day o...\n",
       "1    3.0  It very light weighted, it alone isn’t enough ...\n",
       "2    3.0  I used this product with hopes to clear and sm...\n",
       "3    5.0                                  works fine for me\n",
       "4    3.0                        It should not include scent\n",
       "..   ...                                                ...\n",
       "105  5.0                                       NICE PRODUCT\n",
       "106  5.0        Quality Was really very great and effective\n",
       "107  3.0  Cooling gel, the scent i believe is too strong...\n",
       "108  5.0  Use it as facial mask with V-E and cream toget...\n",
       "109  5.0  I always have to have this on hand. I've been ...\n",
       "\n",
       "[110 rows x 2 columns]"
      ]
     },
     "execution_count": 308,
     "metadata": {},
     "output_type": "execute_result"
    }
   ],
   "source": [
    "adt = pd.DataFrame(data)\n",
    "adt"
   ]
  },
  {
   "cell_type": "code",
   "execution_count": 310,
   "metadata": {},
   "outputs": [],
   "source": [
    "import pickle"
   ]
  },
  {
   "cell_type": "code",
   "execution_count": 312,
   "metadata": {},
   "outputs": [],
   "source": [
    "with open(\"amazon_review_data.pkl\",\"wb\") as f:pickle.dump(data, f)"
   ]
  }
 ],
 "metadata": {
  "kernelspec": {
   "display_name": "Python 3.9.12 ('base')",
   "language": "python",
   "name": "python3"
  },
  "language_info": {
   "codemirror_mode": {
    "name": "ipython",
    "version": 3
   },
   "file_extension": ".py",
   "mimetype": "text/x-python",
   "name": "python",
   "nbconvert_exporter": "python",
   "pygments_lexer": "ipython3",
   "version": "3.9.12"
  },
  "orig_nbformat": 4,
  "vscode": {
   "interpreter": {
    "hash": "39a34cc34fa105d8ec3534aa54504572aead214367e412b05dc49f32cf35b4ec"
   }
  }
 },
 "nbformat": 4,
 "nbformat_minor": 2
}
