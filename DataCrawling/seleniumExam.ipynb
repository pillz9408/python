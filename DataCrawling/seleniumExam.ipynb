{
 "cells": [
  {
   "cell_type": "code",
   "execution_count": 2,
   "metadata": {},
   "outputs": [],
   "source": [
    "from selenium import webdriver\n",
    "from webdriver_manager.chrome import ChromeDriverManager"
   ]
  },
  {
   "cell_type": "code",
   "execution_count": 3,
   "metadata": {},
   "outputs": [],
   "source": [
    "driver = webdriver.Chrome(ChromeDriverManager().install())"
   ]
  },
  {
   "cell_type": "code",
   "execution_count": 4,
   "metadata": {},
   "outputs": [],
   "source": [
    "import pandas as pd"
   ]
  },
  {
   "cell_type": "markdown",
   "metadata": {},
   "source": [
    "## 한솥도시락 메뉴, 가격 확인하기"
   ]
  },
  {
   "cell_type": "code",
   "execution_count": 5,
   "metadata": {},
   "outputs": [],
   "source": [
    "driver.get('https://www.hsd.co.kr/')"
   ]
  },
  {
   "cell_type": "code",
   "execution_count": 6,
   "metadata": {},
   "outputs": [],
   "source": [
    "driver.maximize_window()"
   ]
  },
  {
   "cell_type": "code",
   "execution_count": 7,
   "metadata": {},
   "outputs": [],
   "source": [
    "from selenium.webdriver.common.action_chains import ActionChains\n",
    "actions = ActionChains(driver)"
   ]
  },
  {
   "cell_type": "code",
   "execution_count": 8,
   "metadata": {},
   "outputs": [
    {
     "data": {
      "text/plain": [
       "<selenium.webdriver.common.action_chains.ActionChains at 0x1e664759370>"
      ]
     },
     "execution_count": 8,
     "metadata": {},
     "output_type": "execute_result"
    }
   ],
   "source": [
    "menu = driver.find_element_by_xpath('//*[@id=\"gnb\"]/div[2]/ul/li[3]/p/a')\n",
    "actions.move_to_element(menu)\n"
   ]
  },
  {
   "cell_type": "code",
   "execution_count": 9,
   "metadata": {},
   "outputs": [],
   "source": [
    "allmenu = driver.find_element_by_xpath('//*[@id=\"gnb\"]/div[2]/ul/li[3]/div/ul/li[1]/a')\n",
    "actions.move_to_element(allmenu)\n",
    "actions.click(allmenu)\n",
    "actions.perform()"
   ]
  },
  {
   "cell_type": "markdown",
   "metadata": {},
   "source": [
    "### 메뉴이름/가격 수집 + 더보기 버튼 (while문 사용)"
   ]
  },
  {
   "cell_type": "markdown",
   "metadata": {},
   "source": [
    "### 시간 제어 : time\n",
    "\n",
    "    - 실행코드 import time\n",
    "    - 샐행코드 time.sleep(원하는 초)\n"
   ]
  },
  {
   "cell_type": "code",
   "execution_count": 10,
   "metadata": {},
   "outputs": [],
   "source": [
    "import time"
   ]
  },
  {
   "cell_type": "code",
   "execution_count": 11,
   "metadata": {},
   "outputs": [],
   "source": [
    "while True:   ### 더보기 while 문\n",
    "    try:\n",
    "        btn = driver.find_element_by_css_selector('#btn_more > span > a')\n",
    "        btn.click() \n",
    "        time.sleep(1)  \n",
    "    except:\n",
    "        break\n",
    "    \n",
    "title = driver.find_elements_by_css_selector('h4.h.fz_03')\n",
    "price = driver.find_elements_by_css_selector('div.item-price>strong')"
   ]
  },
  {
   "cell_type": "code",
   "execution_count": 12,
   "metadata": {},
   "outputs": [],
   "source": [
    "title_list = []\n",
    "for i in title:\n",
    "    title_list.append(i.text)\n",
    "\n",
    "price_list = []\n",
    "for i in price:\n",
    "    price_list.append(i.text)"
   ]
  },
  {
   "cell_type": "code",
   "execution_count": 13,
   "metadata": {},
   "outputs": [],
   "source": [
    "data = {'메뉴명' : title_list, '가격': price_list}"
   ]
  },
  {
   "cell_type": "code",
   "execution_count": 18,
   "metadata": {},
   "outputs": [
    {
     "data": {
      "text/html": [
       "<div>\n",
       "<style scoped>\n",
       "    .dataframe tbody tr th:only-of-type {\n",
       "        vertical-align: middle;\n",
       "    }\n",
       "\n",
       "    .dataframe tbody tr th {\n",
       "        vertical-align: top;\n",
       "    }\n",
       "\n",
       "    .dataframe thead th {\n",
       "        text-align: right;\n",
       "    }\n",
       "</style>\n",
       "<table border=\"1\" class=\"dataframe\">\n",
       "  <thead>\n",
       "    <tr style=\"text-align: right;\">\n",
       "      <th></th>\n",
       "      <th>메뉴명</th>\n",
       "      <th>가격</th>\n",
       "    </tr>\n",
       "  </thead>\n",
       "  <tbody>\n",
       "    <tr>\n",
       "      <th>0</th>\n",
       "      <td>데미햄버그 불고기 파스타</td>\n",
       "      <td>5,200</td>\n",
       "    </tr>\n",
       "    <tr>\n",
       "      <th>1</th>\n",
       "      <td>데미햄버그 불고기 덮밥</td>\n",
       "      <td>4,800</td>\n",
       "    </tr>\n",
       "    <tr>\n",
       "      <th>2</th>\n",
       "      <td>아보카도 게맛살 명란비빔밥</td>\n",
       "      <td>6,500</td>\n",
       "    </tr>\n",
       "    <tr>\n",
       "      <th>3</th>\n",
       "      <td>아보카도 소고기 명란비빔밥</td>\n",
       "      <td>6,500</td>\n",
       "    </tr>\n",
       "    <tr>\n",
       "      <th>4</th>\n",
       "      <td>핫 치즈 닭갈비덮밥</td>\n",
       "      <td>5,900</td>\n",
       "    </tr>\n",
       "    <tr>\n",
       "      <th>...</th>\n",
       "      <td>...</td>\n",
       "      <td>...</td>\n",
       "    </tr>\n",
       "    <tr>\n",
       "      <th>89</th>\n",
       "      <td>무말랭이 무침</td>\n",
       "      <td>400</td>\n",
       "    </tr>\n",
       "    <tr>\n",
       "      <th>90</th>\n",
       "      <td>한솥밥</td>\n",
       "      <td>1,000</td>\n",
       "    </tr>\n",
       "    <tr>\n",
       "      <th>91</th>\n",
       "      <td>현미밥</td>\n",
       "      <td>1,700</td>\n",
       "    </tr>\n",
       "    <tr>\n",
       "      <th>92</th>\n",
       "      <td>리얼 티라미수 찰떡</td>\n",
       "      <td>1,500</td>\n",
       "    </tr>\n",
       "    <tr>\n",
       "      <th>93</th>\n",
       "      <td>리얼꿀 미니호떡</td>\n",
       "      <td>2,200</td>\n",
       "    </tr>\n",
       "  </tbody>\n",
       "</table>\n",
       "<p>94 rows × 2 columns</p>\n",
       "</div>"
      ],
      "text/plain": [
       "               메뉴명     가격\n",
       "0    데미햄버그 불고기 파스타  5,200\n",
       "1     데미햄버그 불고기 덮밥  4,800\n",
       "2   아보카도 게맛살 명란비빔밥  6,500\n",
       "3   아보카도 소고기 명란비빔밥  6,500\n",
       "4       핫 치즈 닭갈비덮밥  5,900\n",
       "..             ...    ...\n",
       "89         무말랭이 무침    400\n",
       "90             한솥밥  1,000\n",
       "91             현미밥  1,700\n",
       "92      리얼 티라미수 찰떡  1,500\n",
       "93        리얼꿀 미니호떡  2,200\n",
       "\n",
       "[94 rows x 2 columns]"
      ]
     },
     "execution_count": 18,
     "metadata": {},
     "output_type": "execute_result"
    }
   ],
   "source": [
    "hansot = pd.DataFrame(data)\n",
    "hansot"
   ]
  },
  {
   "cell_type": "code",
   "execution_count": 15,
   "metadata": {},
   "outputs": [],
   "source": [
    "hansot.to_excel('한솥가격.xlsx', encoding = 'utf-8-sig')"
   ]
  },
  {
   "cell_type": "markdown",
   "metadata": {},
   "source": [
    "### BeauutifulSoup 와 selenium 연동"
   ]
  },
  {
   "cell_type": "code",
   "execution_count": 19,
   "metadata": {},
   "outputs": [],
   "source": [
    "from bs4 import BeautifulSoup as bs\n",
    "import requests as req"
   ]
  },
  {
   "cell_type": "code",
   "execution_count": 20,
   "metadata": {},
   "outputs": [],
   "source": [
    "driver = webdriver.Chrome(ChromeDriverManager().install())\n",
    "driver.get('https://www.hsd.co.kr/')\n",
    "driver.maximize_window()"
   ]
  },
  {
   "cell_type": "code",
   "execution_count": 21,
   "metadata": {},
   "outputs": [],
   "source": [
    "from selenium.webdriver.common.action_chains import ActionChains\n",
    "actions = ActionChains(driver)"
   ]
  },
  {
   "cell_type": "code",
   "execution_count": 22,
   "metadata": {},
   "outputs": [],
   "source": [
    "menu = driver.find_element_by_xpath('//*[@id=\"gnb\"]/div[2]/ul/li[3]/p/a')\n",
    "allmenu = driver.find_element_by_xpath('//*[@id=\"gnb\"]/div[2]/ul/li[3]/div/ul/li[1]/a')\n",
    "actions.move_to_element(menu)\n",
    "actions.move_to_element(allmenu)\n",
    "actions.click(allmenu)\n",
    "actions.perform()\n"
   ]
  },
  {
   "cell_type": "code",
   "execution_count": 23,
   "metadata": {},
   "outputs": [],
   "source": [
    "import time"
   ]
  },
  {
   "cell_type": "code",
   "execution_count": 24,
   "metadata": {},
   "outputs": [],
   "source": [
    "while True:   ### 더보기 while 문\n",
    "    try:\n",
    "        btn = driver.find_element_by_css_selector('#btn_more > span > a')\n",
    "        btn.click() \n",
    "        time.sleep(1)  \n",
    "    except:\n",
    "        break\n",
    "    \n",
    "title = driver.find_elements_by_css_selector('h4.h.fz_03')\n",
    "price = driver.find_elements_by_css_selector('div.item-price>strong')"
   ]
  },
  {
   "cell_type": "code",
   "execution_count": 25,
   "metadata": {},
   "outputs": [],
   "source": [
    "soup = bs(driver.page_source,'html.parser')"
   ]
  },
  {
   "cell_type": "code",
   "execution_count": 27,
   "metadata": {},
   "outputs": [],
   "source": [
    "title_bs = soup.select('h4.h.fz_03')"
   ]
  },
  {
   "cell_type": "code",
   "execution_count": 29,
   "metadata": {},
   "outputs": [],
   "source": [
    "price_bs = soup.select('div.item-price>strong')"
   ]
  },
  {
   "cell_type": "code",
   "execution_count": 30,
   "metadata": {},
   "outputs": [
    {
     "data": {
      "text/plain": [
       "94"
      ]
     },
     "execution_count": 30,
     "metadata": {},
     "output_type": "execute_result"
    }
   ],
   "source": [
    "len(title_bs)"
   ]
  },
  {
   "cell_type": "code",
   "execution_count": 31,
   "metadata": {},
   "outputs": [
    {
     "data": {
      "text/plain": [
       "94"
      ]
     },
     "execution_count": 31,
     "metadata": {},
     "output_type": "execute_result"
    }
   ],
   "source": [
    "len(price_bs)"
   ]
  },
  {
   "cell_type": "code",
   "execution_count": 32,
   "metadata": {},
   "outputs": [],
   "source": [
    "title_bs_list = []\n",
    "for i in title_bs:\n",
    "    title_bs_list.append(i.text)\n",
    "\n",
    "price_bs_list = []\n",
    "\n",
    "for i in price_bs:\n",
    "    price_bs_list.append(i.text)"
   ]
  },
  {
   "cell_type": "code",
   "execution_count": 33,
   "metadata": {},
   "outputs": [
    {
     "data": {
      "text/plain": [
       "{'메뉴명': ['데미햄버그 불고기 파스타',\n",
       "  '데미햄버그 불고기 덮밥',\n",
       "  '아보카도 게맛살 명란비빔밥',\n",
       "  '아보카도 소고기 명란비빔밥',\n",
       "  '핫 치즈 닭갈비덮밥',\n",
       "  '오리지널 치즈 닭갈비덮밥',\n",
       "  '매화(순살 고등어 간장구이)',\n",
       "  '진달래',\n",
       "  '개나리(순살 고등어 간장구이)',\n",
       "  '돈까스도련님고기고기',\n",
       "  '탕수육도련님고기고기',\n",
       "  '새치 고기고기',\n",
       "  '돈치 고기고기',\n",
       "  '오븐구이 오리도시락',\n",
       "  '숯불직화구이',\n",
       "  '소불고기',\n",
       "  '메가치킨제육',\n",
       "  '칠리 찹쌀탕수육도련님',\n",
       "  '동백',\n",
       "  '치킨제육',\n",
       "  '돈까스도련님',\n",
       "  '제육볶음',\n",
       "  '돈치스팸 도시락',\n",
       "  '제육 김치찌개 정식',\n",
       "  '제육 김치 부대찌개 정식',\n",
       "  '돈치스팸 김치 부대찌개 정식',\n",
       "  '빅치킨마요 김치 부대찌개 정식',\n",
       "  '치킨마요 김치 부대찌개 정식',\n",
       "  '빅치킨마요 김치찌개 정식',\n",
       "  '치킨마요 김치찌개 정식',\n",
       "  '메가스팸마요',\n",
       "  '스팸마요',\n",
       "  '메가치킨마요',\n",
       "  '왕치킨마요',\n",
       "  '빅치킨마요',\n",
       "  '치킨마요',\n",
       "  '참치마요',\n",
       "  '돈치마요',\n",
       "  '돈까스 카레',\n",
       "  '스팸 김치볶음밥',\n",
       "  '김치볶음밥',\n",
       "  '스팸철판볶음밥',\n",
       "  '소불고기 철판볶음밥',\n",
       "  '나시고랭',\n",
       "  '묵은지 김치찌개',\n",
       "  '김치 부대찌개',\n",
       "  '숯불직화구이 덮밥',\n",
       "  '마파두부 덮밥',\n",
       "  '왕카레돈까스덮밥',\n",
       "  '새우돈까스 덮밥',\n",
       "  '돈까스 덮밥',\n",
       "  '열무 감초고추장 비빔밥',\n",
       "  '열무 두부강된장 비빔밥',\n",
       "  '소불고기 감초고추장 비빔밥',\n",
       "  '시골제육 두부강된장 비빔밥',\n",
       "  '참치야채 감초고추장',\n",
       "  '튼튼도시락',\n",
       "  '토네이도 소세지 파스타',\n",
       "  '트리플 치즈 파스타',\n",
       "  '토마토 미트 파스타',\n",
       "  '반찬 계란말이',\n",
       "  '반찬 묵은지김치찌개',\n",
       "  '반찬 카레',\n",
       "  '반찬 순살 고등어데리야끼',\n",
       "  '반찬 김치 부대찌개',\n",
       "  '반찬 치킨',\n",
       "  '반찬 고기고기',\n",
       "  '반찬 돈까스 도련님',\n",
       "  '반찬 제육볶음',\n",
       "  '반찬 토네이도 소세지',\n",
       "  '반찬 반달돈까스',\n",
       "  '뉴 감자고로케',\n",
       "  '미니 찹쌀핫도그',\n",
       "  '미니 찹쌀탕수육',\n",
       "  '케이준후라이',\n",
       "  '고메이 크림 고로케',\n",
       "  '후라이드 순살(소)_스리라차마요소스',\n",
       "  '후라이드 순살(중)',\n",
       "  '후라이드 순살(소)_양념치킨소스',\n",
       "  '후라이드 순살(소)_케이준소스',\n",
       "  '오리지널 닭강정(중)',\n",
       "  '오리지널 닭강정(소)',\n",
       "  '무생채',\n",
       "  '열무김치',\n",
       "  '오징어젓갈',\n",
       "  '한솥 두부강된장소스',\n",
       "  '한솥 감초볶음고추장소스',\n",
       "  '볶음김치',\n",
       "  '김치',\n",
       "  '무말랭이 무침',\n",
       "  '한솥밥',\n",
       "  '현미밥',\n",
       "  '리얼 티라미수 찰떡',\n",
       "  '리얼꿀 미니호떡'],\n",
       " '가격': ['5,200',\n",
       "  '4,800',\n",
       "  '6,500',\n",
       "  '6,500',\n",
       "  '5,900',\n",
       "  '5,900',\n",
       "  '10,000',\n",
       "  '7,500',\n",
       "  '8,000',\n",
       "  '6,000',\n",
       "  '5,800',\n",
       "  '6,700',\n",
       "  '5,800',\n",
       "  '6,900',\n",
       "  '6,500',\n",
       "  '5,400',\n",
       "  '7,000',\n",
       "  '4,200',\n",
       "  '5,800',\n",
       "  '4,700',\n",
       "  '4,500',\n",
       "  '4,200',\n",
       "  '4,900',\n",
       "  '8,200',\n",
       "  '8,500',\n",
       "  '8,500',\n",
       "  '7,500',\n",
       "  '6,900',\n",
       "  '7,000',\n",
       "  '6,500',\n",
       "  '5,600',\n",
       "  '3,700',\n",
       "  '5,800',\n",
       "  '4,800',\n",
       "  '4,100',\n",
       "  '3,500',\n",
       "  '3,200',\n",
       "  '3,800',\n",
       "  '4,500',\n",
       "  '4,700',\n",
       "  '3,900',\n",
       "  '4,500',\n",
       "  '4,700',\n",
       "  '6,000',\n",
       "  '4,500',\n",
       "  '5,800',\n",
       "  '5,900',\n",
       "  '5,000',\n",
       "  '5,900',\n",
       "  '4,100',\n",
       "  '4,000',\n",
       "  '4,500',\n",
       "  '4,900',\n",
       "  '5,200',\n",
       "  '5,000',\n",
       "  '3,300',\n",
       "  '5,000',\n",
       "  '5,500',\n",
       "  '5,500',\n",
       "  '4,500',\n",
       "  '2,500',\n",
       "  '4,000',\n",
       "  '2,800',\n",
       "  '3,600',\n",
       "  '4,500',\n",
       "  '3,600',\n",
       "  '3,400',\n",
       "  '3,800',\n",
       "  '3,200',\n",
       "  '2,600',\n",
       "  '2,800',\n",
       "  '2,700',\n",
       "  '2,500',\n",
       "  '2,200',\n",
       "  '1,700',\n",
       "  '3,500',\n",
       "  '4,000',\n",
       "  '7,500',\n",
       "  '4,000',\n",
       "  '4,000',\n",
       "  '8,000',\n",
       "  '3,400',\n",
       "  '400',\n",
       "  '500',\n",
       "  '500',\n",
       "  '1,800',\n",
       "  '500',\n",
       "  '500',\n",
       "  '400',\n",
       "  '400',\n",
       "  '1,000',\n",
       "  '1,700',\n",
       "  '1,500',\n",
       "  '2,200']}"
      ]
     },
     "execution_count": 33,
     "metadata": {},
     "output_type": "execute_result"
    }
   ],
   "source": [
    "hdata = {'메뉴명': title_bs_list, '가격': price_bs_list}\n",
    "hdata"
   ]
  },
  {
   "cell_type": "code",
   "execution_count": 34,
   "metadata": {},
   "outputs": [
    {
     "data": {
      "text/html": [
       "<div>\n",
       "<style scoped>\n",
       "    .dataframe tbody tr th:only-of-type {\n",
       "        vertical-align: middle;\n",
       "    }\n",
       "\n",
       "    .dataframe tbody tr th {\n",
       "        vertical-align: top;\n",
       "    }\n",
       "\n",
       "    .dataframe thead th {\n",
       "        text-align: right;\n",
       "    }\n",
       "</style>\n",
       "<table border=\"1\" class=\"dataframe\">\n",
       "  <thead>\n",
       "    <tr style=\"text-align: right;\">\n",
       "      <th></th>\n",
       "      <th>메뉴명</th>\n",
       "      <th>가격</th>\n",
       "    </tr>\n",
       "  </thead>\n",
       "  <tbody>\n",
       "    <tr>\n",
       "      <th>0</th>\n",
       "      <td>데미햄버그 불고기 파스타</td>\n",
       "      <td>5,200</td>\n",
       "    </tr>\n",
       "    <tr>\n",
       "      <th>1</th>\n",
       "      <td>데미햄버그 불고기 덮밥</td>\n",
       "      <td>4,800</td>\n",
       "    </tr>\n",
       "    <tr>\n",
       "      <th>2</th>\n",
       "      <td>아보카도 게맛살 명란비빔밥</td>\n",
       "      <td>6,500</td>\n",
       "    </tr>\n",
       "    <tr>\n",
       "      <th>3</th>\n",
       "      <td>아보카도 소고기 명란비빔밥</td>\n",
       "      <td>6,500</td>\n",
       "    </tr>\n",
       "    <tr>\n",
       "      <th>4</th>\n",
       "      <td>핫 치즈 닭갈비덮밥</td>\n",
       "      <td>5,900</td>\n",
       "    </tr>\n",
       "    <tr>\n",
       "      <th>...</th>\n",
       "      <td>...</td>\n",
       "      <td>...</td>\n",
       "    </tr>\n",
       "    <tr>\n",
       "      <th>89</th>\n",
       "      <td>무말랭이 무침</td>\n",
       "      <td>400</td>\n",
       "    </tr>\n",
       "    <tr>\n",
       "      <th>90</th>\n",
       "      <td>한솥밥</td>\n",
       "      <td>1,000</td>\n",
       "    </tr>\n",
       "    <tr>\n",
       "      <th>91</th>\n",
       "      <td>현미밥</td>\n",
       "      <td>1,700</td>\n",
       "    </tr>\n",
       "    <tr>\n",
       "      <th>92</th>\n",
       "      <td>리얼 티라미수 찰떡</td>\n",
       "      <td>1,500</td>\n",
       "    </tr>\n",
       "    <tr>\n",
       "      <th>93</th>\n",
       "      <td>리얼꿀 미니호떡</td>\n",
       "      <td>2,200</td>\n",
       "    </tr>\n",
       "  </tbody>\n",
       "</table>\n",
       "<p>94 rows × 2 columns</p>\n",
       "</div>"
      ],
      "text/plain": [
       "               메뉴명     가격\n",
       "0    데미햄버그 불고기 파스타  5,200\n",
       "1     데미햄버그 불고기 덮밥  4,800\n",
       "2   아보카도 게맛살 명란비빔밥  6,500\n",
       "3   아보카도 소고기 명란비빔밥  6,500\n",
       "4       핫 치즈 닭갈비덮밥  5,900\n",
       "..             ...    ...\n",
       "89         무말랭이 무침    400\n",
       "90             한솥밥  1,000\n",
       "91             현미밥  1,700\n",
       "92      리얼 티라미수 찰떡  1,500\n",
       "93        리얼꿀 미니호떡  2,200\n",
       "\n",
       "[94 rows x 2 columns]"
      ]
     },
     "execution_count": 34,
     "metadata": {},
     "output_type": "execute_result"
    }
   ],
   "source": [
    "hsdb = pd.DataFrame(hdata)\n",
    "hsdb"
   ]
  },
  {
   "cell_type": "code",
   "execution_count": null,
   "metadata": {},
   "outputs": [],
   "source": []
  }
 ],
 "metadata": {
  "kernelspec": {
   "display_name": "Python 3.9.12 ('base')",
   "language": "python",
   "name": "python3"
  },
  "language_info": {
   "codemirror_mode": {
    "name": "ipython",
    "version": 3
   },
   "file_extension": ".py",
   "mimetype": "text/x-python",
   "name": "python",
   "nbconvert_exporter": "python",
   "pygments_lexer": "ipython3",
   "version": "3.9.12"
  },
  "orig_nbformat": 4,
  "vscode": {
   "interpreter": {
    "hash": "39a34cc34fa105d8ec3534aa54504572aead214367e412b05dc49f32cf35b4ec"
   }
  }
 },
 "nbformat": 4,
 "nbformat_minor": 2
}
