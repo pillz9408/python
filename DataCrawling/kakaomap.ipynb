{
 "cells": [
  {
   "cell_type": "markdown",
   "metadata": {},
   "source": [
    "# 카카오맵\n",
    " - 장소, 별점 수집\n",
    " - kakaomap 에 키워드 넣어 검색하기\n",
    " - 장소 ,이름, 별점 수집\n",
    " "
   ]
  },
  {
   "cell_type": "code",
   "execution_count": 10,
   "metadata": {},
   "outputs": [],
   "source": [
    "from selenium import webdriver\n",
    "from webdriver_manager.chrome import ChromeDriverManager\n",
    "import pandas as pd\n",
    "import time\n",
    "from tqdm.notebook import tqdm\n",
    "from selenium.webdriver.common.keys import Keys\n",
    "from bs4 import BeautifulSoup as bs\n",
    "import requests as req\n",
    "from selenium.webdriver.common.action_chains import ActionChains\n"
   ]
  },
  {
   "cell_type": "code",
   "execution_count": 11,
   "metadata": {},
   "outputs": [],
   "source": [
    "driver = webdriver.Chrome(ChromeDriverManager().install())"
   ]
  },
  {
   "cell_type": "code",
   "execution_count": 12,
   "metadata": {},
   "outputs": [],
   "source": [
    "driver.get('https://map.kakao.com/')\n",
    "driver.maximize_window()"
   ]
  },
  {
   "cell_type": "code",
   "execution_count": 13,
   "metadata": {},
   "outputs": [],
   "source": [
    "click_blue = driver.find_element_by_css_selector('body > div.coach_layer.coach_layer_type1 > div > div > div')\n",
    "click_blue.click()"
   ]
  },
  {
   "cell_type": "code",
   "execution_count": 14,
   "metadata": {},
   "outputs": [],
   "source": [
    "actions = ActionChains(driver)\n",
    "search = driver.find_element_by_xpath('//*[@id=\"search.keyword.query\"]')\n",
    "search.send_keys('총신대입구역 치킨집')\n",
    "search.send_keys(Keys.ENTER)\n",
    "time.sleep(2)\n",
    "more = driver.find_element_by_xpath('//*[@id=\"info.search.place.more\"]')\n",
    "actions.move_to_element(more)\n",
    "actions.click(more)\n",
    "actions.perform()\n",
    "time.sleep(2)"
   ]
  },
  {
   "cell_type": "code",
   "execution_count": 15,
   "metadata": {},
   "outputs": [],
   "source": [
    "name_list = []\n",
    "star_list = []\n",
    "\n",
    "while True:\n",
    "    try:\n",
    "        for i in range(1,6):\n",
    "            page = driver.find_element_by_xpath('//*[@id=\"info.search.page.no{}\"]'.format(i))\n",
    "            page.click()\n",
    "            time.sleep(2)\n",
    "            name = driver.find_elements_by_css_selector('strong.tit_name > a.link_name')\n",
    "            star = driver.find_elements_by_css_selector('span.score > em')\n",
    "            for i in name:\n",
    "                name_list.append(i.text)\n",
    "            for i in star:\n",
    "                star_list.append(i.text) \n",
    "                \n",
    "            time.sleep(2)\n",
    "        more = driver.find_element_by_css_selector('#info\\.search\\.page\\.next')\n",
    "        more.click()\n",
    "        time.sleep(2)\n",
    "    except:\n",
    "        break\n",
    "\n"
   ]
  },
  {
   "cell_type": "code",
   "execution_count": 16,
   "metadata": {},
   "outputs": [],
   "source": [
    "data = {'상호명': name_list, '별점': star_list}"
   ]
  },
  {
   "cell_type": "code",
   "execution_count": 19,
   "metadata": {},
   "outputs": [
    {
     "data": {
      "text/html": [
       "<div>\n",
       "<style scoped>\n",
       "    .dataframe tbody tr th:only-of-type {\n",
       "        vertical-align: middle;\n",
       "    }\n",
       "\n",
       "    .dataframe tbody tr th {\n",
       "        vertical-align: top;\n",
       "    }\n",
       "\n",
       "    .dataframe thead th {\n",
       "        text-align: right;\n",
       "    }\n",
       "</style>\n",
       "<table border=\"1\" class=\"dataframe\">\n",
       "  <thead>\n",
       "    <tr style=\"text-align: right;\">\n",
       "      <th></th>\n",
       "      <th>상호명</th>\n",
       "      <th>별점</th>\n",
       "    </tr>\n",
       "  </thead>\n",
       "  <tbody>\n",
       "    <tr>\n",
       "      <th>0</th>\n",
       "      <td>이수통닭 본점</td>\n",
       "      <td>3.0</td>\n",
       "    </tr>\n",
       "    <tr>\n",
       "      <th>1</th>\n",
       "      <td>영풍치킨 사당본점</td>\n",
       "      <td>2.9</td>\n",
       "    </tr>\n",
       "    <tr>\n",
       "      <th>2</th>\n",
       "      <td>양계장집아들 방배본점</td>\n",
       "      <td>2.3</td>\n",
       "    </tr>\n",
       "    <tr>\n",
       "      <th>3</th>\n",
       "      <td>BHC치킨 이수점</td>\n",
       "      <td>2.1</td>\n",
       "    </tr>\n",
       "    <tr>\n",
       "      <th>4</th>\n",
       "      <td>누룽지통닭굼터</td>\n",
       "      <td>4.4</td>\n",
       "    </tr>\n",
       "    <tr>\n",
       "      <th>...</th>\n",
       "      <td>...</td>\n",
       "      <td>...</td>\n",
       "    </tr>\n",
       "    <tr>\n",
       "      <th>150</th>\n",
       "      <td>유유숯불바베큐</td>\n",
       "      <td>0.0</td>\n",
       "    </tr>\n",
       "    <tr>\n",
       "      <th>151</th>\n",
       "      <td>또래오래 낙성대점</td>\n",
       "      <td>5.0</td>\n",
       "    </tr>\n",
       "    <tr>\n",
       "      <th>152</th>\n",
       "      <td>소프트치킨</td>\n",
       "      <td>5.0</td>\n",
       "    </tr>\n",
       "    <tr>\n",
       "      <th>153</th>\n",
       "      <td>치킨&amp;곱창</td>\n",
       "      <td>4.0</td>\n",
       "    </tr>\n",
       "    <tr>\n",
       "      <th>154</th>\n",
       "      <td>나라라파닭치킨 인헌동점</td>\n",
       "      <td>0.0</td>\n",
       "    </tr>\n",
       "  </tbody>\n",
       "</table>\n",
       "<p>155 rows × 2 columns</p>\n",
       "</div>"
      ],
      "text/plain": [
       "              상호명   별점\n",
       "0         이수통닭 본점  3.0\n",
       "1       영풍치킨 사당본점  2.9\n",
       "2     양계장집아들 방배본점  2.3\n",
       "3       BHC치킨 이수점  2.1\n",
       "4         누룽지통닭굼터  4.4\n",
       "..            ...  ...\n",
       "150       유유숯불바베큐  0.0\n",
       "151     또래오래 낙성대점  5.0\n",
       "152         소프트치킨  5.0\n",
       "153         치킨&곱창  4.0\n",
       "154  나라라파닭치킨 인헌동점  0.0\n",
       "\n",
       "[155 rows x 2 columns]"
      ]
     },
     "execution_count": 19,
     "metadata": {},
     "output_type": "execute_result"
    }
   ],
   "source": [
    "mapdata = pd.DataFrame(data)\n",
    "mapdata"
   ]
  },
  {
   "cell_type": "code",
   "execution_count": 18,
   "metadata": {},
   "outputs": [],
   "source": [
    "# mapdata.to_excel('총신대역치킨집.xlsx', encoding = 'utf-8-star')"
   ]
  }
 ],
 "metadata": {
  "kernelspec": {
   "display_name": "Python 3.9.12 ('base')",
   "language": "python",
   "name": "python3"
  },
  "language_info": {
   "codemirror_mode": {
    "name": "ipython",
    "version": 3
   },
   "file_extension": ".py",
   "mimetype": "text/x-python",
   "name": "python",
   "nbconvert_exporter": "python",
   "pygments_lexer": "ipython3",
   "version": "3.9.12"
  },
  "orig_nbformat": 4,
  "vscode": {
   "interpreter": {
    "hash": "39a34cc34fa105d8ec3534aa54504572aead214367e412b05dc49f32cf35b4ec"
   }
  }
 },
 "nbformat": 4,
 "nbformat_minor": 2
}
