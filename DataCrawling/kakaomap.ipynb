{
 "cells": [
  {
   "cell_type": "markdown",
   "metadata": {},
   "source": [
    "# 카카오맵\n",
    " - 장소, 별점 수집\n",
    " - kakaomap 에 키워드 넣어 검색하기\n",
    " - 장소 ,이름, 별점 수집\n",
    " "
   ]
  },
  {
   "cell_type": "code",
   "execution_count": 201,
   "metadata": {},
   "outputs": [],
   "source": [
    "from selenium import webdriver\n",
    "from webdriver_manager.chrome import ChromeDriverManager\n",
    "import pandas as pd\n",
    "import time\n",
    "from tqdm.notebook import tqdm\n",
    "from selenium.webdriver.common.keys import Keys\n",
    "from bs4 import BeautifulSoup as bs\n",
    "import requests as req\n",
    "from selenium.webdriver.common.action_chains import ActionChains\n",
    "from selenium.webdriver.common.keys import Keys"
   ]
  },
  {
   "cell_type": "code",
   "execution_count": 202,
   "metadata": {},
   "outputs": [],
   "source": [
    "driver = webdriver.Chrome(ChromeDriverManager().install())"
   ]
  },
  {
   "cell_type": "code",
   "execution_count": 203,
   "metadata": {},
   "outputs": [],
   "source": [
    "driver.get('https://map.kakao.com/')\n",
    "driver.maximize_window()"
   ]
  },
  {
   "cell_type": "code",
   "execution_count": 204,
   "metadata": {},
   "outputs": [],
   "source": [
    "click_blue = driver.find_element_by_css_selector('body > div.coach_layer.coach_layer_type1 > div > div > div')\n",
    "click_blue.click()"
   ]
  },
  {
   "cell_type": "code",
   "execution_count": 205,
   "metadata": {},
   "outputs": [],
   "source": [
    "actions = ActionChains(driver)\n",
    "search = driver.find_element_by_xpath('//*[@id=\"search.keyword.query\"]')\n",
    "search.send_keys('총신대입구역 치킨집')\n",
    "search.send_keys(Keys.ENTER)\n",
    "time.sleep(2)\n",
    "more = driver.find_element_by_xpath('//*[@id=\"info.search.place.more\"]')\n",
    "actions.move_to_element(more)\n",
    "actions.click(more)\n",
    "actions.perform()\n",
    "time.sleep(2)"
   ]
  },
  {
   "cell_type": "code",
   "execution_count": 206,
   "metadata": {},
   "outputs": [],
   "source": [
    "name_list = []\n",
    "star_list = []\n",
    "\n",
    "while True:\n",
    "    try:\n",
    "        for i in range(1,6):\n",
    "            page = driver.find_element_by_xpath('//*[@id=\"info.search.page.no{}\"]'.format(i))\n",
    "            page.click()\n",
    "            time.sleep(2)\n",
    "            name = driver.find_elements_by_css_selector('strong.tit_name > a.link_name')\n",
    "            star = driver.find_elements_by_css_selector('span.score > em')\n",
    "            for i in name:\n",
    "                name_list.append(i.text)\n",
    "            for i in star:\n",
    "                star_list.append(i.text) \n",
    "                \n",
    "            time.sleep(2)\n",
    "        more = driver.find_element_by_css_selector('#info\\.search\\.page\\.next')\n",
    "        more.click()\n",
    "    except:\n",
    "        break\n",
    "\n"
   ]
  },
  {
   "cell_type": "code",
   "execution_count": 207,
   "metadata": {},
   "outputs": [],
   "source": [
    "data = {'상호명': name_list, '별점': star_list}"
   ]
  },
  {
   "cell_type": "code",
   "execution_count": 208,
   "metadata": {},
   "outputs": [],
   "source": [
    "mapdata = pd.DataFrame(data)"
   ]
  },
  {
   "cell_type": "code",
   "execution_count": 209,
   "metadata": {},
   "outputs": [],
   "source": [
    "mapdata.to_excel('총신대역치킨집.xlsx', encoding = 'utf-8-star')"
   ]
  }
 ],
 "metadata": {
  "kernelspec": {
   "display_name": "Python 3.9.12 ('base')",
   "language": "python",
   "name": "python3"
  },
  "language_info": {
   "codemirror_mode": {
    "name": "ipython",
    "version": 3
   },
   "file_extension": ".py",
   "mimetype": "text/x-python",
   "name": "python",
   "nbconvert_exporter": "python",
   "pygments_lexer": "ipython3",
   "version": "3.9.12"
  },
  "orig_nbformat": 4,
  "vscode": {
   "interpreter": {
    "hash": "39a34cc34fa105d8ec3534aa54504572aead214367e412b05dc49f32cf35b4ec"
   }
  }
 },
 "nbformat": 4,
 "nbformat_minor": 2
}
